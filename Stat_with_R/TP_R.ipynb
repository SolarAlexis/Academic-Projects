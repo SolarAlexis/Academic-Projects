{
 "cells": [
  {
   "cell_type": "markdown",
   "id": "cd0517e1-a228-4cd0-84c1-bcf7e0dc775d",
   "metadata": {},
   "source": [
    "## Evaluated TP, SOLAR Alexis"
   ]
  },
  {
   "cell_type": "code",
   "execution_count": 1,
   "id": "b21c36ae-77dd-4bf9-8dc5-76e6ddb7a5db",
   "metadata": {
    "tags": []
   },
   "outputs": [],
   "source": [
    "library(\"ggplot2\")\n",
    "library(\"gridExtra\")\n",
    "library(nortest)"
   ]
  },
  {
   "cell_type": "markdown",
   "id": "83b218ad-58bf-4dd2-a4e6-8d28560d2393",
   "metadata": {
    "tags": []
   },
   "source": [
    "# Part 1"
   ]
  },
  {
   "cell_type": "markdown",
   "id": "f6e14044-ce53-4188-9fae-a8fce88e1995",
   "metadata": {
    "tags": []
   },
   "source": [
    "## Exercice 1"
   ]
  },
  {
   "cell_type": "markdown",
   "id": "ec331f13-469d-4b7e-8a9b-1a15ec02b71d",
   "metadata": {},
   "source": [
    "## Question 1"
   ]
  },
  {
   "cell_type": "markdown",
   "id": "8f56ecd9-b3fd-46e3-ac07-6499e0a05be7",
   "metadata": {},
   "source": [
    "First, we start by creating a data frame in which we compute the Benford's Law density"
   ]
  },
  {
   "cell_type": "code",
   "execution_count": 2,
   "id": "e808dcf5-54f5-41f4-a52b-5025f04dc921",
   "metadata": {
    "tags": []
   },
   "outputs": [],
   "source": [
    "# different values that the law can take\n",
    "x = c(1,2,3,4,5,6,7,8,9)\n",
    "\n",
    "# definition of the function of the density\n",
    "Benford = function(n){\n",
    "    return(log((n+1)/n) / log(10))\n",
    "}\n",
    "\n",
    "# we compute the different values of pi and put it in a data frame\n",
    "compt = 1\n",
    "y = c()\n",
    "while(compt <= length(x)){\n",
    "    y = c(y,c(Benford(x[compt])))\n",
    "    compt = compt + 1\n",
    "}\n",
    "\n",
    "df = data.frame(y=y)"
   ]
  },
  {
   "cell_type": "code",
   "execution_count": 3,
   "id": "2309861a-c8d4-4522-9fbe-5fd863f37366",
   "metadata": {
    "tags": []
   },
   "outputs": [
    {
     "data": {
      "image/png": "[encoded data removed]",
      "text/plain": [
       "plot without title"
      ]
     },
     "metadata": {
      "image/png": {
       "height": 420,
       "width": 600
      }
     },
     "output_type": "display_data"
    }
   ],
   "source": [
    "options(repr.plot.width=10, repr.plot.height=7)\n",
    "\n",
    "ggplot(data=df, aes(x=x, y=y)) + geom_bar(stat=\"identity\") + ggtitle(\"Benford's Law\") + ylab(\"pi\") + scale_x_continuous(breaks = 1:9)"
   ]
  },
  {
   "cell_type": "markdown",
   "id": "1cfb82ff-175c-4fea-a1d2-03c81777153b",
   "metadata": {
    "tags": []
   },
   "source": [
    "## Question 2"
   ]
  },
  {
   "cell_type": "code",
   "execution_count": 4,
   "id": "4af9afa8-d5d1-4bd0-b344-0fb6dbfc7909",
   "metadata": {
    "tags": []
   },
   "outputs": [
    {
     "data": {
      "text/html": [
       "<table class=\"dataframe\">\n",
       "<caption>A data.frame: 6 × 11</caption>\n",
       "<thead>\n",
       "\t<tr><th></th><th scope=col>X</th><th scope=col>year</th><th scope=col>length</th><th scope=col>budget</th><th scope=col>rating</th><th scope=col>Action</th><th scope=col>Animation</th><th scope=col>Comedy</th><th scope=col>Drama</th><th scope=col>Documentary</th><th scope=col>Romance</th></tr>\n",
       "\t<tr><th></th><th scope=col>&lt;int&gt;</th><th scope=col>&lt;int&gt;</th><th scope=col>&lt;int&gt;</th><th scope=col>&lt;int&gt;</th><th scope=col>&lt;dbl&gt;</th><th scope=col>&lt;int&gt;</th><th scope=col>&lt;int&gt;</th><th scope=col>&lt;int&gt;</th><th scope=col>&lt;int&gt;</th><th scope=col>&lt;int&gt;</th><th scope=col>&lt;int&gt;</th></tr>\n",
       "</thead>\n",
       "<tbody>\n",
       "\t<tr><th scope=row>1</th><td>1</td><td>1971</td><td>121</td><td>NA</td><td>6.4</td><td>0</td><td>0</td><td>1</td><td>1</td><td>0</td><td>0</td></tr>\n",
       "\t<tr><th scope=row>2</th><td>2</td><td>1939</td><td> 71</td><td>NA</td><td>6.0</td><td>0</td><td>0</td><td>1</td><td>0</td><td>0</td><td>0</td></tr>\n",
       "\t<tr><th scope=row>3</th><td>3</td><td>1941</td><td>  7</td><td>NA</td><td>8.2</td><td>0</td><td>1</td><td>0</td><td>0</td><td>0</td><td>0</td></tr>\n",
       "\t<tr><th scope=row>4</th><td>4</td><td>1996</td><td> 70</td><td>NA</td><td>8.2</td><td>0</td><td>0</td><td>1</td><td>0</td><td>0</td><td>0</td></tr>\n",
       "\t<tr><th scope=row>5</th><td>5</td><td>1975</td><td> 71</td><td>NA</td><td>3.4</td><td>0</td><td>0</td><td>0</td><td>0</td><td>0</td><td>0</td></tr>\n",
       "\t<tr><th scope=row>6</th><td>6</td><td>2000</td><td> 91</td><td>NA</td><td>4.3</td><td>0</td><td>0</td><td>0</td><td>1</td><td>0</td><td>0</td></tr>\n",
       "</tbody>\n",
       "</table>\n"
      ],
      "text/latex": [
       "A data.frame: 6 × 11\n",
       "\\begin{tabular}{r|lllllllllll}\n",
       "  & X & year & length & budget & rating & Action & Animation & Comedy & Drama & Documentary & Romance\\\\\n",
       "  & <int> & <int> & <int> & <int> & <dbl> & <int> & <int> & <int> & <int> & <int> & <int>\\\\\n",
       "\\hline\n",
       "\t1 & 1 & 1971 & 121 & NA & 6.4 & 0 & 0 & 1 & 1 & 0 & 0\\\\\n",
       "\t2 & 2 & 1939 &  71 & NA & 6.0 & 0 & 0 & 1 & 0 & 0 & 0\\\\\n",
       "\t3 & 3 & 1941 &   7 & NA & 8.2 & 0 & 1 & 0 & 0 & 0 & 0\\\\\n",
       "\t4 & 4 & 1996 &  70 & NA & 8.2 & 0 & 0 & 1 & 0 & 0 & 0\\\\\n",
       "\t5 & 5 & 1975 &  71 & NA & 3.4 & 0 & 0 & 0 & 0 & 0 & 0\\\\\n",
       "\t6 & 6 & 2000 &  91 & NA & 4.3 & 0 & 0 & 0 & 1 & 0 & 0\\\\\n",
       "\\end{tabular}\n"
      ],
      "text/markdown": [
       "\n",
       "A data.frame: 6 × 11\n",
       "\n",
       "| <!--/--> | X &lt;int&gt; | year &lt;int&gt; | length &lt;int&gt; | budget &lt;int&gt; | rating &lt;dbl&gt; | Action &lt;int&gt; | Animation &lt;int&gt; | Comedy &lt;int&gt; | Drama &lt;int&gt; | Documentary &lt;int&gt; | Romance &lt;int&gt; |\n",
       "|---|---|---|---|---|---|---|---|---|---|---|---|\n",
       "| 1 | 1 | 1971 | 121 | NA | 6.4 | 0 | 0 | 1 | 1 | 0 | 0 |\n",
       "| 2 | 2 | 1939 |  71 | NA | 6.0 | 0 | 0 | 1 | 0 | 0 | 0 |\n",
       "| 3 | 3 | 1941 |   7 | NA | 8.2 | 0 | 1 | 0 | 0 | 0 | 0 |\n",
       "| 4 | 4 | 1996 |  70 | NA | 8.2 | 0 | 0 | 1 | 0 | 0 | 0 |\n",
       "| 5 | 5 | 1975 |  71 | NA | 3.4 | 0 | 0 | 0 | 0 | 0 | 0 |\n",
       "| 6 | 6 | 2000 |  91 | NA | 4.3 | 0 | 0 | 0 | 1 | 0 | 0 |\n",
       "\n"
      ],
      "text/plain": [
       "  X year length budget rating Action Animation Comedy Drama Documentary Romance\n",
       "1 1 1971 121    NA     6.4    0      0         1      1     0           0      \n",
       "2 2 1939  71    NA     6.0    0      0         1      0     0           0      \n",
       "3 3 1941   7    NA     8.2    0      1         0      0     0           0      \n",
       "4 4 1996  70    NA     8.2    0      0         1      0     0           0      \n",
       "5 5 1975  71    NA     3.4    0      0         0      0     0           0      \n",
       "6 6 2000  91    NA     4.3    0      0         0      1     0           0      "
      ]
     },
     "metadata": {},
     "output_type": "display_data"
    }
   ],
   "source": [
    "# we load the data\n",
    "movies <- read.table(file='Movies.csv',header=TRUE,sep=\";\", dec=',')\n",
    "head(movies)"
   ]
  },
  {
   "cell_type": "markdown",
   "id": "4714c864-7128-43a7-b636-504bbf7b2bd3",
   "metadata": {},
   "source": [
    "Then we only take values from the column budget that are different from NA or 0"
   ]
  },
  {
   "cell_type": "code",
   "execution_count": 5,
   "id": "b6ded573-102f-4122-9b98-565857162ecc",
   "metadata": {
    "tags": []
   },
   "outputs": [],
   "source": [
    "values = movies$budget[!is.na(movies$budget) & movies$budget>0]"
   ]
  },
  {
   "cell_type": "markdown",
   "id": "677726b0-9bff-433c-9d71-1e2541ef39fd",
   "metadata": {},
   "source": [
    "then we define the function first_digit to get the first digit of a number"
   ]
  },
  {
   "cell_type": "code",
   "execution_count": 6,
   "id": "50813c0f-9dcb-4027-965b-90fcdf665ec5",
   "metadata": {
    "tags": []
   },
   "outputs": [],
   "source": [
    "first_digit=function(n){\n",
    "fd=0\n",
    "compt=0\n",
    "while(is.na(fd)||fd==0)\n",
    "{\n",
    "compt=compt+1\n",
    "fd=as.integer(substr(as.character(n),compt,compt))\n",
    "}\n",
    "return(fd)\n",
    "}"
   ]
  },
  {
   "cell_type": "markdown",
   "id": "be72a02f-f5cf-4c3c-b17b-677072ed2940",
   "metadata": {},
   "source": [
    "Now, we can use this function to get the first digit of each number in values and represent their proportion in a barplot"
   ]
  },
  {
   "cell_type": "code",
   "execution_count": 7,
   "id": "86791d37-357f-4b35-b18d-7e1d052bfd68",
   "metadata": {
    "tags": []
   },
   "outputs": [],
   "source": [
    "compt = 1\n",
    "res = c()\n",
    "while(compt <= length(values)){\n",
    "    res = c(res,c(first_digit(values[compt])))\n",
    "    compt = compt + 1\n",
    "}"
   ]
  },
  {
   "cell_type": "code",
   "execution_count": 8,
   "id": "7ce1f9e0-a8d9-4359-9411-c014c38064cc",
   "metadata": {
    "tags": []
   },
   "outputs": [
    {
     "data": {
      "image/png": "[encoded data removed]",
      "text/plain": [
       "plot without title"
      ]
     },
     "metadata": {
      "image/png": {
       "height": 420,
       "width": 600
      }
     },
     "output_type": "display_data"
    }
   ],
   "source": [
    "budget_density = table(res)/length(res)\n",
    "barplot(budget_density)"
   ]
  },
  {
   "cell_type": "markdown",
   "id": "c05c8575-a408-4919-b22c-889f2524d1e3",
   "metadata": {},
   "source": [
    "We can now compare the two barplots"
   ]
  },
  {
   "cell_type": "code",
   "execution_count": 9,
   "id": "73157d77-68fd-420e-9196-ab5758c98b4f",
   "metadata": {
    "tags": []
   },
   "outputs": [],
   "source": [
    "compt = 1\n",
    "Benford_density = budget_density\n",
    "while(compt <= length(budget_density)){\n",
    "    Benford_density[compt] = y[compt]\n",
    "    compt = compt + 1\n",
    "}"
   ]
  },
  {
   "cell_type": "code",
   "execution_count": 10,
   "id": "a583ba94-586e-4eb2-868b-8e9f8de2a638",
   "metadata": {
    "tags": []
   },
   "outputs": [
    {
     "data": {
      "image/png": "[encoded data removed]",
      "text/plain": [
       "Plot with title “budget density”"
      ]
     },
     "metadata": {
      "image/png": {
       "height": 420,
       "width": 600
      }
     },
     "output_type": "display_data"
    }
   ],
   "source": [
    "par(mfrow=c(1,2))\n",
    "barplot(Benford_density, main=\"Benford's Law\")\n",
    "barplot(budget_density,main=\"budget density\")"
   ]
  },
  {
   "cell_type": "markdown",
   "id": "3eaec450-6d5e-4e3a-8859-3f188f16acca",
   "metadata": {},
   "source": [
    "They seems de be similar graphically but we also remark that it doesn't fit perfectly while the amount of data is consequent."
   ]
  },
  {
   "cell_type": "markdown",
   "id": "5f810eb7-5516-4b89-b1f9-a5d422073291",
   "metadata": {},
   "source": [
    "## Question 3"
   ]
  },
  {
   "cell_type": "markdown",
   "id": "10c7522d-971e-4eda-9887-c0440b8a96d0",
   "metadata": {},
   "source": [
    "We want to know if we can consider that the budget density follows a Benford's law"
   ]
  },
  {
   "cell_type": "markdown",
   "id": "7e415ee0-f730-4e54-85fb-306a5804d3e3",
   "metadata": {},
   "source": [
    "To do that, we can do a $\\chi^2$ test, that is asymptotic, to verify the adaquation of our data to Benford's law"
   ]
  },
  {
   "cell_type": "markdown",
   "id": "46486c78-d7e2-4016-9e18-37f7f73f9f9a",
   "metadata": {
    "tags": []
   },
   "source": [
    "Here we test $H_0$: \"the budget density follows a Benford's law\" against $H_1$: \"the budget density doesn't follow a Benford's law\""
   ]
  },
  {
   "cell_type": "code",
   "execution_count": 11,
   "id": "1932e09e-2fbc-4a74-a917-5d4bfe0675bd",
   "metadata": {
    "tags": []
   },
   "outputs": [
    {
     "data": {
      "text/plain": [
       "res\n",
       "   1    2    3    4    5    6    7    8    9 \n",
       "1528  900  686  456  502  365  314  257  175 "
      ]
     },
     "metadata": {},
     "output_type": "display_data"
    },
    {
     "data": {
      "text/plain": [
       "\n",
       "\tChi-squared test for given probabilities\n",
       "\n",
       "data:  table(res)\n",
       "X-squared = 45.913, df = 8, p-value = 2.469e-07\n"
      ]
     },
     "metadata": {},
     "output_type": "display_data"
    }
   ],
   "source": [
    "table(res)\n",
    "chisq.test(x = table(res), p = y)"
   ]
  },
  {
   "cell_type": "markdown",
   "id": "fa21293d-b735-48b6-96c4-02d6f5140b22",
   "metadata": {},
   "source": [
    "The p-value is very low so we reject $H_0$ and accept $H_1$ with a risk $\\alpha = 5\\%$"
   ]
  },
  {
   "cell_type": "markdown",
   "id": "c1ac097b-2d8b-4784-b5a4-de98d82a221c",
   "metadata": {},
   "source": [
    "We can conclude that the first digits in the column budget don't follow a Benford's law"
   ]
  },
  {
   "cell_type": "markdown",
   "id": "017d7b68-1b94-4868-af3c-da3f910d18e9",
   "metadata": {},
   "source": [
    "## Exercice 2"
   ]
  },
  {
   "cell_type": "markdown",
   "id": "97a80866-521e-4490-8830-1158b0e778c4",
   "metadata": {},
   "source": [
    "## Question 1"
   ]
  },
  {
   "cell_type": "code",
   "execution_count": 12,
   "id": "023c1f05-c119-4200-add9-e4cc2d89adcf",
   "metadata": {
    "tags": []
   },
   "outputs": [
    {
     "data": {
      "text/html": [
       "<table class=\"dataframe\">\n",
       "<caption>A data.frame: 6 × 12</caption>\n",
       "<thead>\n",
       "\t<tr><th></th><th scope=col>X</th><th scope=col>year</th><th scope=col>length</th><th scope=col>budget</th><th scope=col>rating</th><th scope=col>Action</th><th scope=col>Animation</th><th scope=col>Comedy</th><th scope=col>Drama</th><th scope=col>Documentary</th><th scope=col>Romance</th><th scope=col>duree</th></tr>\n",
       "\t<tr><th></th><th scope=col>&lt;int&gt;</th><th scope=col>&lt;int&gt;</th><th scope=col>&lt;int&gt;</th><th scope=col>&lt;int&gt;</th><th scope=col>&lt;dbl&gt;</th><th scope=col>&lt;int&gt;</th><th scope=col>&lt;int&gt;</th><th scope=col>&lt;int&gt;</th><th scope=col>&lt;int&gt;</th><th scope=col>&lt;int&gt;</th><th scope=col>&lt;int&gt;</th><th scope=col>&lt;chr&gt;</th></tr>\n",
       "</thead>\n",
       "<tbody>\n",
       "\t<tr><th scope=row>1</th><td>1</td><td>1971</td><td>121</td><td>NA</td><td>6.4</td><td>0</td><td>0</td><td>1</td><td>1</td><td>0</td><td>0</td><td>Long </td></tr>\n",
       "\t<tr><th scope=row>2</th><td>2</td><td>1939</td><td> 71</td><td>NA</td><td>6.0</td><td>0</td><td>0</td><td>1</td><td>0</td><td>0</td><td>0</td><td>Court</td></tr>\n",
       "\t<tr><th scope=row>3</th><td>3</td><td>1941</td><td>  7</td><td>NA</td><td>8.2</td><td>0</td><td>1</td><td>0</td><td>0</td><td>0</td><td>0</td><td>Court</td></tr>\n",
       "\t<tr><th scope=row>4</th><td>4</td><td>1996</td><td> 70</td><td>NA</td><td>8.2</td><td>0</td><td>0</td><td>1</td><td>0</td><td>0</td><td>0</td><td>Court</td></tr>\n",
       "\t<tr><th scope=row>5</th><td>5</td><td>1975</td><td> 71</td><td>NA</td><td>3.4</td><td>0</td><td>0</td><td>0</td><td>0</td><td>0</td><td>0</td><td>Court</td></tr>\n",
       "\t<tr><th scope=row>6</th><td>6</td><td>2000</td><td> 91</td><td>NA</td><td>4.3</td><td>0</td><td>0</td><td>0</td><td>1</td><td>0</td><td>0</td><td>Court</td></tr>\n",
       "</tbody>\n",
       "</table>\n"
      ],
      "text/latex": [
       "A data.frame: 6 × 12\n",
       "\\begin{tabular}{r|llllllllllll}\n",
       "  & X & year & length & budget & rating & Action & Animation & Comedy & Drama & Documentary & Romance & duree\\\\\n",
       "  & <int> & <int> & <int> & <int> & <dbl> & <int> & <int> & <int> & <int> & <int> & <int> & <chr>\\\\\n",
       "\\hline\n",
       "\t1 & 1 & 1971 & 121 & NA & 6.4 & 0 & 0 & 1 & 1 & 0 & 0 & Long \\\\\n",
       "\t2 & 2 & 1939 &  71 & NA & 6.0 & 0 & 0 & 1 & 0 & 0 & 0 & Court\\\\\n",
       "\t3 & 3 & 1941 &   7 & NA & 8.2 & 0 & 1 & 0 & 0 & 0 & 0 & Court\\\\\n",
       "\t4 & 4 & 1996 &  70 & NA & 8.2 & 0 & 0 & 1 & 0 & 0 & 0 & Court\\\\\n",
       "\t5 & 5 & 1975 &  71 & NA & 3.4 & 0 & 0 & 0 & 0 & 0 & 0 & Court\\\\\n",
       "\t6 & 6 & 2000 &  91 & NA & 4.3 & 0 & 0 & 0 & 1 & 0 & 0 & Court\\\\\n",
       "\\end{tabular}\n"
      ],
      "text/markdown": [
       "\n",
       "A data.frame: 6 × 12\n",
       "\n",
       "| <!--/--> | X &lt;int&gt; | year &lt;int&gt; | length &lt;int&gt; | budget &lt;int&gt; | rating &lt;dbl&gt; | Action &lt;int&gt; | Animation &lt;int&gt; | Comedy &lt;int&gt; | Drama &lt;int&gt; | Documentary &lt;int&gt; | Romance &lt;int&gt; | duree &lt;chr&gt; |\n",
       "|---|---|---|---|---|---|---|---|---|---|---|---|---|\n",
       "| 1 | 1 | 1971 | 121 | NA | 6.4 | 0 | 0 | 1 | 1 | 0 | 0 | Long  |\n",
       "| 2 | 2 | 1939 |  71 | NA | 6.0 | 0 | 0 | 1 | 0 | 0 | 0 | Court |\n",
       "| 3 | 3 | 1941 |   7 | NA | 8.2 | 0 | 1 | 0 | 0 | 0 | 0 | Court |\n",
       "| 4 | 4 | 1996 |  70 | NA | 8.2 | 0 | 0 | 1 | 0 | 0 | 0 | Court |\n",
       "| 5 | 5 | 1975 |  71 | NA | 3.4 | 0 | 0 | 0 | 0 | 0 | 0 | Court |\n",
       "| 6 | 6 | 2000 |  91 | NA | 4.3 | 0 | 0 | 0 | 1 | 0 | 0 | Court |\n",
       "\n"
      ],
      "text/plain": [
       "  X year length budget rating Action Animation Comedy Drama Documentary Romance\n",
       "1 1 1971 121    NA     6.4    0      0         1      1     0           0      \n",
       "2 2 1939  71    NA     6.0    0      0         1      0     0           0      \n",
       "3 3 1941   7    NA     8.2    0      1         0      0     0           0      \n",
       "4 4 1996  70    NA     8.2    0      0         1      0     0           0      \n",
       "5 5 1975  71    NA     3.4    0      0         0      0     0           0      \n",
       "6 6 2000  91    NA     4.3    0      0         0      1     0           0      \n",
       "  duree\n",
       "1 Long \n",
       "2 Court\n",
       "3 Court\n",
       "4 Court\n",
       "5 Court\n",
       "6 Court"
      ]
     },
     "metadata": {},
     "output_type": "display_data"
    }
   ],
   "source": [
    "movies$duree = ifelse(movies$length >= 120, \"Long\", \"Court\")\n",
    "\n",
    "head(movies)"
   ]
  },
  {
   "cell_type": "markdown",
   "id": "9f34d93f-9dea-44dc-8bad-7a7153dbdcb9",
   "metadata": {},
   "source": [
    "## Question 2"
   ]
  },
  {
   "cell_type": "code",
   "execution_count": 13,
   "id": "a0f1c2d1-3130-4309-a3a8-c6951408c6e3",
   "metadata": {
    "tags": []
   },
   "outputs": [
    {
     "data": {
      "image/png": "[encoded data removed]",
      "text/plain": [
       "plot without title"
      ]
     },
     "metadata": {
      "image/png": {
       "height": 420,
       "width": 600
      }
     },
     "output_type": "display_data"
    }
   ],
   "source": [
    "plot = ggplot(data = movies, aes(x = duree, y = rating)) + geom_boxplot() + ggtitle(\"rating of the film in fonction of its length\")\n",
    "plot"
   ]
  },
  {
   "cell_type": "markdown",
   "id": "c114cf16-6404-4778-abe0-ccc6f6598538",
   "metadata": {},
   "source": [
    "We observe that the rating seems to be better for a long film than a film that is short"
   ]
  },
  {
   "cell_type": "markdown",
   "id": "ff87e037-a3a8-42ca-9f5b-c3710e059b0a",
   "metadata": {},
   "source": [
    "## Question 3"
   ]
  },
  {
   "cell_type": "markdown",
   "id": "7b1afa27-39ed-450f-aa1c-7e31d1dca895",
   "metadata": {},
   "source": [
    "The variable duree is qualitative and the variable rating quantitative"
   ]
  },
  {
   "cell_type": "markdown",
   "id": "8a771521-1299-49c5-ad3a-c89178956c8a",
   "metadata": {},
   "source": [
    "To compare the effect of the variable duree on the rating of the film, we start by separating the two different categories of film"
   ]
  },
  {
   "cell_type": "code",
   "execution_count": 14,
   "id": "39e7e99d-9974-42cd-a797-86be6c364413",
   "metadata": {
    "tags": []
   },
   "outputs": [
    {
     "data": {
      "text/html": [
       "<table class=\"dataframe\">\n",
       "<caption>A data.frame: 6 × 12</caption>\n",
       "<thead>\n",
       "\t<tr><th></th><th scope=col>X</th><th scope=col>year</th><th scope=col>length</th><th scope=col>budget</th><th scope=col>rating</th><th scope=col>Action</th><th scope=col>Animation</th><th scope=col>Comedy</th><th scope=col>Drama</th><th scope=col>Documentary</th><th scope=col>Romance</th><th scope=col>duree</th></tr>\n",
       "\t<tr><th></th><th scope=col>&lt;int&gt;</th><th scope=col>&lt;int&gt;</th><th scope=col>&lt;int&gt;</th><th scope=col>&lt;int&gt;</th><th scope=col>&lt;dbl&gt;</th><th scope=col>&lt;int&gt;</th><th scope=col>&lt;int&gt;</th><th scope=col>&lt;int&gt;</th><th scope=col>&lt;int&gt;</th><th scope=col>&lt;int&gt;</th><th scope=col>&lt;int&gt;</th><th scope=col>&lt;chr&gt;</th></tr>\n",
       "</thead>\n",
       "<tbody>\n",
       "\t<tr><th scope=row>1</th><td>  1</td><td>1971</td><td>121</td><td>NA</td><td>6.4</td><td>0</td><td>0</td><td>1</td><td>1</td><td>0</td><td>0</td><td>Long</td></tr>\n",
       "\t<tr><th scope=row>32</th><td> 32</td><td>1987</td><td>140</td><td>NA</td><td>5.9</td><td>0</td><td>0</td><td>0</td><td>1</td><td>0</td><td>0</td><td>Long</td></tr>\n",
       "\t<tr><th scope=row>42</th><td> 42</td><td>1941</td><td>120</td><td>NA</td><td>7.2</td><td>0</td><td>0</td><td>0</td><td>1</td><td>0</td><td>0</td><td>Long</td></tr>\n",
       "\t<tr><th scope=row>44</th><td> 44</td><td>1986</td><td>133</td><td>NA</td><td>7.3</td><td>0</td><td>0</td><td>0</td><td>1</td><td>0</td><td>0</td><td>Long</td></tr>\n",
       "\t<tr><th scope=row>101</th><td>101</td><td>2002</td><td>155</td><td>NA</td><td>6.6</td><td>0</td><td>0</td><td>0</td><td>0</td><td>1</td><td>0</td><td>Long</td></tr>\n",
       "\t<tr><th scope=row>105</th><td>105</td><td>1960</td><td>125</td><td>NA</td><td>7.3</td><td>0</td><td>0</td><td>0</td><td>1</td><td>0</td><td>0</td><td>Long</td></tr>\n",
       "</tbody>\n",
       "</table>\n"
      ],
      "text/latex": [
       "A data.frame: 6 × 12\n",
       "\\begin{tabular}{r|llllllllllll}\n",
       "  & X & year & length & budget & rating & Action & Animation & Comedy & Drama & Documentary & Romance & duree\\\\\n",
       "  & <int> & <int> & <int> & <int> & <dbl> & <int> & <int> & <int> & <int> & <int> & <int> & <chr>\\\\\n",
       "\\hline\n",
       "\t1 &   1 & 1971 & 121 & NA & 6.4 & 0 & 0 & 1 & 1 & 0 & 0 & Long\\\\\n",
       "\t32 &  32 & 1987 & 140 & NA & 5.9 & 0 & 0 & 0 & 1 & 0 & 0 & Long\\\\\n",
       "\t42 &  42 & 1941 & 120 & NA & 7.2 & 0 & 0 & 0 & 1 & 0 & 0 & Long\\\\\n",
       "\t44 &  44 & 1986 & 133 & NA & 7.3 & 0 & 0 & 0 & 1 & 0 & 0 & Long\\\\\n",
       "\t101 & 101 & 2002 & 155 & NA & 6.6 & 0 & 0 & 0 & 0 & 1 & 0 & Long\\\\\n",
       "\t105 & 105 & 1960 & 125 & NA & 7.3 & 0 & 0 & 0 & 1 & 0 & 0 & Long\\\\\n",
       "\\end{tabular}\n"
      ],
      "text/markdown": [
       "\n",
       "A data.frame: 6 × 12\n",
       "\n",
       "| <!--/--> | X &lt;int&gt; | year &lt;int&gt; | length &lt;int&gt; | budget &lt;int&gt; | rating &lt;dbl&gt; | Action &lt;int&gt; | Animation &lt;int&gt; | Comedy &lt;int&gt; | Drama &lt;int&gt; | Documentary &lt;int&gt; | Romance &lt;int&gt; | duree &lt;chr&gt; |\n",
       "|---|---|---|---|---|---|---|---|---|---|---|---|---|\n",
       "| 1 |   1 | 1971 | 121 | NA | 6.4 | 0 | 0 | 1 | 1 | 0 | 0 | Long |\n",
       "| 32 |  32 | 1987 | 140 | NA | 5.9 | 0 | 0 | 0 | 1 | 0 | 0 | Long |\n",
       "| 42 |  42 | 1941 | 120 | NA | 7.2 | 0 | 0 | 0 | 1 | 0 | 0 | Long |\n",
       "| 44 |  44 | 1986 | 133 | NA | 7.3 | 0 | 0 | 0 | 1 | 0 | 0 | Long |\n",
       "| 101 | 101 | 2002 | 155 | NA | 6.6 | 0 | 0 | 0 | 0 | 1 | 0 | Long |\n",
       "| 105 | 105 | 1960 | 125 | NA | 7.3 | 0 | 0 | 0 | 1 | 0 | 0 | Long |\n",
       "\n"
      ],
      "text/plain": [
       "    X   year length budget rating Action Animation Comedy Drama Documentary\n",
       "1     1 1971 121    NA     6.4    0      0         1      1     0          \n",
       "32   32 1987 140    NA     5.9    0      0         0      1     0          \n",
       "42   42 1941 120    NA     7.2    0      0         0      1     0          \n",
       "44   44 1986 133    NA     7.3    0      0         0      1     0          \n",
       "101 101 2002 155    NA     6.6    0      0         0      0     1          \n",
       "105 105 1960 125    NA     7.3    0      0         0      1     0          \n",
       "    Romance duree\n",
       "1   0       Long \n",
       "32  0       Long \n",
       "42  0       Long \n",
       "44  0       Long \n",
       "101 0       Long \n",
       "105 0       Long "
      ]
     },
     "metadata": {},
     "output_type": "display_data"
    }
   ],
   "source": [
    "Long_movies = movies[c(movies$duree == \"Long\"),1:12]\n",
    "head(Long_movies)"
   ]
  },
  {
   "cell_type": "code",
   "execution_count": 15,
   "id": "f0a40bfc-4027-4939-87b0-5b8328a65008",
   "metadata": {
    "tags": []
   },
   "outputs": [
    {
     "data": {
      "text/html": [
       "<table class=\"dataframe\">\n",
       "<caption>A data.frame: 6 × 12</caption>\n",
       "<thead>\n",
       "\t<tr><th></th><th scope=col>X</th><th scope=col>year</th><th scope=col>length</th><th scope=col>budget</th><th scope=col>rating</th><th scope=col>Action</th><th scope=col>Animation</th><th scope=col>Comedy</th><th scope=col>Drama</th><th scope=col>Documentary</th><th scope=col>Romance</th><th scope=col>duree</th></tr>\n",
       "\t<tr><th></th><th scope=col>&lt;int&gt;</th><th scope=col>&lt;int&gt;</th><th scope=col>&lt;int&gt;</th><th scope=col>&lt;int&gt;</th><th scope=col>&lt;dbl&gt;</th><th scope=col>&lt;int&gt;</th><th scope=col>&lt;int&gt;</th><th scope=col>&lt;int&gt;</th><th scope=col>&lt;int&gt;</th><th scope=col>&lt;int&gt;</th><th scope=col>&lt;int&gt;</th><th scope=col>&lt;chr&gt;</th></tr>\n",
       "</thead>\n",
       "<tbody>\n",
       "\t<tr><th scope=row>2</th><td>2</td><td>1939</td><td>71</td><td>NA</td><td>6.0</td><td>0</td><td>0</td><td>1</td><td>0</td><td>0</td><td>0</td><td>Court</td></tr>\n",
       "\t<tr><th scope=row>3</th><td>3</td><td>1941</td><td> 7</td><td>NA</td><td>8.2</td><td>0</td><td>1</td><td>0</td><td>0</td><td>0</td><td>0</td><td>Court</td></tr>\n",
       "\t<tr><th scope=row>4</th><td>4</td><td>1996</td><td>70</td><td>NA</td><td>8.2</td><td>0</td><td>0</td><td>1</td><td>0</td><td>0</td><td>0</td><td>Court</td></tr>\n",
       "\t<tr><th scope=row>5</th><td>5</td><td>1975</td><td>71</td><td>NA</td><td>3.4</td><td>0</td><td>0</td><td>0</td><td>0</td><td>0</td><td>0</td><td>Court</td></tr>\n",
       "\t<tr><th scope=row>6</th><td>6</td><td>2000</td><td>91</td><td>NA</td><td>4.3</td><td>0</td><td>0</td><td>0</td><td>1</td><td>0</td><td>0</td><td>Court</td></tr>\n",
       "\t<tr><th scope=row>7</th><td>7</td><td>2002</td><td>93</td><td>NA</td><td>5.3</td><td>1</td><td>0</td><td>0</td><td>1</td><td>0</td><td>0</td><td>Court</td></tr>\n",
       "</tbody>\n",
       "</table>\n"
      ],
      "text/latex": [
       "A data.frame: 6 × 12\n",
       "\\begin{tabular}{r|llllllllllll}\n",
       "  & X & year & length & budget & rating & Action & Animation & Comedy & Drama & Documentary & Romance & duree\\\\\n",
       "  & <int> & <int> & <int> & <int> & <dbl> & <int> & <int> & <int> & <int> & <int> & <int> & <chr>\\\\\n",
       "\\hline\n",
       "\t2 & 2 & 1939 & 71 & NA & 6.0 & 0 & 0 & 1 & 0 & 0 & 0 & Court\\\\\n",
       "\t3 & 3 & 1941 &  7 & NA & 8.2 & 0 & 1 & 0 & 0 & 0 & 0 & Court\\\\\n",
       "\t4 & 4 & 1996 & 70 & NA & 8.2 & 0 & 0 & 1 & 0 & 0 & 0 & Court\\\\\n",
       "\t5 & 5 & 1975 & 71 & NA & 3.4 & 0 & 0 & 0 & 0 & 0 & 0 & Court\\\\\n",
       "\t6 & 6 & 2000 & 91 & NA & 4.3 & 0 & 0 & 0 & 1 & 0 & 0 & Court\\\\\n",
       "\t7 & 7 & 2002 & 93 & NA & 5.3 & 1 & 0 & 0 & 1 & 0 & 0 & Court\\\\\n",
       "\\end{tabular}\n"
      ],
      "text/markdown": [
       "\n",
       "A data.frame: 6 × 12\n",
       "\n",
       "| <!--/--> | X &lt;int&gt; | year &lt;int&gt; | length &lt;int&gt; | budget &lt;int&gt; | rating &lt;dbl&gt; | Action &lt;int&gt; | Animation &lt;int&gt; | Comedy &lt;int&gt; | Drama &lt;int&gt; | Documentary &lt;int&gt; | Romance &lt;int&gt; | duree &lt;chr&gt; |\n",
       "|---|---|---|---|---|---|---|---|---|---|---|---|---|\n",
       "| 2 | 2 | 1939 | 71 | NA | 6.0 | 0 | 0 | 1 | 0 | 0 | 0 | Court |\n",
       "| 3 | 3 | 1941 |  7 | NA | 8.2 | 0 | 1 | 0 | 0 | 0 | 0 | Court |\n",
       "| 4 | 4 | 1996 | 70 | NA | 8.2 | 0 | 0 | 1 | 0 | 0 | 0 | Court |\n",
       "| 5 | 5 | 1975 | 71 | NA | 3.4 | 0 | 0 | 0 | 0 | 0 | 0 | Court |\n",
       "| 6 | 6 | 2000 | 91 | NA | 4.3 | 0 | 0 | 0 | 1 | 0 | 0 | Court |\n",
       "| 7 | 7 | 2002 | 93 | NA | 5.3 | 1 | 0 | 0 | 1 | 0 | 0 | Court |\n",
       "\n"
      ],
      "text/plain": [
       "  X year length budget rating Action Animation Comedy Drama Documentary Romance\n",
       "2 2 1939 71     NA     6.0    0      0         1      0     0           0      \n",
       "3 3 1941  7     NA     8.2    0      1         0      0     0           0      \n",
       "4 4 1996 70     NA     8.2    0      0         1      0     0           0      \n",
       "5 5 1975 71     NA     3.4    0      0         0      0     0           0      \n",
       "6 6 2000 91     NA     4.3    0      0         0      1     0           0      \n",
       "7 7 2002 93     NA     5.3    1      0         0      1     0           0      \n",
       "  duree\n",
       "2 Court\n",
       "3 Court\n",
       "4 Court\n",
       "5 Court\n",
       "6 Court\n",
       "7 Court"
      ]
     },
     "metadata": {},
     "output_type": "display_data"
    }
   ],
   "source": [
    "Short_movies = movies[c(movies$duree == \"Court\"),1:12]\n",
    "head(Short_movies)"
   ]
  },
  {
   "cell_type": "code",
   "execution_count": 16,
   "id": "62dc2f9d-4879-4e76-9436-f81f9558b545",
   "metadata": {
    "tags": []
   },
   "outputs": [
    {
     "data": {
      "text/html": [
       "<style>\n",
       ".list-inline {list-style: none; margin:0; padding: 0}\n",
       ".list-inline>li {display: inline-block}\n",
       ".list-inline>li:not(:last-child)::after {content: \"\\00b7\"; padding: 0 .5ex}\n",
       "</style>\n",
       "<ol class=list-inline><li>4248</li><li>54540</li></ol>\n"
      ],
      "text/latex": [
       "\\begin{enumerate*}\n",
       "\\item 4248\n",
       "\\item 54540\n",
       "\\end{enumerate*}\n"
      ],
      "text/markdown": [
       "1. 4248\n",
       "2. 54540\n",
       "\n",
       "\n"
      ],
      "text/plain": [
       "[1]  4248 54540"
      ]
     },
     "metadata": {},
     "output_type": "display_data"
    }
   ],
   "source": [
    "n = nrow(Long_movies)\n",
    "m = nrow(Short_movies)\n",
    "c(n, m)"
   ]
  },
  {
   "cell_type": "markdown",
   "id": "0d08ea9f-fb4d-4889-9425-dd364c7e6088",
   "metadata": {},
   "source": [
    "We observe that the amount of data is different in the two categories"
   ]
  },
  {
   "cell_type": "code",
   "execution_count": 17,
   "id": "db8e30dc-2a6a-48d5-b2a8-d4216664735a",
   "metadata": {
    "tags": []
   },
   "outputs": [
    {
     "data": {
      "text/html": [
       "<style>\n",
       ".list-inline {list-style: none; margin:0; padding: 0}\n",
       ".list-inline>li {display: inline-block}\n",
       ".list-inline>li:not(:last-child)::after {content: \"\\00b7\"; padding: 0 .5ex}\n",
       "</style>\n",
       "<ol class=list-inline><li>6.75868644067797</li><li>1.56512820116293</li></ol>\n"
      ],
      "text/latex": [
       "\\begin{enumerate*}\n",
       "\\item 6.75868644067797\n",
       "\\item 1.56512820116293\n",
       "\\end{enumerate*}\n"
      ],
      "text/markdown": [
       "1. 6.75868644067797\n",
       "2. 1.56512820116293\n",
       "\n",
       "\n"
      ],
      "text/plain": [
       "[1] 6.758686 1.565128"
      ]
     },
     "metadata": {},
     "output_type": "display_data"
    }
   ],
   "source": [
    "c(mean(Long_movies$rating), var(Long_movies$rating))"
   ]
  },
  {
   "cell_type": "code",
   "execution_count": 18,
   "id": "973b3fbc-d362-4ed1-b2e3-f11ba3075c38",
   "metadata": {
    "tags": []
   },
   "outputs": [
    {
     "data": {
      "text/html": [
       "<style>\n",
       ".list-inline {list-style: none; margin:0; padding: 0}\n",
       ".list-inline>li {display: inline-block}\n",
       ".list-inline>li:not(:last-child)::after {content: \"\\00b7\"; padding: 0 .5ex}\n",
       "</style>\n",
       "<ol class=list-inline><li>5.86852768610194</li><li>2.42062978369963</li></ol>\n"
      ],
      "text/latex": [
       "\\begin{enumerate*}\n",
       "\\item 5.86852768610194\n",
       "\\item 2.42062978369963\n",
       "\\end{enumerate*}\n"
      ],
      "text/markdown": [
       "1. 5.86852768610194\n",
       "2. 2.42062978369963\n",
       "\n",
       "\n"
      ],
      "text/plain": [
       "[1] 5.868528 2.420630"
      ]
     },
     "metadata": {},
     "output_type": "display_data"
    }
   ],
   "source": [
    "c(mean(Short_movies$rating), var(Short_movies$rating))"
   ]
  },
  {
   "cell_type": "markdown",
   "id": "943ce494-04a0-4a9a-ad05-ce66928104c8",
   "metadata": {},
   "source": [
    "Their mean and variance are also different"
   ]
  },
  {
   "cell_type": "markdown",
   "id": "0f7a91d9-bd35-4c1b-b9d1-57422ec5494f",
   "metadata": {},
   "source": [
    "We will compute a Welch's test to compare the effect of the two categories, but to know if the test is asymptotic or not, we want to know if we can consider that the ratings are gaussian"
   ]
  },
  {
   "cell_type": "code",
   "execution_count": 19,
   "id": "05860821-3e7f-4cc6-82d0-3fa2076c414d",
   "metadata": {},
   "outputs": [
    {
     "data": {
      "image/png": "[encoded data removed]",
      "text/plain": [
       "plot without title"
      ]
     },
     "metadata": {
      "image/png": {
       "height": 420,
       "width": 600
      }
     },
     "output_type": "display_data"
    }
   ],
   "source": [
    "plot = ggplot(data=movies)  + geom_histogram(aes(x = rating, y = after_stat(density)), bins = 10) + ggtitle(\"rating histogram\")\n",
    "m <- mean(movies$rating)\n",
    "s <- sd(movies$rating)\n",
    "plot +  stat_function(fun = dnorm, args = list(mean = m, sd = s), col=\"blue\")"
   ]
  },
  {
   "cell_type": "code",
   "execution_count": 20,
   "id": "12118215-406e-4d6e-b54e-7370489c43c9",
   "metadata": {
    "tags": []
   },
   "outputs": [
    {
     "data": {
      "image/png": "[encoded data removed]",
      "text/plain": [
       "plot without title"
      ]
     },
     "metadata": {
      "image/png": {
       "height": 420,
       "width": 600
      }
     },
     "output_type": "display_data"
    }
   ],
   "source": [
    "ggplot(movies, aes(sample=rating))+ stat_qq() + stat_qq_line() + ggtitle(\"QQnorm of the variable rating\")"
   ]
  },
  {
   "cell_type": "markdown",
   "id": "03d50c96-a63e-445f-8e25-843e34d2975c",
   "metadata": {},
   "source": [
    "We can do a Lilliefors' test "
   ]
  },
  {
   "cell_type": "markdown",
   "id": "dcbf5e54-728a-4006-bf73-fcf5088bfa38",
   "metadata": {},
   "source": [
    "Here we test $H_0$: \"the distribution of the variable rating is gaussian\" against $H_1$: \"the distribution of the variable rating is not gaussian\""
   ]
  },
  {
   "cell_type": "code",
   "execution_count": 21,
   "id": "34fd9ff3-4b10-4b3d-a888-87dfc9a03ba0",
   "metadata": {
    "tags": []
   },
   "outputs": [
    {
     "data": {
      "text/plain": [
       "\n",
       "\tLilliefors (Kolmogorov-Smirnov) normality test\n",
       "\n",
       "data:  movies$rating\n",
       "D = 0.052932, p-value < 2.2e-16\n"
      ]
     },
     "metadata": {},
     "output_type": "display_data"
    }
   ],
   "source": [
    "lillie.test(movies$rating)"
   ]
  },
  {
   "cell_type": "markdown",
   "id": "a8b9ea4d-c573-401c-af45-069cfaffcbac",
   "metadata": {
    "tags": []
   },
   "source": [
    "The p-value is very low so we reject $H_0$ and accept $H_1$ with a risk $\\alpha = 5\\%$"
   ]
  },
  {
   "cell_type": "markdown",
   "id": "507f6229-d49d-492c-b322-b11d3c80a761",
   "metadata": {},
   "source": [
    "So the Welch's test is asymptotic"
   ]
  },
  {
   "cell_type": "markdown",
   "id": "63301281-4e33-42e6-9120-b455b08fc9f7",
   "metadata": {},
   "source": [
    "Here we test $H_0$: \"The mean of rating in the long films is the same as the mean of the rating in the short films\" against $H_1$: \"the mean of rating is different in the two categories\""
   ]
  },
  {
   "cell_type": "code",
   "execution_count": 22,
   "id": "4feed64f-9386-46e3-b2fc-9e7eadd74aec",
   "metadata": {
    "tags": []
   },
   "outputs": [
    {
     "data": {
      "text/plain": [
       "\n",
       "\tWelch Two Sample t-test\n",
       "\n",
       "data:  Long_movies$rating and Short_movies$rating\n",
       "t = 43.811, df = 5325.8, p-value < 2.2e-16\n",
       "alternative hypothesis: true difference in means is not equal to 0\n",
       "95 percent confidence interval:\n",
       " 0.8503271 0.9299904\n",
       "sample estimates:\n",
       "mean of x mean of y \n",
       " 6.758686  5.868528 \n"
      ]
     },
     "metadata": {},
     "output_type": "display_data"
    }
   ],
   "source": [
    "t.test(Long_movies$rating, Short_movies$rating ,data=movies, var.equal=FALSE)"
   ]
  },
  {
   "cell_type": "markdown",
   "id": "aa5cbde5-5724-4ecb-9a2c-4bc74d46101c",
   "metadata": {},
   "source": [
    "Again, the p-value is very low so we reject $H_0$ and accept $H_1$ with a risk $\\alpha = 5\\%$"
   ]
  },
  {
   "cell_type": "markdown",
   "id": "20f4ec2f-bbe6-4805-87ab-89291260c736",
   "metadata": {},
   "source": [
    "the test is asymptotic but we have enough data to conclude that the difference between the 2 groups is significant and the duration of the film impacts its rating"
   ]
  },
  {
   "cell_type": "markdown",
   "id": "e9a0e05a-a3d2-4204-874d-5de5a3c09e6a",
   "metadata": {},
   "source": [
    "## Exercice 3"
   ]
  },
  {
   "cell_type": "markdown",
   "id": "544f3ba4-d1ff-4a56-8cd2-cfb6700b39b2",
   "metadata": {},
   "source": [
    "## Question 1"
   ]
  },
  {
   "cell_type": "code",
   "execution_count": 23,
   "id": "fd8e050e-6088-4168-9d2e-72e57134cea8",
   "metadata": {},
   "outputs": [
    {
     "data": {
      "text/html": [
       "<table class=\"dataframe\">\n",
       "<caption>A data.frame: 6 × 7</caption>\n",
       "<thead>\n",
       "\t<tr><th></th><th scope=col>X</th><th scope=col>year</th><th scope=col>length</th><th scope=col>budget</th><th scope=col>rating</th><th scope=col>Genre</th><th scope=col>Genre_bin</th></tr>\n",
       "\t<tr><th></th><th scope=col>&lt;int&gt;</th><th scope=col>&lt;int&gt;</th><th scope=col>&lt;int&gt;</th><th scope=col>&lt;int&gt;</th><th scope=col>&lt;dbl&gt;</th><th scope=col>&lt;chr&gt;</th><th scope=col>&lt;int&gt;</th></tr>\n",
       "</thead>\n",
       "<tbody>\n",
       "\t<tr><th scope=row>1</th><td>1</td><td>1971</td><td>121</td><td>NA</td><td>6.4</td><td>Comedy   </td><td>1</td></tr>\n",
       "\t<tr><th scope=row>2</th><td>2</td><td>1971</td><td>121</td><td>NA</td><td>6.4</td><td>Drama    </td><td>1</td></tr>\n",
       "\t<tr><th scope=row>3</th><td>3</td><td>1939</td><td> 71</td><td>NA</td><td>6.0</td><td>Comedy   </td><td>1</td></tr>\n",
       "\t<tr><th scope=row>4</th><td>4</td><td>1941</td><td>  7</td><td>NA</td><td>8.2</td><td>Animation</td><td>1</td></tr>\n",
       "\t<tr><th scope=row>5</th><td>5</td><td>1996</td><td> 70</td><td>NA</td><td>8.2</td><td>Comedy   </td><td>1</td></tr>\n",
       "\t<tr><th scope=row>6</th><td>6</td><td>2000</td><td> 91</td><td>NA</td><td>4.3</td><td>Drama    </td><td>1</td></tr>\n",
       "</tbody>\n",
       "</table>\n"
      ],
      "text/latex": [
       "A data.frame: 6 × 7\n",
       "\\begin{tabular}{r|lllllll}\n",
       "  & X & year & length & budget & rating & Genre & Genre\\_bin\\\\\n",
       "  & <int> & <int> & <int> & <int> & <dbl> & <chr> & <int>\\\\\n",
       "\\hline\n",
       "\t1 & 1 & 1971 & 121 & NA & 6.4 & Comedy    & 1\\\\\n",
       "\t2 & 2 & 1971 & 121 & NA & 6.4 & Drama     & 1\\\\\n",
       "\t3 & 3 & 1939 &  71 & NA & 6.0 & Comedy    & 1\\\\\n",
       "\t4 & 4 & 1941 &   7 & NA & 8.2 & Animation & 1\\\\\n",
       "\t5 & 5 & 1996 &  70 & NA & 8.2 & Comedy    & 1\\\\\n",
       "\t6 & 6 & 2000 &  91 & NA & 4.3 & Drama     & 1\\\\\n",
       "\\end{tabular}\n"
      ],
      "text/markdown": [
       "\n",
       "A data.frame: 6 × 7\n",
       "\n",
       "| <!--/--> | X &lt;int&gt; | year &lt;int&gt; | length &lt;int&gt; | budget &lt;int&gt; | rating &lt;dbl&gt; | Genre &lt;chr&gt; | Genre_bin &lt;int&gt; |\n",
       "|---|---|---|---|---|---|---|---|\n",
       "| 1 | 1 | 1971 | 121 | NA | 6.4 | Comedy    | 1 |\n",
       "| 2 | 2 | 1971 | 121 | NA | 6.4 | Drama     | 1 |\n",
       "| 3 | 3 | 1939 |  71 | NA | 6.0 | Comedy    | 1 |\n",
       "| 4 | 4 | 1941 |   7 | NA | 8.2 | Animation | 1 |\n",
       "| 5 | 5 | 1996 |  70 | NA | 8.2 | Comedy    | 1 |\n",
       "| 6 | 6 | 2000 |  91 | NA | 4.3 | Drama     | 1 |\n",
       "\n"
      ],
      "text/plain": [
       "  X year length budget rating Genre     Genre_bin\n",
       "1 1 1971 121    NA     6.4    Comedy    1        \n",
       "2 2 1971 121    NA     6.4    Drama     1        \n",
       "3 3 1939  71    NA     6.0    Comedy    1        \n",
       "4 4 1941   7    NA     8.2    Animation 1        \n",
       "5 5 1996  70    NA     8.2    Comedy    1        \n",
       "6 6 2000  91    NA     4.3    Drama     1        "
      ]
     },
     "metadata": {},
     "output_type": "display_data"
    }
   ],
   "source": [
    "movies_genre = read.table(file='Movies_genre.csv',header=TRUE,sep=\";\", dec=',')\n",
    "head(movies_genre)"
   ]
  },
  {
   "cell_type": "code",
   "execution_count": 24,
   "id": "feecdb1f-16b3-4d2b-b8a9-6f826f2e8620",
   "metadata": {},
   "outputs": [
    {
     "data": {
      "text/html": [
       "<table class=\"dataframe\">\n",
       "<caption>A data.frame: 6 × 8</caption>\n",
       "<thead>\n",
       "\t<tr><th></th><th scope=col>X</th><th scope=col>year</th><th scope=col>length</th><th scope=col>budget</th><th scope=col>rating</th><th scope=col>Genre</th><th scope=col>Genre_bin</th><th scope=col>Satisfaction</th></tr>\n",
       "\t<tr><th></th><th scope=col>&lt;int&gt;</th><th scope=col>&lt;int&gt;</th><th scope=col>&lt;int&gt;</th><th scope=col>&lt;int&gt;</th><th scope=col>&lt;dbl&gt;</th><th scope=col>&lt;chr&gt;</th><th scope=col>&lt;int&gt;</th><th scope=col>&lt;fct&gt;</th></tr>\n",
       "</thead>\n",
       "<tbody>\n",
       "\t<tr><th scope=row>1</th><td>1</td><td>1971</td><td>121</td><td>NA</td><td>6.4</td><td>Comedy   </td><td>1</td><td>Moyen  </td></tr>\n",
       "\t<tr><th scope=row>2</th><td>2</td><td>1971</td><td>121</td><td>NA</td><td>6.4</td><td>Drama    </td><td>1</td><td>Moyen  </td></tr>\n",
       "\t<tr><th scope=row>3</th><td>3</td><td>1939</td><td> 71</td><td>NA</td><td>6.0</td><td>Comedy   </td><td>1</td><td>Moyen  </td></tr>\n",
       "\t<tr><th scope=row>4</th><td>4</td><td>1941</td><td>  7</td><td>NA</td><td>8.2</td><td>Animation</td><td>1</td><td>Bon    </td></tr>\n",
       "\t<tr><th scope=row>5</th><td>5</td><td>1996</td><td> 70</td><td>NA</td><td>8.2</td><td>Comedy   </td><td>1</td><td>Bon    </td></tr>\n",
       "\t<tr><th scope=row>6</th><td>6</td><td>2000</td><td> 91</td><td>NA</td><td>4.3</td><td>Drama    </td><td>1</td><td>Mauvais</td></tr>\n",
       "</tbody>\n",
       "</table>\n"
      ],
      "text/latex": [
       "A data.frame: 6 × 8\n",
       "\\begin{tabular}{r|llllllll}\n",
       "  & X & year & length & budget & rating & Genre & Genre\\_bin & Satisfaction\\\\\n",
       "  & <int> & <int> & <int> & <int> & <dbl> & <chr> & <int> & <fct>\\\\\n",
       "\\hline\n",
       "\t1 & 1 & 1971 & 121 & NA & 6.4 & Comedy    & 1 & Moyen  \\\\\n",
       "\t2 & 2 & 1971 & 121 & NA & 6.4 & Drama     & 1 & Moyen  \\\\\n",
       "\t3 & 3 & 1939 &  71 & NA & 6.0 & Comedy    & 1 & Moyen  \\\\\n",
       "\t4 & 4 & 1941 &   7 & NA & 8.2 & Animation & 1 & Bon    \\\\\n",
       "\t5 & 5 & 1996 &  70 & NA & 8.2 & Comedy    & 1 & Bon    \\\\\n",
       "\t6 & 6 & 2000 &  91 & NA & 4.3 & Drama     & 1 & Mauvais\\\\\n",
       "\\end{tabular}\n"
      ],
      "text/markdown": [
       "\n",
       "A data.frame: 6 × 8\n",
       "\n",
       "| <!--/--> | X &lt;int&gt; | year &lt;int&gt; | length &lt;int&gt; | budget &lt;int&gt; | rating &lt;dbl&gt; | Genre &lt;chr&gt; | Genre_bin &lt;int&gt; | Satisfaction &lt;fct&gt; |\n",
       "|---|---|---|---|---|---|---|---|---|\n",
       "| 1 | 1 | 1971 | 121 | NA | 6.4 | Comedy    | 1 | Moyen   |\n",
       "| 2 | 2 | 1971 | 121 | NA | 6.4 | Drama     | 1 | Moyen   |\n",
       "| 3 | 3 | 1939 |  71 | NA | 6.0 | Comedy    | 1 | Moyen   |\n",
       "| 4 | 4 | 1941 |   7 | NA | 8.2 | Animation | 1 | Bon     |\n",
       "| 5 | 5 | 1996 |  70 | NA | 8.2 | Comedy    | 1 | Bon     |\n",
       "| 6 | 6 | 2000 |  91 | NA | 4.3 | Drama     | 1 | Mauvais |\n",
       "\n"
      ],
      "text/plain": [
       "  X year length budget rating Genre     Genre_bin Satisfaction\n",
       "1 1 1971 121    NA     6.4    Comedy    1         Moyen       \n",
       "2 2 1971 121    NA     6.4    Drama     1         Moyen       \n",
       "3 3 1939  71    NA     6.0    Comedy    1         Moyen       \n",
       "4 4 1941   7    NA     8.2    Animation 1         Bon         \n",
       "5 5 1996  70    NA     8.2    Comedy    1         Bon         \n",
       "6 6 2000  91    NA     4.3    Drama     1         Mauvais     "
      ]
     },
     "metadata": {},
     "output_type": "display_data"
    }
   ],
   "source": [
    "movies_genre$Satisfaction <- cut(\n",
    "  movies_genre$rating,\n",
    "  breaks = c(0, 5, 7.5, 11),\n",
    "  labels = c(\"Mauvais\", \"Moyen\", \"Bon\"),\n",
    "  right = FALSE\n",
    ")\n",
    "\n",
    "head(movies_genre)"
   ]
  },
  {
   "cell_type": "markdown",
   "id": "e1e796a6-bb97-4eec-ba3c-b81ad948250a",
   "metadata": {},
   "source": [
    "## Question 2"
   ]
  },
  {
   "cell_type": "code",
   "execution_count": 25,
   "id": "51c6f8b6-2423-4829-8e69-2f1c14946a81",
   "metadata": {},
   "outputs": [
    {
     "data": {
      "image/png": "[encoded data removed]",
      "text/plain": [
       "plot without title"
      ]
     },
     "metadata": {
      "image/png": {
       "height": 600,
       "width": 900
      }
     },
     "output_type": "display_data"
    }
   ],
   "source": [
    "options(repr.plot.width=15, repr.plot.height=10)\n",
    "plot = ggplot(data = movies_genre, aes(x = Genre, y = rating)) + geom_boxplot() + ggtitle(\"Rating of the film based on its genre\")\n",
    "plot"
   ]
  },
  {
   "cell_type": "markdown",
   "id": "7cd685b2-a9cf-47e5-85b6-186f441b2415",
   "metadata": {},
   "source": [
    "We observe that the genre of the film probably influence its rating. For exemple, actions films seems to be less well rated in general."
   ]
  },
  {
   "cell_type": "markdown",
   "id": "7cd8276a-a9d5-48fe-87dd-d709dba289dd",
   "metadata": {},
   "source": [
    "## Question 3"
   ]
  },
  {
   "cell_type": "markdown",
   "id": "ba119f60-0034-4f7d-b801-f6ac18c43a6a",
   "metadata": {},
   "source": [
    "This time, we can compute a $\\chi^2$ independance test to verify the independance between the rating of a film and its genre because we have 2 qualitative variables."
   ]
  },
  {
   "cell_type": "code",
   "execution_count": 26,
   "id": "86a7bbbf-f4e6-4ee7-ba58-9b2a1f5ff7f7",
   "metadata": {
    "tags": []
   },
   "outputs": [
    {
     "data": {
      "text/plain": [
       "             \n",
       "              Mauvais Moyen   Bon\n",
       "  Action         1903  2424   361\n",
       "  Animation       313  2580   797\n",
       "  Comedy         3851 11125  2295\n",
       "  Documentary     478  1824  1170\n",
       "  Drama          3810 14573  3428\n",
       "  Romance         747  3316   681"
      ]
     },
     "metadata": {},
     "output_type": "display_data"
    }
   ],
   "source": [
    "table(movies_genre$Genre, movies_genre$Satisfaction)"
   ]
  },
  {
   "cell_type": "markdown",
   "id": "a504eb44-47e0-4c93-b9b3-a12aece8f67c",
   "metadata": {},
   "source": [
    "Here we test $H_0$: \"the rating of a film is independant from its genre\" against $H_1$: \"the genre of a film impacts its rating\""
   ]
  },
  {
   "cell_type": "code",
   "execution_count": 27,
   "id": "b84c528f-b10d-41b0-9d92-0bf1795d18ac",
   "metadata": {
    "tags": []
   },
   "outputs": [
    {
     "data": {
      "text/plain": [
       "\n",
       "\tPearson's Chi-squared test\n",
       "\n",
       "data:  movies_genre$Genre and movies_genre$Satisfaction\n",
       "X-squared = 2781.4, df = 10, p-value < 2.2e-16\n"
      ]
     },
     "metadata": {},
     "output_type": "display_data"
    }
   ],
   "source": [
    "chisq.test(movies_genre$Genre, movies_genre$Satisfaction)"
   ]
  },
  {
   "cell_type": "markdown",
   "id": "ad1937ca-2954-4293-9d08-574ac5a6981c",
   "metadata": {},
   "source": [
    "The p-value is very low so we reject $H_0$ and accept $H_1$ with a risk $\\alpha = 5\\%$ and conclude that genre of a film has an influence on its rating."
   ]
  },
  {
   "cell_type": "markdown",
   "id": "851fe7d4-044b-4889-967c-0194cf2e5908",
   "metadata": {},
   "source": [
    "# Part 2"
   ]
  },
  {
   "cell_type": "code",
   "execution_count": 28,
   "id": "091ac3bd-7b42-443f-914c-62459232443c",
   "metadata": {
    "tags": []
   },
   "outputs": [
    {
     "data": {
      "text/html": [
       "<style>\n",
       ".list-inline {list-style: none; margin:0; padding: 0}\n",
       ".list-inline>li {display: inline-block}\n",
       ".list-inline>li:not(:last-child)::after {content: \"\\00b7\"; padding: 0 .5ex}\n",
       "</style>\n",
       "<ol class=list-inline><li>1324</li><li>3</li></ol>\n"
      ],
      "text/latex": [
       "\\begin{enumerate*}\n",
       "\\item 1324\n",
       "\\item 3\n",
       "\\end{enumerate*}\n"
      ],
      "text/markdown": [
       "1. 1324\n",
       "2. 3\n",
       "\n",
       "\n"
      ],
      "text/plain": [
       "[1] 1324    3"
      ]
     },
     "metadata": {},
     "output_type": "display_data"
    },
    {
     "data": {
      "text/html": [
       "<table class=\"dataframe\">\n",
       "<caption>A data.frame: 6 × 3</caption>\n",
       "<thead>\n",
       "\t<tr><th></th><th scope=col>BMI</th><th scope=col>gender</th><th scope=col>age</th></tr>\n",
       "\t<tr><th></th><th scope=col>&lt;dbl&gt;</th><th scope=col>&lt;fct&gt;</th><th scope=col>&lt;dbl&gt;</th></tr>\n",
       "</thead>\n",
       "<tbody>\n",
       "\t<tr><th scope=row>1</th><td>23.39</td><td>Female</td><td>33.02133</td></tr>\n",
       "\t<tr><th scope=row>2</th><td>22.72</td><td>Female</td><td>28.32208</td></tr>\n",
       "\t<tr><th scope=row>3</th><td>23.52</td><td>Male  </td><td>25.73901</td></tr>\n",
       "\t<tr><th scope=row>4</th><td>25.03</td><td>Male  </td><td>30.80271</td></tr>\n",
       "\t<tr><th scope=row>5</th><td>21.64</td><td>Female</td><td>34.95409</td></tr>\n",
       "\t<tr><th scope=row>6</th><td>22.16</td><td>Male  </td><td>28.13544</td></tr>\n",
       "</tbody>\n",
       "</table>\n"
      ],
      "text/latex": [
       "A data.frame: 6 × 3\n",
       "\\begin{tabular}{r|lll}\n",
       "  & BMI & gender & age\\\\\n",
       "  & <dbl> & <fct> & <dbl>\\\\\n",
       "\\hline\n",
       "\t1 & 23.39 & Female & 33.02133\\\\\n",
       "\t2 & 22.72 & Female & 28.32208\\\\\n",
       "\t3 & 23.52 & Male   & 25.73901\\\\\n",
       "\t4 & 25.03 & Male   & 30.80271\\\\\n",
       "\t5 & 21.64 & Female & 34.95409\\\\\n",
       "\t6 & 22.16 & Male   & 28.13544\\\\\n",
       "\\end{tabular}\n"
      ],
      "text/markdown": [
       "\n",
       "A data.frame: 6 × 3\n",
       "\n",
       "| <!--/--> | BMI &lt;dbl&gt; | gender &lt;fct&gt; | age &lt;dbl&gt; |\n",
       "|---|---|---|---|\n",
       "| 1 | 23.39 | Female | 33.02133 |\n",
       "| 2 | 22.72 | Female | 28.32208 |\n",
       "| 3 | 23.52 | Male   | 25.73901 |\n",
       "| 4 | 25.03 | Male   | 30.80271 |\n",
       "| 5 | 21.64 | Female | 34.95409 |\n",
       "| 6 | 22.16 | Male   | 28.13544 |\n",
       "\n"
      ],
      "text/plain": [
       "  BMI   gender age     \n",
       "1 23.39 Female 33.02133\n",
       "2 22.72 Female 28.32208\n",
       "3 23.52 Male   25.73901\n",
       "4 25.03 Male   30.80271\n",
       "5 21.64 Female 34.95409\n",
       "6 22.16 Male   28.13544"
      ]
     },
     "metadata": {},
     "output_type": "display_data"
    }
   ],
   "source": [
    "load(url(\"https://www.biostatistics.dk/teaching/bioinformatics/data/gwaspt.rda\"))\n",
    "dim(phenotypes)\n",
    "head(phenotypes)"
   ]
  },
  {
   "cell_type": "markdown",
   "id": "f4c28b5e-b4db-4537-bd6b-ef2c38d70eea",
   "metadata": {},
   "source": [
    "## Question 1 Etude de l’influence du genre sur le BMI"
   ]
  },
  {
   "cell_type": "code",
   "execution_count": 29,
   "id": "d5de8124-4715-40fb-a1ea-8fdd2f3ab77d",
   "metadata": {
    "tags": []
   },
   "outputs": [
    {
     "data": {
      "image/png": "[encoded data removed]",
      "text/plain": [
       "plot without title"
      ]
     },
     "metadata": {
      "image/png": {
       "height": 420,
       "width": 600
      }
     },
     "output_type": "display_data"
    }
   ],
   "source": [
    "options(repr.plot.width=10, repr.plot.height=7)\n",
    "ggplot(data = phenotypes, aes(x = gender, y = BMI)) + geom_boxplot() + ggtitle(\"Body Mass Index based on the gender\")"
   ]
  },
  {
   "cell_type": "markdown",
   "id": "5c688461-beba-4deb-b401-329bc11224b6",
   "metadata": {},
   "source": [
    "We observe that the men seems to have an higher BMI than the women"
   ]
  },
  {
   "cell_type": "markdown",
   "id": "7447aaee-5374-453e-bc4e-9501d70b0073",
   "metadata": {},
   "source": [
    "## Question 2"
   ]
  },
  {
   "cell_type": "markdown",
   "id": "9f635639-6c79-4dad-ba58-65cfd3fc2de0",
   "metadata": {
    "tags": []
   },
   "source": [
    "Again, the variable gender is qualitative and the variable BMI is quantitative so, in first, we test the gaussianity of BMI"
   ]
  },
  {
   "cell_type": "code",
   "execution_count": 30,
   "id": "08c491ca-89a1-4f7b-ad6b-d66af887ff23",
   "metadata": {
    "tags": []
   },
   "outputs": [
    {
     "data": {
      "image/png": "[encoded data removed]",
      "text/plain": [
       "plot without title"
      ]
     },
     "metadata": {
      "image/png": {
       "height": 420,
       "width": 600
      }
     },
     "output_type": "display_data"
    }
   ],
   "source": [
    "plot = ggplot(data=phenotypes)  + geom_histogram(aes(x = BMI, y = after_stat(density)), bins = 10) + ggtitle(\"BMI histogram\")\n",
    "m <- mean(phenotypes$BMI)\n",
    "s <- sd(phenotypes$BMI)\n",
    "plot +  stat_function(fun = dnorm, args = list(mean = m, sd = s), col=\"blue\")"
   ]
  },
  {
   "cell_type": "code",
   "execution_count": 31,
   "id": "dccdf263-b50f-4c64-9494-237c127307da",
   "metadata": {
    "tags": []
   },
   "outputs": [
    {
     "data": {
      "image/png": "[encoded data removed]",
      "text/plain": [
       "plot without title"
      ]
     },
     "metadata": {
      "image/png": {
       "height": 420,
       "width": 600
      }
     },
     "output_type": "display_data"
    }
   ],
   "source": [
    "ggplot(phenotypes, aes(sample=BMI))+ stat_qq() + stat_qq_line() + ggtitle(\"QQnorm of the variable BMI\")"
   ]
  },
  {
   "cell_type": "markdown",
   "id": "03130d85-7438-4b83-86f8-affb94b488e5",
   "metadata": {},
   "source": [
    "We test $H_0$: \"the distribution of the variable BMI is gaussian\" against $H_1$: \"the distribution of the variable BMI is not gaussian\""
   ]
  },
  {
   "cell_type": "code",
   "execution_count": 32,
   "id": "d1dd289c-cca7-4ead-8a69-fbe02959087c",
   "metadata": {
    "tags": []
   },
   "outputs": [
    {
     "data": {
      "text/plain": [
       "\n",
       "\tLilliefors (Kolmogorov-Smirnov) normality test\n",
       "\n",
       "data:  phenotypes$BMI\n",
       "D = 0.022098, p-value = 0.1211\n"
      ]
     },
     "metadata": {},
     "output_type": "display_data"
    }
   ],
   "source": [
    "lillie.test(phenotypes$BMI)"
   ]
  },
  {
   "cell_type": "markdown",
   "id": "150e20bf-c763-49e2-9985-8978b2f7ab6f",
   "metadata": {},
   "source": [
    "The p-value is higher than 0.05 here so we accept $H_0$ with a risk $\\alpha = 5\\%$ so the Welch's test is not asymptotic here"
   ]
  },
  {
   "cell_type": "markdown",
   "id": "b5d1565f-bbb1-4f69-998a-af8aa3500b21",
   "metadata": {
    "tags": []
   },
   "source": [
    "Now we test $H_0$: \"The mean of the BMI of men is higher than the mean of the BMI of the women\" against $H_1$: \"The mean of the BMI of men is lower than the mean of the BMI of the women\""
   ]
  },
  {
   "cell_type": "code",
   "execution_count": 33,
   "id": "220629a1-210b-4537-8937-f3ff63f243f9",
   "metadata": {
    "tags": []
   },
   "outputs": [
    {
     "data": {
      "text/html": [
       "<style>\n",
       ".list-inline {list-style: none; margin:0; padding: 0}\n",
       ".list-inline>li {display: inline-block}\n",
       ".list-inline>li:not(:last-child)::after {content: \"\\00b7\"; padding: 0 .5ex}\n",
       "</style>\n",
       "<ol class=list-inline><li>656</li><li>668</li></ol>\n"
      ],
      "text/latex": [
       "\\begin{enumerate*}\n",
       "\\item 656\n",
       "\\item 668\n",
       "\\end{enumerate*}\n"
      ],
      "text/markdown": [
       "1. 656\n",
       "2. 668\n",
       "\n",
       "\n"
      ],
      "text/plain": [
       "[1] 656 668"
      ]
     },
     "metadata": {},
     "output_type": "display_data"
    },
    {
     "data": {
      "text/html": [
       "<style>\n",
       ".list-inline {list-style: none; margin:0; padding: 0}\n",
       ".list-inline>li {display: inline-block}\n",
       ".list-inline>li:not(:last-child)::after {content: \"\\00b7\"; padding: 0 .5ex}\n",
       "</style>\n",
       "<ol class=list-inline><li>23.564618902439</li><li>1.15974061790169</li></ol>\n"
      ],
      "text/latex": [
       "\\begin{enumerate*}\n",
       "\\item 23.564618902439\n",
       "\\item 1.15974061790169\n",
       "\\end{enumerate*}\n"
      ],
      "text/markdown": [
       "1. 23.564618902439\n",
       "2. 1.15974061790169\n",
       "\n",
       "\n"
      ],
      "text/plain": [
       "[1] 23.564619  1.159741"
      ]
     },
     "metadata": {},
     "output_type": "display_data"
    },
    {
     "data": {
      "text/html": [
       "<style>\n",
       ".list-inline {list-style: none; margin:0; padding: 0}\n",
       ".list-inline>li {display: inline-block}\n",
       ".list-inline>li:not(:last-child)::after {content: \"\\00b7\"; padding: 0 .5ex}\n",
       "</style>\n",
       "<ol class=list-inline><li>22.4180538922156</li><li>1.12716232392786</li></ol>\n"
      ],
      "text/latex": [
       "\\begin{enumerate*}\n",
       "\\item 22.4180538922156\n",
       "\\item 1.12716232392786\n",
       "\\end{enumerate*}\n"
      ],
      "text/markdown": [
       "1. 22.4180538922156\n",
       "2. 1.12716232392786\n",
       "\n",
       "\n"
      ],
      "text/plain": [
       "[1] 22.418054  1.127162"
      ]
     },
     "metadata": {},
     "output_type": "display_data"
    }
   ],
   "source": [
    "Men_BMI = phenotypes[c(phenotypes$gender == \"Male\"),1:3]\n",
    "Women_BMI = phenotypes[c(phenotypes$gender == \"Female\"),1:3]\n",
    "n = nrow(Men_BMI)\n",
    "m = nrow(Women_BMI)\n",
    "c(n, m)\n",
    "c(mean(Men_BMI$BMI), var(Men_BMI$BMI))\n",
    "c(mean(Women_BMI$BMI), var(Women_BMI$BMI))"
   ]
  },
  {
   "cell_type": "markdown",
   "id": "c8650c61-9fd3-4489-b3ce-1da1bd0f1592",
   "metadata": {},
   "source": [
    "We almost have the same amount of data for the both categories and their variance is simililar so we can suppose that they are the same"
   ]
  },
  {
   "cell_type": "code",
   "execution_count": 34,
   "id": "dc063912-c0b7-47d1-accd-6cc1f4ec82e5",
   "metadata": {
    "tags": []
   },
   "outputs": [
    {
     "data": {
      "text/plain": [
       "\n",
       "\tTwo Sample t-test\n",
       "\n",
       "data:  Men_BMI$BMI and Women_BMI$BMI\n",
       "t = 19.508, df = 1322, p-value = 1\n",
       "alternative hypothesis: true difference in means is less than 0\n",
       "95 percent confidence interval:\n",
       "     -Inf 1.243307\n",
       "sample estimates:\n",
       "mean of x mean of y \n",
       " 23.56462  22.41805 \n"
      ]
     },
     "metadata": {},
     "output_type": "display_data"
    }
   ],
   "source": [
    "t.test(Men_BMI$BMI, Women_BMI$BMI ,data=phenotypes, var.equal=TRUE, alternative=\"less\")"
   ]
  },
  {
   "cell_type": "markdown",
   "id": "8fc9f4e0-0d6f-4634-957a-e77a453bfe5e",
   "metadata": {},
   "source": [
    "The p-value is 1 so we accept $H_0$ with a risk $\\alpha = 5\\%$ and conclude that the BMI is higher for the men than the women"
   ]
  },
  {
   "cell_type": "markdown",
   "id": "92c8ab9c-cf2f-4f53-87c9-1a51d23bae71",
   "metadata": {},
   "source": [
    "## Question 1 \"Etude du lien entre la génétique et le BMI\""
   ]
  },
  {
   "cell_type": "code",
   "execution_count": 35,
   "id": "98c34970-76a4-41b4-954e-8f96cef7b5a8",
   "metadata": {
    "tags": []
   },
   "outputs": [
    {
     "data": {
      "text/html": [
       "<style>\n",
       ".list-inline {list-style: none; margin:0; padding: 0}\n",
       ".list-inline>li {display: inline-block}\n",
       ".list-inline>li:not(:last-child)::after {content: \"\\00b7\"; padding: 0 .5ex}\n",
       "</style>\n",
       "<ol class=list-inline><li>1324</li><li>32019</li></ol>\n"
      ],
      "text/latex": [
       "\\begin{enumerate*}\n",
       "\\item 1324\n",
       "\\item 32019\n",
       "\\end{enumerate*}\n"
      ],
      "text/markdown": [
       "1. 1324\n",
       "2. 32019\n",
       "\n",
       "\n"
      ],
      "text/plain": [
       "[1]  1324 32019"
      ]
     },
     "metadata": {},
     "output_type": "display_data"
    },
    {
     "data": {
      "text/html": [
       "<table class=\"dataframe\">\n",
       "<caption>A matrix: 6 × 32019 of type int</caption>\n",
       "<tbody>\n",
       "\t<tr><td>0</td><td>0</td><td>0</td><td>0</td><td>0</td><td>1</td><td>2</td><td>1</td><td>1</td><td>0</td><td>⋯</td><td>1</td><td>0</td><td>0</td><td>0</td><td>0</td><td>0</td><td>0</td><td>0</td><td>0</td><td>0</td></tr>\n",
       "\t<tr><td>0</td><td>0</td><td>0</td><td>1</td><td>0</td><td>1</td><td>1</td><td>0</td><td>1</td><td>1</td><td>⋯</td><td>2</td><td>0</td><td>2</td><td>0</td><td>0</td><td>0</td><td>0</td><td>0</td><td>0</td><td>0</td></tr>\n",
       "\t<tr><td>0</td><td>0</td><td>0</td><td>1</td><td>0</td><td>0</td><td>0</td><td>1</td><td>1</td><td>0</td><td>⋯</td><td>0</td><td>0</td><td>0</td><td>1</td><td>0</td><td>0</td><td>0</td><td>0</td><td>0</td><td>0</td></tr>\n",
       "\t<tr><td>0</td><td>0</td><td>0</td><td>0</td><td>0</td><td>0</td><td>0</td><td>0</td><td>0</td><td>1</td><td>⋯</td><td>1</td><td>0</td><td>0</td><td>0</td><td>1</td><td>0</td><td>1</td><td>1</td><td>0</td><td>0</td></tr>\n",
       "\t<tr><td>0</td><td>0</td><td>0</td><td>1</td><td>0</td><td>0</td><td>0</td><td>0</td><td>0</td><td>0</td><td>⋯</td><td>0</td><td>0</td><td>0</td><td>1</td><td>0</td><td>1</td><td>0</td><td>0</td><td>0</td><td>0</td></tr>\n",
       "\t<tr><td>0</td><td>1</td><td>0</td><td>0</td><td>0</td><td>1</td><td>1</td><td>1</td><td>1</td><td>1</td><td>⋯</td><td>0</td><td>1</td><td>0</td><td>0</td><td>1</td><td>1</td><td>0</td><td>1</td><td>0</td><td>0</td></tr>\n",
       "</tbody>\n",
       "</table>\n"
      ],
      "text/latex": [
       "A matrix: 6 × 32019 of type int\n",
       "\\begin{tabular}{lllllllllllllllllllll}\n",
       "\t 0 & 0 & 0 & 0 & 0 & 1 & 2 & 1 & 1 & 0 & ⋯ & 1 & 0 & 0 & 0 & 0 & 0 & 0 & 0 & 0 & 0\\\\\n",
       "\t 0 & 0 & 0 & 1 & 0 & 1 & 1 & 0 & 1 & 1 & ⋯ & 2 & 0 & 2 & 0 & 0 & 0 & 0 & 0 & 0 & 0\\\\\n",
       "\t 0 & 0 & 0 & 1 & 0 & 0 & 0 & 1 & 1 & 0 & ⋯ & 0 & 0 & 0 & 1 & 0 & 0 & 0 & 0 & 0 & 0\\\\\n",
       "\t 0 & 0 & 0 & 0 & 0 & 0 & 0 & 0 & 0 & 1 & ⋯ & 1 & 0 & 0 & 0 & 1 & 0 & 1 & 1 & 0 & 0\\\\\n",
       "\t 0 & 0 & 0 & 1 & 0 & 0 & 0 & 0 & 0 & 0 & ⋯ & 0 & 0 & 0 & 1 & 0 & 1 & 0 & 0 & 0 & 0\\\\\n",
       "\t 0 & 1 & 0 & 0 & 0 & 1 & 1 & 1 & 1 & 1 & ⋯ & 0 & 1 & 0 & 0 & 1 & 1 & 0 & 1 & 0 & 0\\\\\n",
       "\\end{tabular}\n"
      ],
      "text/markdown": [
       "\n",
       "A matrix: 6 × 32019 of type int\n",
       "\n",
       "| 0 | 0 | 0 | 0 | 0 | 1 | 2 | 1 | 1 | 0 | ⋯ | 1 | 0 | 0 | 0 | 0 | 0 | 0 | 0 | 0 | 0 |\n",
       "| 0 | 0 | 0 | 1 | 0 | 1 | 1 | 0 | 1 | 1 | ⋯ | 2 | 0 | 2 | 0 | 0 | 0 | 0 | 0 | 0 | 0 |\n",
       "| 0 | 0 | 0 | 1 | 0 | 0 | 0 | 1 | 1 | 0 | ⋯ | 0 | 0 | 0 | 1 | 0 | 0 | 0 | 0 | 0 | 0 |\n",
       "| 0 | 0 | 0 | 0 | 0 | 0 | 0 | 0 | 0 | 1 | ⋯ | 1 | 0 | 0 | 0 | 1 | 0 | 1 | 1 | 0 | 0 |\n",
       "| 0 | 0 | 0 | 1 | 0 | 0 | 0 | 0 | 0 | 0 | ⋯ | 0 | 0 | 0 | 1 | 0 | 1 | 0 | 0 | 0 | 0 |\n",
       "| 0 | 1 | 0 | 0 | 0 | 1 | 1 | 1 | 1 | 1 | ⋯ | 0 | 1 | 0 | 0 | 1 | 1 | 0 | 1 | 0 | 0 |\n",
       "\n"
      ],
      "text/plain": [
       "     [,1] [,2] [,3] [,4] [,5] [,6] [,7] [,8] [,9] [,10] [,11] [,12] [,13] [,14]\n",
       "[1,] 0    0    0    0    0    1    2    1    1    0     ⋯     1     0     0    \n",
       "[2,] 0    0    0    1    0    1    1    0    1    1     ⋯     2     0     2    \n",
       "[3,] 0    0    0    1    0    0    0    1    1    0     ⋯     0     0     0    \n",
       "[4,] 0    0    0    0    0    0    0    0    0    1     ⋯     1     0     0    \n",
       "[5,] 0    0    0    1    0    0    0    0    0    0     ⋯     0     0     0    \n",
       "[6,] 0    1    0    0    0    1    1    1    1    1     ⋯     0     1     0    \n",
       "     [,15] [,16] [,17] [,18] [,19] [,20] [,21]\n",
       "[1,] 0     0     0     0     0     0     0    \n",
       "[2,] 0     0     0     0     0     0     0    \n",
       "[3,] 1     0     0     0     0     0     0    \n",
       "[4,] 0     1     0     1     1     0     0    \n",
       "[5,] 1     0     1     0     0     0     0    \n",
       "[6,] 0     1     1     0     1     0     0    "
      ]
     },
     "metadata": {},
     "output_type": "display_data"
    }
   ],
   "source": [
    "load(url(\"https://www.biostatistics.dk/teaching/bioinformatics/data/gwasgt.rda\"))\n",
    "dim(genotypes)\n",
    "head(genotypes)"
   ]
  },
  {
   "cell_type": "code",
   "execution_count": 36,
   "id": "2ebb0867-fa3f-4296-8207-38ed1170f238",
   "metadata": {
    "tags": []
   },
   "outputs": [
    {
     "data": {
      "text/html": [
       "<table class=\"dataframe\">\n",
       "<caption>A data.frame: 6 × 4</caption>\n",
       "<thead>\n",
       "\t<tr><th></th><th scope=col>BMI</th><th scope=col>gender</th><th scope=col>age</th><th scope=col>BMI_cat</th></tr>\n",
       "\t<tr><th></th><th scope=col>&lt;dbl&gt;</th><th scope=col>&lt;fct&gt;</th><th scope=col>&lt;dbl&gt;</th><th scope=col>&lt;fct&gt;</th></tr>\n",
       "</thead>\n",
       "<tbody>\n",
       "\t<tr><th scope=row>1</th><td>23.39</td><td>Female</td><td>33.02133</td><td>normal    </td></tr>\n",
       "\t<tr><th scope=row>2</th><td>22.72</td><td>Female</td><td>28.32208</td><td>normal    </td></tr>\n",
       "\t<tr><th scope=row>3</th><td>23.52</td><td>Male  </td><td>25.73901</td><td>normal    </td></tr>\n",
       "\t<tr><th scope=row>4</th><td>25.03</td><td>Male  </td><td>30.80271</td><td>overweight</td></tr>\n",
       "\t<tr><th scope=row>5</th><td>21.64</td><td>Female</td><td>34.95409</td><td>normal    </td></tr>\n",
       "\t<tr><th scope=row>6</th><td>22.16</td><td>Male  </td><td>28.13544</td><td>normal    </td></tr>\n",
       "</tbody>\n",
       "</table>\n"
      ],
      "text/latex": [
       "A data.frame: 6 × 4\n",
       "\\begin{tabular}{r|llll}\n",
       "  & BMI & gender & age & BMI\\_cat\\\\\n",
       "  & <dbl> & <fct> & <dbl> & <fct>\\\\\n",
       "\\hline\n",
       "\t1 & 23.39 & Female & 33.02133 & normal    \\\\\n",
       "\t2 & 22.72 & Female & 28.32208 & normal    \\\\\n",
       "\t3 & 23.52 & Male   & 25.73901 & normal    \\\\\n",
       "\t4 & 25.03 & Male   & 30.80271 & overweight\\\\\n",
       "\t5 & 21.64 & Female & 34.95409 & normal    \\\\\n",
       "\t6 & 22.16 & Male   & 28.13544 & normal    \\\\\n",
       "\\end{tabular}\n"
      ],
      "text/markdown": [
       "\n",
       "A data.frame: 6 × 4\n",
       "\n",
       "| <!--/--> | BMI &lt;dbl&gt; | gender &lt;fct&gt; | age &lt;dbl&gt; | BMI_cat &lt;fct&gt; |\n",
       "|---|---|---|---|---|\n",
       "| 1 | 23.39 | Female | 33.02133 | normal     |\n",
       "| 2 | 22.72 | Female | 28.32208 | normal     |\n",
       "| 3 | 23.52 | Male   | 25.73901 | normal     |\n",
       "| 4 | 25.03 | Male   | 30.80271 | overweight |\n",
       "| 5 | 21.64 | Female | 34.95409 | normal     |\n",
       "| 6 | 22.16 | Male   | 28.13544 | normal     |\n",
       "\n"
      ],
      "text/plain": [
       "  BMI   gender age      BMI_cat   \n",
       "1 23.39 Female 33.02133 normal    \n",
       "2 22.72 Female 28.32208 normal    \n",
       "3 23.52 Male   25.73901 normal    \n",
       "4 25.03 Male   30.80271 overweight\n",
       "5 21.64 Female 34.95409 normal    \n",
       "6 22.16 Male   28.13544 normal    "
      ]
     },
     "metadata": {},
     "output_type": "display_data"
    }
   ],
   "source": [
    "phenotypes$BMI_cat <- cut(\n",
    "  phenotypes$BMI,\n",
    "  breaks = c(min(phenotypes$BMI)-1, 25, max(phenotypes$BMI)+1),\n",
    "  labels = c(\"normal\", \"overweight\"),\n",
    "  right = FALSE\n",
    ")\n",
    "\n",
    "head(phenotypes)"
   ]
  },
  {
   "cell_type": "markdown",
   "id": "1b14eb27-5823-4557-bef5-a141da1a769e",
   "metadata": {},
   "source": [
    "## Question 2"
   ]
  },
  {
   "cell_type": "code",
   "execution_count": 37,
   "id": "4fb8cbfd-184d-474b-96ca-69c307db2934",
   "metadata": {
    "tags": []
   },
   "outputs": [
    {
     "data": {
      "text/plain": [
       "   \n",
       "    normal overweight\n",
       "  0   1002         55\n",
       "  1    244          6\n",
       "  2     17          0"
      ]
     },
     "metadata": {},
     "output_type": "display_data"
    }
   ],
   "source": [
    "table(genotypes[1:1324,1], phenotypes$BMI_cat)"
   ]
  },
  {
   "cell_type": "code",
   "execution_count": 38,
   "id": "c304d86e-c97f-4e52-ad12-e88ed02668d6",
   "metadata": {
    "tags": []
   },
   "outputs": [],
   "source": [
    "vizualisation_data = data.frame(\n",
    "    BMI_cat = phenotypes$BMI_cat,\n",
    "    Premier_variant = genotypes[1:1324,1]\n",
    ")"
   ]
  },
  {
   "cell_type": "code",
   "execution_count": 39,
   "id": "9fdb27a7-ca2b-48a3-bf12-98c231009e05",
   "metadata": {
    "tags": []
   },
   "outputs": [
    {
     "data": {
      "image/png": "[encoded data removed]",
      "text/plain": [
       "plot without title"
      ]
     },
     "metadata": {
      "image/png": {
       "height": 420,
       "width": 600
      }
     },
     "output_type": "display_data"
    },
    {
     "data": {
      "image/png": "[encoded data removed]",
      "text/plain": [
       "plot without title"
      ]
     },
     "metadata": {
      "image/png": {
       "height": 420,
       "width": 600
      }
     },
     "output_type": "display_data"
    }
   ],
   "source": [
    "ggplot(data=vizualisation_data) + aes(x=BMI_cat) + geom_bar(aes(y = (after_stat(count)))) + ggtitle(\"Diagram of de BMI categories\")\n",
    "ggplot(data=vizualisation_data) + aes(x=Premier_variant) + geom_bar(aes(y = (after_stat(count))/sum(after_stat(count)))) + ggtitle(\"Diagram of the Premier variant categories\")"
   ]
  },
  {
   "cell_type": "code",
   "execution_count": 40,
   "id": "a5c2bec6-9aad-4c64-ab49-0ae1aacddfe7",
   "metadata": {
    "tags": []
   },
   "outputs": [
    {
     "data": {
      "image/png": "[encoded data removed]",
      "text/plain": [
       "plot without title"
      ]
     },
     "metadata": {
      "image/png": {
       "height": 420,
       "width": 600
      }
     },
     "output_type": "display_data"
    }
   ],
   "source": [
    "ggplot(vizualisation_data) + aes(x=Premier_variant, fill=BMI_cat) + geom_bar(aes(y = (after_stat(count))/sum(after_stat(count)))) + ggtitle(\"proportion of categories in fonction of the variant\")"
   ]
  },
  {
   "cell_type": "code",
   "execution_count": 41,
   "id": "d8592b91-7bfd-4f2d-971e-fc9b3731dd5b",
   "metadata": {
    "tags": []
   },
   "outputs": [
    {
     "data": {
      "image/png": "[encoded data removed]",
      "text/plain": [
       "plot without title"
      ]
     },
     "metadata": {
      "image/png": {
       "height": 420,
       "width": 600
      }
     },
     "output_type": "display_data"
    }
   ],
   "source": [
    "vizualisation_data$BMI_cat = factor(vizualisation_data$BMI_cat)\n",
    "\n",
    "ggplot(vizualisation_data) +\n",
    "  aes(x = BMI_cat, fill = as.factor(Premier_variant)) +\n",
    "  geom_bar(aes(y = (after_stat(count))/sum(after_stat(count)))) +\n",
    "  ggtitle(\"Proportion of variants in different BMI categories\")"
   ]
  },
  {
   "cell_type": "markdown",
   "id": "6ac1f5a2-13d4-4b04-8d09-318ff52a9695",
   "metadata": {},
   "source": [
    "It is hard to conclude on something because we don't have a lot of data for each category"
   ]
  },
  {
   "cell_type": "markdown",
   "id": "53cdc374-a907-4b34-923f-953f06b0e669",
   "metadata": {},
   "source": [
    "## Question 3"
   ]
  },
  {
   "cell_type": "code",
   "execution_count": 42,
   "id": "46edf4fa-f86a-46e0-8b33-14634e89b201",
   "metadata": {
    "tags": []
   },
   "outputs": [
    {
     "data": {
      "text/plain": [
       "   \n",
       "    normal overweight\n",
       "  0   1002         55\n",
       "  1    244          6\n",
       "  2     17          0"
      ]
     },
     "metadata": {},
     "output_type": "display_data"
    }
   ],
   "source": [
    "table(genotypes[1:1324,1], phenotypes$BMI_cat)"
   ]
  },
  {
   "cell_type": "markdown",
   "id": "24e718f2-586b-4a8a-9391-a8f27d8225a8",
   "metadata": {},
   "source": [
    "We observe that there are no data or not so many so the $\\chi^2$ independance test is maybe not the best test to do because it is asymptotic"
   ]
  },
  {
   "cell_type": "code",
   "execution_count": 43,
   "id": "7880ec5e-c96b-433c-a7a8-1493d92c096d",
   "metadata": {
    "tags": []
   },
   "outputs": [
    {
     "name": "stderr",
     "output_type": "stream",
     "text": [
      "Warning message in chisq.test(genotypes[1:1324, 1], phenotypes$BMI_cat):\n",
      "“L’approximation du Chi-2 est peut-être incorrecte”\n"
     ]
    },
    {
     "data": {
      "text/plain": [
       "\n",
       "\tPearson's Chi-squared test\n",
       "\n",
       "data:  genotypes[1:1324, 1] and phenotypes$BMI_cat\n",
       "X-squared = 4.4471, df = 2, p-value = 0.1082\n"
      ]
     },
     "metadata": {},
     "output_type": "display_data"
    }
   ],
   "source": [
    "chisq.test(genotypes[1:1324,1],phenotypes$BMI_cat)"
   ]
  },
  {
   "cell_type": "markdown",
   "id": "5bdd1715-bd10-4b2d-9c48-d6304adc93d9",
   "metadata": {},
   "source": [
    "In this case, we can use the Fisher's test"
   ]
  },
  {
   "cell_type": "markdown",
   "id": "1d6475fd-33d1-4841-b5de-837d3d863e55",
   "metadata": {
    "tags": []
   },
   "source": [
    "We test $H_0$: \"the BMI category is independant from the premier variant\" against $H_1$: \"the BMI category is not independant from the premier variant\""
   ]
  },
  {
   "cell_type": "code",
   "execution_count": 44,
   "id": "f641667d-96e7-4c33-9e96-4e2e5f9e2c02",
   "metadata": {
    "tags": []
   },
   "outputs": [
    {
     "data": {
      "text/plain": [
       "\n",
       "\tFisher's Exact Test for Count Data\n",
       "\n",
       "data:  genotypes[1:1324, 1] and phenotypes$BMI_cat\n",
       "p-value = 0.1363\n",
       "alternative hypothesis: two.sided\n"
      ]
     },
     "metadata": {},
     "output_type": "display_data"
    }
   ],
   "source": [
    "fisher.test(genotypes[1:1324,1], phenotypes$BMI_cat)"
   ]
  },
  {
   "cell_type": "markdown",
   "id": "f44db573-b534-4720-9200-14e21872a6b2",
   "metadata": {},
   "source": [
    "In the both case the p_value is higher than 10% so we can keep the hypothesis $H_0$ with a risk of  $\\alpha = 5\\%$ and conclude that they are independant."
   ]
  },
  {
   "cell_type": "markdown",
   "id": "b28a0dcb-724e-4fd0-aa2b-02cc32957b91",
   "metadata": {},
   "source": [
    "## Question 4"
   ]
  },
  {
   "cell_type": "code",
   "execution_count": 45,
   "id": "a7a09158-edc6-4047-8224-dea7713b5624",
   "metadata": {
    "tags": []
   },
   "outputs": [],
   "source": [
    "compt = 1\n",
    "pvalues = c()\n",
    "while(compt <= dim(genotypes)[2]){\n",
    "    pvalues = c(pvalues, fisher.test(genotypes[1:1324,compt], phenotypes$BMI_cat)$p.value)\n",
    "    compt = compt + 1\n",
    "}"
   ]
  },
  {
   "cell_type": "code",
   "execution_count": 46,
   "id": "63545c2c-fcd5-4762-8a0d-792c1526ef62",
   "metadata": {
    "tags": []
   },
   "outputs": [
    {
     "data": {
      "text/html": [
       "1534"
      ],
      "text/latex": [
       "1534"
      ],
      "text/markdown": [
       "1534"
      ],
      "text/plain": [
       "[1] 1534"
      ]
     },
     "metadata": {},
     "output_type": "display_data"
    }
   ],
   "source": [
    "sum(pvalues <= 0.05)"
   ]
  },
  {
   "cell_type": "code",
   "execution_count": 47,
   "id": "81e9547f-a5ab-40c4-9d76-39ca13b88f35",
   "metadata": {
    "tags": []
   },
   "outputs": [
    {
     "data": {
      "text/html": [
       "307"
      ],
      "text/latex": [
       "307"
      ],
      "text/markdown": [
       "307"
      ],
      "text/plain": [
       "[1] 307"
      ]
     },
     "metadata": {},
     "output_type": "display_data"
    }
   ],
   "source": [
    "sum(pvalues <= 0.01)"
   ]
  },
  {
   "cell_type": "markdown",
   "id": "958213ea-9bd7-48f9-9617-0b68a630e850",
   "metadata": {
    "tags": []
   },
   "source": [
    "We observe that, with a risk of $\\alpha = 5\\%$, we reject 1534 times the independance of the variant with the BMI"
   ]
  },
  {
   "cell_type": "markdown",
   "id": "054cd537-25f9-4b1e-bc44-c08e2270886d",
   "metadata": {
    "tags": []
   },
   "source": [
    "and with a risk of $\\alpha = 1\\%$, we reject 307 times the independance"
   ]
  },
  {
   "cell_type": "markdown",
   "id": "7df57fd5-f0ec-466d-9eda-c72789ce3fde",
   "metadata": {},
   "source": [
    "We can do the hypothesis that some variant are relevant to explain BMI"
   ]
  },
  {
   "cell_type": "markdown",
   "id": "12fe2939-d7f2-4857-b520-dd28fb793feb",
   "metadata": {},
   "source": [
    "## Question 5"
   ]
  },
  {
   "cell_type": "markdown",
   "id": "6b49bf7b-79b6-4f5b-b896-bb4d3b3a62cb",
   "metadata": {},
   "source": [
    "Now , we do the same thing with a random vector"
   ]
  },
  {
   "cell_type": "code",
   "execution_count": 48,
   "id": "f6257355-c92f-4788-9978-ee76c39fd381",
   "metadata": {
    "tags": []
   },
   "outputs": [],
   "source": [
    "set.seed(0)\n",
    "random_vector = rbinom(dim(genotypes)[1], size = 1, prob = 0.5)"
   ]
  },
  {
   "cell_type": "code",
   "execution_count": 49,
   "id": "950110ed-ecef-4784-9a6c-4298659bc6ea",
   "metadata": {
    "tags": []
   },
   "outputs": [],
   "source": [
    "compt = 1\n",
    "pvalues2 = c()\n",
    "while(compt <= dim(genotypes)[2]){\n",
    "    pvalues2 = c(pvalues2, fisher.test(genotypes[1:1324,compt], random_vector)$p.value)\n",
    "    compt = compt + 1\n",
    "}"
   ]
  },
  {
   "cell_type": "code",
   "execution_count": 50,
   "id": "c94ce6ec-8410-45b3-90fa-1233de09caa6",
   "metadata": {
    "tags": []
   },
   "outputs": [
    {
     "data": {
      "text/html": [
       "1574"
      ],
      "text/latex": [
       "1574"
      ],
      "text/markdown": [
       "1574"
      ],
      "text/plain": [
       "[1] 1574"
      ]
     },
     "metadata": {},
     "output_type": "display_data"
    }
   ],
   "source": [
    "sum(pvalues2 <= 0.05)"
   ]
  },
  {
   "cell_type": "code",
   "execution_count": 51,
   "id": "2ab8f761-f30b-4bf4-970e-60606873d035",
   "metadata": {
    "tags": []
   },
   "outputs": [
    {
     "data": {
      "text/html": [
       "316"
      ],
      "text/latex": [
       "316"
      ],
      "text/markdown": [
       "316"
      ],
      "text/plain": [
       "[1] 316"
      ]
     },
     "metadata": {},
     "output_type": "display_data"
    }
   ],
   "source": [
    "sum(pvalues2 <= 0.01)"
   ]
  },
  {
   "cell_type": "markdown",
   "id": "6e3a7392-011b-4c44-b65d-9dc78ef0928c",
   "metadata": {},
   "source": [
    "We observe the same proportion of rejection of the independance with the random vector and the BMI categories for $\\alpha = 5\\%$ and $\\alpha = 1\\%$"
   ]
  },
  {
   "cell_type": "markdown",
   "id": "842652dd-823c-43ba-a6dd-e55f3ce17c84",
   "metadata": {},
   "source": [
    "## Question 6"
   ]
  },
  {
   "cell_type": "markdown",
   "id": "5e4abb3c-935c-4bba-af66-459c7ad6a436",
   "metadata": {},
   "source": [
    "In conclusion, the proportion of variant that are relevant to explain the BMI categories are the same for the random vector."
   ]
  },
  {
   "cell_type": "markdown",
   "id": "6c65d4bc-10d0-42c3-86b2-1276603b5477",
   "metadata": {
    "tags": []
   },
   "source": [
    "We can forget our first hypothesis because the variant that we found relevant were just probably false positive."
   ]
  },
  {
   "cell_type": "markdown",
   "id": "d151667e-f170-4b0c-9870-865fc10d876b",
   "metadata": {},
   "source": [
    "To verify it, we can compute the proportion of p_values that are lower than the risk"
   ]
  },
  {
   "cell_type": "markdown",
   "id": "b87e6d8e-7446-48f1-8cb2-62cb97ce2cd4",
   "metadata": {},
   "source": [
    "for a risk of $\\alpha = 5\\%$, we have 1534 p_values lower than 0.05 for a total of 32019 different variant so the proportion of positive test is $\\frac{1534}{32019} \\approx 5\\% $"
   ]
  },
  {
   "cell_type": "markdown",
   "id": "ddc228dd-8cc6-441e-a267-0262b5e2f77a",
   "metadata": {},
   "source": [
    "for a risk of $\\alpha = 1\\%$, we have 307 p_values lower than 0.01 so the proportion of positive test is $\\frac{307}{32019} \\approx 1\\% $"
   ]
  },
  {
   "cell_type": "markdown",
   "id": "f23fe1f3-d713-4ac1-83b1-dc1b179d7f21",
   "metadata": {},
   "source": [
    "Finally, we can't explain the BMI categories with the genetic."
   ]
  }
 ],
 "metadata": {
  "kernelspec": {
   "display_name": "R",
   "language": "R",
   "name": "ir"
  },
  "language_info": {
   "codemirror_mode": "r",
   "file_extension": ".r",
   "mimetype": "text/x-r-source",
   "name": "R",
   "pygments_lexer": "r",
   "version": "4.2.3"
  }
 },
 "nbformat": 4,
 "nbformat_minor": 5
}
