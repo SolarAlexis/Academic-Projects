{
 "cells": [
  {
   "cell_type": "code",
   "execution_count": 1,
   "metadata": {},
   "outputs": [],
   "source": [
    "import numpy as np\n",
    "import matplotlib.pyplot as plt\n",
    "from sklearn.datasets import load_digits\n",
    "digits = load_digits()\n",
    "X, y = digits.data, digits.target"
   ]
  },
  {
   "cell_type": "code",
   "execution_count": 2,
   "metadata": {},
   "outputs": [
    {
     "data": {
      "text/plain": [
       "((1797, 64), (1797,))"
      ]
     },
     "execution_count": 2,
     "metadata": {},
     "output_type": "execute_result"
    }
   ],
   "source": [
    "# a) la fonction .shape nous permet de connaitre la taille de X et y\n",
    "\n",
    "X.shape , y.shape"
   ]
  },
  {
   "cell_type": "code",
   "execution_count": 3,
   "metadata": {},
   "outputs": [],
   "source": [
    "# a) il y a donc 1797 d'exemples contenus dans la base de donnée"
   ]
  },
  {
   "cell_type": "code",
   "execution_count": 4,
   "metadata": {},
   "outputs": [
    {
     "name": "stdout",
     "output_type": "stream",
     "text": [
      "[ 0.  0.  5. 12.  1.  0.  0.  0.  0.  0. 15. 14.  7.  0.  0.  0.  0.  0.\n",
      " 13.  1. 12.  0.  0.  0.  0.  2. 10.  0. 14.  0.  0.  0.  0.  0.  2.  0.\n",
      " 16.  1.  0.  0.  0.  0.  0.  6. 15.  0.  0.  0.  0.  0.  9. 16. 15.  9.\n",
      "  8.  2.  0.  0.  3. 11.  8. 13. 12.  4.]\n"
     ]
    }
   ],
   "source": [
    "# b)\n",
    "\n",
    "print(X[12])"
   ]
  },
  {
   "cell_type": "code",
   "execution_count": 5,
   "metadata": {},
   "outputs": [
    {
     "data": {
      "text/plain": [
       "2"
      ]
     },
     "execution_count": 5,
     "metadata": {},
     "output_type": "execute_result"
    },
    {
     "data": {
      "image/png": "[encoded data removed]",
      "text/plain": [
       "<Figure size 432x288 with 1 Axes>"
      ]
     },
     "metadata": {
      "needs_background": "light"
     },
     "output_type": "display_data"
    }
   ],
   "source": [
    "# c)\n",
    "\n",
    "x = X[12]\n",
    "x = np.reshape(x, (8,8))\n",
    "plt.imshow(x, cmap='gray')\n",
    "\n",
    "# On vérifie que cela correspond bien à y[12]\n",
    "y[12]"
   ]
  },
  {
   "cell_type": "code",
   "execution_count": 6,
   "metadata": {},
   "outputs": [],
   "source": [
    "# c) On a bien un 2"
   ]
  },
  {
   "cell_type": "code",
   "execution_count": 7,
   "metadata": {},
   "outputs": [],
   "source": [
    "# d) On append dans a les indices où y vaut 0\n",
    "\n",
    "a = []\n",
    "for i in range(len(y)):\n",
    "    if y[i] == 0:\n",
    "        a.append(i)\n",
    "y0 = np.array(a)"
   ]
  },
  {
   "cell_type": "code",
   "execution_count": 8,
   "metadata": {},
   "outputs": [],
   "source": [
    "# d) Maintenant que l'on a y0 le sous tableau de y qui contient les lignes de X pour lequels l'image est 0 on cherche X0\n",
    "# le sous tableau X avec uniquement les images de 0\n",
    "\n",
    "X0= []\n",
    "for i in range(len(y0)):\n",
    "    b = X[y0[i]]\n",
    "    X0.append(b)"
   ]
  },
  {
   "cell_type": "code",
   "execution_count": 9,
   "metadata": {},
   "outputs": [],
   "source": [
    "# e) On cherche maintenant le \"0 moyen\" donc on fait la moyenne des pixels de tous les 0 pour chacun des 64 pixels\n",
    "\n",
    "Moyen0 = X0[0].copy()\n",
    "for i in range(64):\n",
    "    temp = 0\n",
    "    for j in range(178):\n",
    "        temp = temp + X0[j][i]\n",
    "    Moyen0[i] = temp/178"
   ]
  },
  {
   "cell_type": "code",
   "execution_count": 10,
   "metadata": {},
   "outputs": [
    {
     "data": {
      "text/plain": [
       "<matplotlib.image.AxesImage at 0x1c2bd12c9a0>"
      ]
     },
     "execution_count": 10,
     "metadata": {},
     "output_type": "execute_result"
    },
    {
     "data": {
      "image/png": "[encoded data removed]",
      "text/plain": [
       "<Figure size 432x288 with 1 Axes>"
      ]
     },
     "metadata": {
      "needs_background": "light"
     },
     "output_type": "display_data"
    }
   ],
   "source": [
    "# e) On a notre \"0 moyen\"\n",
    "\n",
    "x = Moyen0.copy()\n",
    "x = np.reshape(x, (8,8))\n",
    "plt.imshow(x, cmap='gray')"
   ]
  },
  {
   "cell_type": "code",
   "execution_count": 11,
   "metadata": {},
   "outputs": [],
   "source": [
    "# f) On veut reproduire la meme chose pour les autres valeurs donc on définit les fonctions pour le faire\n",
    "\n",
    "# d'abord y_valeur qui renvoie les indices pour lesquels y vaut n pour n entre 1 et 9\n",
    "def y_valeur(n):\n",
    "    a = []\n",
    "    for i in range(len(y)):\n",
    "        if y[i] == n:\n",
    "            a.append(i)\n",
    "    return np.array(a)\n",
    "\n",
    "# Ensuite X_valeur qui renvoie le sous tableau de X contenant les images de n\n",
    "def X_valeur(n,yn):\n",
    "    Xn= []\n",
    "    for i in range(len(yn)):\n",
    "        b = X[yn[i]]\n",
    "        Xn.append(b)\n",
    "    return Xn\n",
    "\n",
    "# On peut maintenant trouver le \"n moyen\" pour chaque valeur\n",
    "def n_moyen(Xn):\n",
    "    Moyenn = Xn[0].copy()\n",
    "    for i in range(64):\n",
    "        temp = 0\n",
    "        for j in range(len(Xn)):\n",
    "            temp = temp + Xn[j][i]\n",
    "        Moyenn[i] = temp/len(Xn)\n",
    "    return Moyenn"
   ]
  },
  {
   "cell_type": "code",
   "execution_count": 12,
   "metadata": {},
   "outputs": [
    {
     "data": {
      "text/plain": [
       "<matplotlib.image.AxesImage at 0x1c2bd47e3a0>"
      ]
     },
     "execution_count": 12,
     "metadata": {},
     "output_type": "execute_result"
    },
    {
     "data": {
      "image/png": "[encoded data removed]",
      "text/plain": [
       "<Figure size 432x288 with 1 Axes>"
      ]
     },
     "metadata": {
      "needs_background": "light"
     },
     "output_type": "display_data"
    }
   ],
   "source": [
    "# f) On vérifie que les fonctions marchent bien en retrouvant le 0 moyen\n",
    "\n",
    "test = n_moyen(X_valeur(0,y_valeur(0)))\n",
    "test = np.reshape(test, (8,8))\n",
    "plt.imshow(test, cmap='gray')"
   ]
  },
  {
   "cell_type": "code",
   "execution_count": 13,
   "metadata": {},
   "outputs": [
    {
     "data": {
      "image/png": "[encoded data removed]",
      "text/plain": [
       "<Figure size 1440x144 with 10 Axes>"
      ]
     },
     "metadata": {
      "needs_background": "light"
     },
     "output_type": "display_data"
    }
   ],
   "source": [
    "# f) On a bien retrouvé notre \"0 moyen\" donc on peut reproduire la meme chose pour les autres valeurs\n",
    "\n",
    "val = [0 for i in range(10)]\n",
    "for i in range(10):\n",
    "    val[i] = n_moyen(X_valeur(i,y_valeur(i)))\n",
    "    val[i] = np.reshape(val[i], (8,8))\n",
    "    \n",
    "plt.figure(figsize=(20,2))\n",
    "for i in range(10):\n",
    "    ax = plt.subplot(1,10,i+1)\n",
    "    ax.imshow(val[i], cmap='gray')"
   ]
  },
  {
   "cell_type": "code",
   "execution_count": 14,
   "metadata": {},
   "outputs": [],
   "source": [
    "# g) On coupe les 1797 lignes en deux parties de taille 899 et 898\n",
    "\n",
    "X_train = X[:899:]\n",
    "y_train = y[:899:]\n",
    "X_test = X[899::]\n",
    "y_test = y[899::]"
   ]
  },
  {
   "cell_type": "code",
   "execution_count": 15,
   "metadata": {},
   "outputs": [
    {
     "data": {
      "image/png": "[encoded data removed]",
      "text/plain": [
       "<Figure size 1440x144 with 10 Axes>"
      ]
     },
     "metadata": {
      "needs_background": "light"
     },
     "output_type": "display_data"
    }
   ],
   "source": [
    "# h) On recherche maintenant les centroides pour X_train donc on reproduit les memes fonctions pour X_train et y_train\n",
    "\n",
    "def y_valeur_train(n):\n",
    "    a = []\n",
    "    for i in range(len(y_train)):\n",
    "        if y_train[i] == n:\n",
    "            a.append(i)\n",
    "    return np.array(a)\n",
    "\n",
    "def X_valeur_train(n,yn):\n",
    "    Xn= []\n",
    "    for i in range(len(yn)):\n",
    "        b = X_train[yn[i]]\n",
    "        Xn.append(b)\n",
    "    return Xn\n",
    "\n",
    "# On peut garder la meme fonction n_moyen\n",
    "\n",
    "centroids_train = [0 for i in range(10)]\n",
    "for i in range(10):\n",
    "    centroids_train[i] = n_moyen(X_valeur_train(i,y_valeur_train(i)))\n",
    "    centroids_train[i] = np.reshape(centroids_train[i], (8,8))\n",
    "    \n",
    "# On a donc maintenant les centroides de X_train\n",
    "\n",
    "plt.figure(figsize=(20,2))\n",
    "for i in range(10):\n",
    "    ax = plt.subplot(1,10,i+1)\n",
    "    ax.imshow(val[i], cmap='gray')"
   ]
  },
  {
   "cell_type": "code",
   "execution_count": 16,
   "metadata": {},
   "outputs": [],
   "source": [
    "# i) On cherche maintenant à savoir à quel centroide se rapproche le plus chaque image de X_test\n",
    "\n",
    "# On a besoin que les lignes de centroids_train soient de taille 64\n",
    "for i in range(10):\n",
    "    centroids_train[i] = n_moyen(X_valeur_train(i,y_valeur_train(i)))\n",
    "\n",
    "def prediction(X):\n",
    "    # -1 sert à initialiser res\n",
    "    res = np.array([-1 for i in range(len(X))])\n",
    "    \n",
    "    # i correspond à chaque image de X_test\n",
    "    for i in range(len(X)):\n",
    "        \n",
    "        # 100 est arbitraire pour que 0 prenne la valeur à la première itération\n",
    "        res_temp = np.array([100 for i in range(64)])\n",
    "        res_val_temp = 0\n",
    "        \n",
    "        # j correspond aux 10 valeurs de centroides à tester\n",
    "        for j in range(10):\n",
    "            temp = abs(X[i]-centroids_train[j])\n",
    "            val_temp = j\n",
    "            if np.sqrt(np.sum(temp**2)) < np.sqrt(np.sum(res_temp**2)):\n",
    "                res_temp = temp\n",
    "                res_val_temp = val_temp\n",
    "        res[i] = res_val_temp\n",
    "    return res"
   ]
  },
  {
   "cell_type": "code",
   "execution_count": 17,
   "metadata": {},
   "outputs": [],
   "source": [
    "# i) On a donc notre évalutation de X_test à partir des centroids\n",
    "\n",
    "eval_test = prediction(X_test)"
   ]
  },
  {
   "cell_type": "code",
   "execution_count": 18,
   "metadata": {},
   "outputs": [],
   "source": [
    "# j) On définit la fonction verif qui va calculer le pourcentage de bonne réponse de notre évaluation\n",
    "\n",
    "def verif(X,y):\n",
    "    res = 0\n",
    "    l = len(X)\n",
    "    for i in range(l):\n",
    "        if X[i] == y[i]:\n",
    "            res = res + 1\n",
    "    return res/l * 100"
   ]
  },
  {
   "cell_type": "code",
   "execution_count": 19,
   "metadata": {},
   "outputs": [
    {
     "data": {
      "text/plain": [
       "87.75055679287304"
      ]
     },
     "execution_count": 19,
     "metadata": {},
     "output_type": "execute_result"
    }
   ],
   "source": [
    "verif(eval_test,y_test)"
   ]
  },
  {
   "cell_type": "code",
   "execution_count": 20,
   "metadata": {},
   "outputs": [],
   "source": [
    "# j) On a donc environ 88% de bonne réponse"
   ]
  },
  {
   "cell_type": "code",
   "execution_count": 21,
   "metadata": {},
   "outputs": [],
   "source": [
    "# Exercice 2"
   ]
  },
  {
   "cell_type": "code",
   "execution_count": 22,
   "metadata": {},
   "outputs": [],
   "source": [
    "import matplotlib.pyplot as plt\n",
    "%matplotlib inline"
   ]
  },
  {
   "cell_type": "code",
   "execution_count": 23,
   "metadata": {},
   "outputs": [],
   "source": [
    "dic = {'mathématiques' : {'algèbre', 'analyse', 'arithmétique'}, \\\n",
    "'arithmétique' : {'algèbre', 'mathématiques', 'cryptographie'}, \\\n",
    "'algèbre' : {'analyse', 'mathématiques'}, \\\n",
    "'analyse' : {'algèbre', 'mathématiques'},\n",
    "'cryptographie': set()}"
   ]
  },
  {
   "cell_type": "code",
   "execution_count": 24,
   "metadata": {},
   "outputs": [],
   "source": [
    "# a) en annexe"
   ]
  },
  {
   "cell_type": "code",
   "execution_count": 25,
   "metadata": {},
   "outputs": [],
   "source": [
    "# b)\n",
    "\n",
    "dic2 = {0:{1,2,3}, 1:{0,2,4}, 2:{0,3}, 3:{0,2}, 4:{}}"
   ]
  },
  {
   "cell_type": "code",
   "execution_count": 26,
   "metadata": {},
   "outputs": [],
   "source": [
    "# c)\n",
    "\n",
    "def adjmat(graph):\n",
    "    G = graph.copy()\n",
    "    l = len(G)\n",
    "    res = np.zeros((l,l))\n",
    "    for i in range(l):\n",
    "        for j in range(l):\n",
    "            if j in G[i]:\n",
    "                res[i][j] = 1\n",
    "    return res"
   ]
  },
  {
   "cell_type": "code",
   "execution_count": 27,
   "metadata": {},
   "outputs": [
    {
     "data": {
      "text/plain": [
       "array([[0., 1., 1., 1., 0.],\n",
       "       [1., 0., 1., 0., 1.],\n",
       "       [1., 0., 0., 1., 0.],\n",
       "       [1., 0., 1., 0., 0.],\n",
       "       [0., 0., 0., 0., 0.]])"
      ]
     },
     "execution_count": 27,
     "metadata": {},
     "output_type": "execute_result"
    }
   ],
   "source": [
    "# c) On vérifie la fonction avec la matrice d'adjacence du dictionnaire de b)\n",
    "\n",
    "adjmat(dic2)"
   ]
  },
  {
   "cell_type": "code",
   "execution_count": 28,
   "metadata": {},
   "outputs": [],
   "source": [
    "# d) \n",
    "\n",
    "def probmat(graph):\n",
    "    \n",
    "    G = graph.copy()\n",
    "    l = len(G)\n",
    "    # G_adj vaut 1 quand j est un lien sur la page i\n",
    "    G_adj = adjmat(G)\n",
    "    \n",
    "    # On s'assure que l'on ne peut pas aller d'une page i à la meme page i\n",
    "    for i in range(l):\n",
    "        G_adj[i][i] = 0\n",
    "    res = G_adj.copy()\n",
    "    \n",
    "    for i in range(l):\n",
    "        m = np.sum(G_adj[i])\n",
    "        if m == 0:\n",
    "            for j in range(l):\n",
    "                if i != j:\n",
    "                    res[i][j] = 1/(l-1)\n",
    "        else:\n",
    "            for j in range(l):\n",
    "                if res[i][j] == 1:\n",
    "                    res[i][j] = 1/m\n",
    "    return res"
   ]
  },
  {
   "cell_type": "code",
   "execution_count": 29,
   "metadata": {},
   "outputs": [
    {
     "data": {
      "text/plain": [
       "array([[0.        , 0.33333333, 0.33333333, 0.33333333, 0.        ],\n",
       "       [0.33333333, 0.        , 0.33333333, 0.        , 0.33333333],\n",
       "       [0.5       , 0.        , 0.        , 0.5       , 0.        ],\n",
       "       [0.5       , 0.        , 0.5       , 0.        , 0.        ],\n",
       "       [0.25      , 0.25      , 0.25      , 0.25      , 0.        ]])"
      ]
     },
     "execution_count": 29,
     "metadata": {},
     "output_type": "execute_result"
    }
   ],
   "source": [
    "# d) On vérifie à nouveau la fonction avec la matrice d'adjacence du dictionnaire de b)\n",
    "\n",
    "probmat(dic2)"
   ]
  },
  {
   "cell_type": "code",
   "execution_count": 30,
   "metadata": {},
   "outputs": [],
   "source": [
    "# e) et f) en annexe"
   ]
  },
  {
   "cell_type": "code",
   "execution_count": 31,
   "metadata": {},
   "outputs": [],
   "source": [
    "# g) # on utilise d'abord la fonction de d) pour avoir M et on calcule v(M)^k\n",
    "\n",
    "def pagerank(graph,k):\n",
    "    \n",
    "    M = probmat(dic2)\n",
    "    (a , _ ) = M.shape\n",
    "    v = np.array([1/a for i in range(a)])\n",
    "    Mk = probmat(dic2)\n",
    "    \n",
    "    # On calcule M^k\n",
    "    for i in range(1,k):\n",
    "        Mk = Mk.dot(M)\n",
    "    \n",
    "    return v.dot(Mk)"
   ]
  },
  {
   "cell_type": "code",
   "execution_count": 32,
   "metadata": {},
   "outputs": [
    {
     "data": {
      "text/plain": [
       "array([0.31712963, 0.11157407, 0.28425926, 0.2462963 , 0.04074074])"
      ]
     },
     "execution_count": 32,
     "metadata": {},
     "output_type": "execute_result"
    }
   ],
   "source": [
    "# g) enfin on vérifie la fonction\n",
    "\n",
    "pagerank(dic2,3)"
   ]
  },
  {
   "cell_type": "code",
   "execution_count": 33,
   "metadata": {},
   "outputs": [],
   "source": [
    "# exercice 3"
   ]
  },
  {
   "cell_type": "code",
   "execution_count": 34,
   "metadata": {},
   "outputs": [],
   "source": [
    "# a)\n",
    "\n",
    "def generer_complexe(N):\n",
    "    \n",
    "    re = np.random.uniform(-1, 1, size=N)\n",
    "    im = np.random.uniform(-1, 1, size=N)\n",
    "    res = re + im * 1.j\n",
    "    res = res / np.absolute(res)\n",
    "\n",
    "    return res"
   ]
  },
  {
   "cell_type": "code",
   "execution_count": 35,
   "metadata": {},
   "outputs": [
    {
     "data": {
      "text/plain": [
       "array([-0.54859801-0.83608625j,  0.97540668+0.22041284j,\n",
       "       -0.94891527-0.315531j  ,  0.07602535-0.99710589j,\n",
       "       -0.48613153+0.87388565j,  0.9398499 -0.3415877j ,\n",
       "       -0.48438199-0.87485661j,  0.99438724+0.1058018j ,\n",
       "        0.75501246+0.65571045j,  0.34264906-0.93946348j])"
      ]
     },
     "execution_count": 35,
     "metadata": {},
     "output_type": "execute_result"
    }
   ],
   "source": [
    "# a) On teste la fonction\n",
    "\n",
    "generer_complexe(10)"
   ]
  },
  {
   "cell_type": "code",
   "execution_count": 36,
   "metadata": {},
   "outputs": [
    {
     "data": {
      "text/plain": [
       "(array([40433., 50137., 68449., 50586., 40900., 40521., 50038., 67755.,\n",
       "        50074., 40534., 40951., 50183., 69164., 49602., 40908., 40539.,\n",
       "        49826., 68410., 50275., 40715.]),\n",
       " array([-3.14158602e+00, -2.82742809e+00, -2.51327016e+00, -2.19911223e+00,\n",
       "        -1.88495430e+00, -1.57079637e+00, -1.25663844e+00, -9.42480513e-01,\n",
       "        -6.28322584e-01, -3.14164654e-01, -6.72497677e-06,  3.14151204e-01,\n",
       "         6.28309134e-01,  9.42467063e-01,  1.25662499e+00,  1.57078292e+00,\n",
       "         1.88494085e+00,  2.19909878e+00,  2.51325671e+00,  2.82741464e+00,\n",
       "         3.14157257e+00]),\n",
       " <BarContainer object of 20 artists>)"
      ]
     },
     "execution_count": 36,
     "metadata": {},
     "output_type": "execute_result"
    },
    {
     "data": {
      "image/png": "[encoded data removed]",
      "text/plain": [
       "<Figure size 432x288 with 1 Axes>"
      ]
     },
     "metadata": {
      "needs_background": "light"
     },
     "output_type": "display_data"
    }
   ],
   "source": [
    "# b) On regarde si les vecteurs sont répartis de manière uniforme\n",
    "\n",
    "test = generer_complexe(10**6)\n",
    "plt.hist(np.angle(test), bins=20)"
   ]
  },
  {
   "cell_type": "code",
   "execution_count": 37,
   "metadata": {},
   "outputs": [],
   "source": [
    "# b) on observe que la distribution n'est pas uniforme"
   ]
  },
  {
   "cell_type": "code",
   "execution_count": 38,
   "metadata": {},
   "outputs": [],
   "source": [
    "# g) On observe qu'il y a beaucoup plus de valeurs en pi/4 modulo pi/2 ce qui est parfaitement normal car on tire les vecteurs\n",
    "#    uniformement dans le carré [-1,1]² et non dans le cercle de rayon 1 ce qui fait qu'il y a plus de vecteurs avec un angle de\n",
    "#    de pi/4 que de vecteur avec un angle de 0 car comme les vecteurs sont tirés uniformément, il y a plus de chance de\n",
    "#    tomber sur un vecteur placé sur le segment entre (0,0) et (1,1) de longueur racine de 2 que sur le segment entre (0,0) et\n",
    "#    et (1,0) de longueur 1"
   ]
  },
  {
   "cell_type": "code",
   "execution_count": 39,
   "metadata": {},
   "outputs": [],
   "source": [
    "# c)\n",
    "\n",
    "def generer_complexe_monte_carlo(N):\n",
    "    \n",
    "    temp = generer_complexe(N)\n",
    "    return np.array([temp[i] for i in range(len(temp)) if (temp[i].real**2 + temp[i].imag**2 <= 1)])"
   ]
  },
  {
   "cell_type": "code",
   "execution_count": 40,
   "metadata": {},
   "outputs": [
    {
     "data": {
      "text/plain": [
       "(array([30152., 38909., 53786., 38984., 30625., 30238., 39189., 53966.,\n",
       "        38877., 30222., 30225., 38814., 53873., 39055., 30360., 30432.,\n",
       "        38927., 54268., 38680., 30012.]),\n",
       " array([-3.14158129e+00, -2.82742338e+00, -2.51326547e+00, -2.19910756e+00,\n",
       "        -1.88494965e+00, -1.57079174e+00, -1.25663383e+00, -9.42475918e-01,\n",
       "        -6.28318007e-01, -3.14160096e-01, -2.18583243e-06,  3.14155725e-01,\n",
       "         6.28313635e-01,  9.42471546e-01,  1.25662946e+00,  1.57078737e+00,\n",
       "         1.88494528e+00,  2.19910319e+00,  2.51326110e+00,  2.82741901e+00,\n",
       "         3.14157692e+00]),\n",
       " <BarContainer object of 20 artists>)"
      ]
     },
     "execution_count": 40,
     "metadata": {},
     "output_type": "execute_result"
    },
    {
     "data": {
      "image/png": "[encoded data removed]",
      "text/plain": [
       "<Figure size 432x288 with 1 Axes>"
      ]
     },
     "metadata": {
      "needs_background": "light"
     },
     "output_type": "display_data"
    }
   ],
   "source": [
    "# c)\n",
    "\n",
    "test2 = generer_complexe_monte_carlo(10**6)\n",
    "plt.hist(np.angle(test2),bins=20)"
   ]
  },
  {
   "cell_type": "code",
   "execution_count": 41,
   "metadata": {},
   "outputs": [],
   "source": [
    "# c) On observe que la distribution n'est toujours pas uniforme"
   ]
  },
  {
   "cell_type": "code",
   "execution_count": 42,
   "metadata": {},
   "outputs": [],
   "source": [
    "# d) On définit la fonction comparer pour obtenir la différence entre la proportion n/N et pi/4\n",
    "\n",
    "def comparer(n):\n",
    "    \n",
    "    temp1 = generer_complexe(n)\n",
    "    temp2 = np.array([temp1[i] for i in range(len(temp1)) if (temp1[i].real**2 + temp1[i].imag**2 <= 1)])\n",
    "    return abs(len(temp2)/len(temp1) - np.pi/4)"
   ]
  },
  {
   "cell_type": "code",
   "execution_count": 43,
   "metadata": {},
   "outputs": [
    {
     "data": {
      "text/plain": [
       "0.01543916339744833"
      ]
     },
     "execution_count": 43,
     "metadata": {},
     "output_type": "execute_result"
    }
   ],
   "source": [
    "# d) On observe que n/N est \"proche\" de pi/4\n",
    "\n",
    "comparer(1000000)"
   ]
  },
  {
   "cell_type": "code",
   "execution_count": 44,
   "metadata": {},
   "outputs": [],
   "source": [
    "import scipy"
   ]
  },
  {
   "cell_type": "code",
   "execution_count": 45,
   "metadata": {},
   "outputs": [],
   "source": [
    "# e) On définit la fonction proba qui donne la probabilité qu'un vecteur de R^n pris au hasard dans le cube unitaire soit dans\n",
    "#    la boule unitaire de R^n\n",
    "\n",
    "def proba(n):\n",
    "    \n",
    "    volume_boule = np.pi**(n/2) / scipy.special.gamma(n/2 + 1)\n",
    "    volume_cube = 2**n\n",
    "    \n",
    "    return volume_boule/volume_cube"
   ]
  },
  {
   "cell_type": "code",
   "execution_count": 46,
   "metadata": {},
   "outputs": [
    {
     "data": {
      "text/plain": [
       "[<matplotlib.lines.Line2D at 0x1c2be4d1af0>]"
      ]
     },
     "execution_count": 46,
     "metadata": {},
     "output_type": "execute_result"
    },
    {
     "data": {
      "image/png": "[encoded data removed]",
      "text/plain": [
       "<Figure size 432x288 with 1 Axes>"
      ]
     },
     "metadata": {
      "needs_background": "light"
     },
     "output_type": "display_data"
    }
   ],
   "source": [
    "# e) On trace la fonction proba en fonction des dimensions n\n",
    "\n",
    "x = np.array([i for i in range(2,21)])\n",
    "plt.plot(x,np.array([proba(x[i]) for i in range(len(x))]))"
   ]
  },
  {
   "cell_type": "code",
   "execution_count": 47,
   "metadata": {},
   "outputs": [
    {
     "data": {
      "text/plain": [
       "[<matplotlib.lines.Line2D at 0x1c2bd32e760>]"
      ]
     },
     "execution_count": 47,
     "metadata": {},
     "output_type": "execute_result"
    },
    {
     "data": {
      "image/png": "[encoded data removed]",
      "text/plain": [
       "<Figure size 432x288 with 1 Axes>"
      ]
     },
     "metadata": {
      "needs_background": "light"
     },
     "output_type": "display_data"
    }
   ],
   "source": [
    "# e) On observe que cette probabilité tend vers 0 quand n devient grand\n",
    "\n",
    "plt.plot(x,np.array([np.pi**(x[i]/2) / scipy.special.gamma(x[i]/2 + 1) for i in range(len(x))]))"
   ]
  },
  {
   "cell_type": "code",
   "execution_count": 48,
   "metadata": {},
   "outputs": [],
   "source": [
    "# e) On observe que plus n devient grand et plus le volume de la boule unitaire diminue et le volume du cube unitaire augmente\n",
    "#    car il est de 2^n croissant vers +inf. Donc leur rapport tend vers 0.\n",
    "\n",
    "# On peut donc conclure que c'est une mauvaise idée d'obter pour cette stratégie quand n devient grand car la probabilité \n",
    "# d'avoir des vecteurs dans la boule unitaire (pour qu'il soit accepté à l'étape 2) devient très faible."
   ]
  },
  {
   "cell_type": "code",
   "execution_count": 49,
   "metadata": {},
   "outputs": [],
   "source": [
    "# f)\n",
    "\n",
    "def generer_vecteur_aleatoire(n):\n",
    "    \n",
    "    temp = np.random.randn(n)\n",
    "    \n",
    "    return temp/np.linalg.norm(temp)"
   ]
  },
  {
   "cell_type": "code",
   "execution_count": 50,
   "metadata": {},
   "outputs": [],
   "source": [
    "# f) On définit la fonction transform_complex qui va transformer un vecteur de R^2 en complexe pour calculer son angle.\n",
    "\n",
    "def transform_complex(x):\n",
    "    return x[0] + x[1]*1.j"
   ]
  },
  {
   "cell_type": "code",
   "execution_count": 52,
   "metadata": {},
   "outputs": [
    {
     "data": {
      "text/plain": [
       "(array([49732., 49889., 50043., 49726., 49845., 50163., 49941., 50336.,\n",
       "        50111., 49973., 49633., 50117., 49610., 49973., 49903., 49948.,\n",
       "        50217., 50461., 50092., 50287.]),\n",
       " array([-3.14159137e+00, -2.82743227e+00, -2.51327316e+00, -2.19911405e+00,\n",
       "        -1.88495495e+00, -1.57079584e+00, -1.25663673e+00, -9.42477627e-01,\n",
       "        -6.28318521e-01, -3.14159414e-01, -3.07798837e-07,  3.14158799e-01,\n",
       "         6.28317905e-01,  9.42477012e-01,  1.25663612e+00,  1.57079522e+00,\n",
       "         1.88495433e+00,  2.19911344e+00,  2.51327254e+00,  2.82743165e+00,\n",
       "         3.14159076e+00]),\n",
       " <BarContainer object of 20 artists>)"
      ]
     },
     "execution_count": 52,
     "metadata": {},
     "output_type": "execute_result"
    },
    {
     "data": {
      "image/png": "[encoded data removed]",
      "text/plain": [
       "<Figure size 432x288 with 1 Axes>"
      ]
     },
     "metadata": {
      "needs_background": "light"
     },
     "output_type": "display_data"
    }
   ],
   "source": [
    "test_final = [transform_complex(generer_vecteur_aleatoire(2)) for i in range(10**6)]\n",
    "plt.hist(np.angle(test_final),bins=20)"
   ]
  },
  {
   "cell_type": "code",
   "execution_count": 53,
   "metadata": {},
   "outputs": [],
   "source": [
    "# f) On observe bien que la distribution des angles est uniforme cette fois entre -pi et pi"
   ]
  }
 ],
 "metadata": {
  "kernelspec": {
   "display_name": "Python 3",
   "language": "python",
   "name": "python3"
  },
  "language_info": {
   "codemirror_mode": {
    "name": "ipython",
    "version": 3
   },
   "file_extension": ".py",
   "mimetype": "text/x-python",
   "name": "python",
   "nbconvert_exporter": "python",
   "pygments_lexer": "ipython3",
   "version": "3.8.5"
  }
 },
 "nbformat": 4,
 "nbformat_minor": 4
}
