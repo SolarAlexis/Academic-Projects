{
 "cells": [
  {
   "cell_type": "markdown",
   "id": "a6f20053",
   "metadata": {},
   "source": [
    " Copyright © Sorbonne University.\n",
    "\n",
    " This source code is licensed under the MIT license found in the\n",
    " LICENSE file in the root directory of this source tree."
   ]
  },
  {
   "cell_type": "markdown",
   "id": "ed181641",
   "metadata": {},
   "source": [
    "# Outlook\n",
    "\n",
    "In this notebook we will study basic reinforcement learning\n",
    "algorithms: TD learning, Q-learning and SARSA. We will also investigate two\n",
    "basic exploration strategies: $\\epsilon$-greedy and softmax.\n",
    "\n",
    "\n",
    "## Initialization\n",
    "\n",
    "We begin by loading all the modules necessary for this notebook."
   ]
  },
  {
   "cell_type": "code",
   "execution_count": 1,
   "id": "738c6d84",
   "metadata": {},
   "outputs": [
    {
     "name": "stdout",
     "output_type": "stream",
     "text": [
      "Matplotlib backend: module://matplotlib_inline.backend_inline\n"
     ]
    },
    {
     "name": "stderr",
     "output_type": "stream",
     "text": [
      "c:\\Users\\asola\\.conda\\envs\\deepdac\\lib\\site-packages\\bbrl_utils\\notebook.py:46: TqdmExperimentalWarning: Using `tqdm.autonotebook.tqdm` in notebook mode. Use `tqdm.tqdm` instead to force console mode (e.g. in jupyter console)\n",
      "  from tqdm.autonotebook import tqdm  # noqa: F401\n"
     ]
    }
   ],
   "source": [
    "try:\n",
    "    from easypip import easyimport\n",
    "except ModuleNotFoundError:\n",
    "    from subprocess import run\n",
    "    assert run([\"pip\", \"install\", \"easypip\"]).returncode == 0, \"Could not install easypip\"\n",
    "    from easypip import easyimport\n",
    "\n",
    "easyimport(\"swig\")\n",
    "easyimport(\"bbrl_utils\").setup(maze_mdp=True)\n",
    "\n",
    "import os\n",
    "from pathlib import Path\n",
    "from typing import List, Tuple\n",
    "\n",
    "import gymnasium as gym\n",
    "import matplotlib.pyplot as plt\n",
    "import numpy as np\n",
    "from bbrl_gymnasium.envs.maze_mdp import MazeMDPEnv\n",
    "from bbrl_utils.notebook import tqdm\n",
    "from mazemdp.mdp import Mdp\n",
    "from mazemdp.toolbox import egreedy, egreedy_loc, sample_categorical, softmax\n",
    "from mazemdp import random_policy\n",
    "import bbrl_gymnasium  # noqa: F401\n",
    "\n",
    "# Settings\n",
    "NB_EPISODES = 100\n",
    "TIMEOUT = 25"
   ]
  },
  {
   "cell_type": "markdown",
   "id": "375660fd",
   "metadata": {},
   "source": [
    "# Reinforcement Learning\n",
    "\n",
    "Reinforcement Learning is about finding the optimal policy in an MDP which is\n",
    "initially unknown to the agent. More precisely, the state and action spaces\n",
    "are known, but the agent does not know the transition and reward functions.\n",
    "Generally speaking, the agent has to explore the MDP to figure out which\n",
    "action in which state leads to which other state and reward. The model-free\n",
    "case is about finding this optimal policy just through very local updates,\n",
    "without storing any information about previous interactions with the\n",
    "environment. Principles of these local updates can already be found in the\n",
    "Temporal Difference (TD) algorithm, which iteratively computes optimal values\n",
    "for all state using local updates. The most widely used model-free RL\n",
    "algorithms are **q-learning**, **SARSA** and **actor-critic** algorithms.\n",
    "\n",
    "As for dynamic programming, we first create a maze-like MDP. Reinforcement\n",
    "learning is slower than dynamic programming, so we will work with smaller\n",
    "mazes."
   ]
  },
  {
   "cell_type": "code",
   "execution_count": 2,
   "id": "c43d1e42",
   "metadata": {
    "lines_to_next_cell": 1
   },
   "outputs": [
    {
     "data": {
      "text/html": [
       "<style>table.maze {\n",
       "    border-collapse: collapse;\n",
       "}\n",
       "\n",
       "td {\n",
       "    text-align: center;\n",
       "}\n",
       "\n",
       "table.maze td.cell {\n",
       "    position: relative;\n",
       "    border: 1px solid black;\n",
       "}\n",
       "\n",
       "table.maze td.cell div.agent {\n",
       "    position: absolute;\n",
       "    left: 25%;\n",
       "    top: 25%;;\n",
       "    width: 50%;\n",
       "    height: 50%;\n",
       "    border-radius: 100%;\n",
       "    background:rgba(69, 100, 186, 0.5);\n",
       "}\n",
       "\n",
       "\n",
       "td.wall {\n",
       "    background: black;\n",
       "}\n",
       "\n",
       "td.terminal {\n",
       "    background: rgb(246, 170, 246);\n",
       "}\n",
       "\n",
       "table.maze table td {\n",
       "    width: .5rem;\n",
       "    height: .5rem;\n",
       "}\n",
       "\n",
       "\n",
       "\n",
       "table.maze table td.arrow {\n",
       "    color: transparent;\n",
       "    font-weight: bold;\n",
       "}\n",
       "\n",
       "table.maze table td.value {\n",
       "    position: relative;\n",
       "    width: 2rem;\n",
       "    height: 2rem;\n",
       "}\n",
       "\n",
       "</style>"
      ],
      "text/plain": [
       "<IPython.core.display.HTML object>"
      ]
     },
     "metadata": {},
     "output_type": "display_data"
    },
    {
     "data": {
      "application/vnd.jupyter.widget-view+json": {
       "model_id": "37bd7b8131da41b3a3d25366fbf3229b",
       "version_major": 2,
       "version_minor": 0
      },
      "text/plain": [
       "VBox(children=(MazeWidget(cells=array([[ 0,  3,  6, -1],\n",
       "       [ 1,  4, -1,  8],\n",
       "       [ 2,  5,  7,  9]]), t…"
      ]
     },
     "metadata": {},
     "output_type": "display_data"
    }
   ],
   "source": [
    "import gymnasium as gym\n",
    "\n",
    "# Environment with 20% of walls and no negative reward when hitting a wall\n",
    "env = gym.make(\n",
    "    \"MazeMDP-v0\",\n",
    "    kwargs={\"width\": 4, \"height\": 3, \"ratio\": 0.2, \"hit\": 0.0},\n",
    "    render_mode=\"human\",\n",
    ")\n",
    "env.reset()\n",
    "env.unwrapped.init_draw(\"The maze\")"
   ]
  },
  {
   "cell_type": "markdown",
   "id": "2f7e79df",
   "metadata": {},
   "source": [
    "# Temporal Difference (TD) learning ##\n",
    "\n",
    "Given a state and an action spaces as well as a policy, TD(0) computes the\n",
    "state value of this policy based on the following equations: \n",
    "\n",
    "$$\\delta_t = r(s_t,a_t) + \\gamma V^{(i)}(s_{t+1})-V^{(i)}(s_t)$$\n",
    "$$V^{(i+1)}(s_t) = V^{(i)}(s_t) + \\alpha\\delta_t$$\n",
    "\n",
    "where $\\delta$ is the TD error and $\\alpha$ is a parameter called \"learning\n",
    "rate\".\n",
    "\n",
    "The code is provided below, so that you can take inspiration later on. The\n",
    "important part is the computation of $\\delta$, and the update of the values of\n",
    "$V$.\n",
    "\n",
    "To run TD learning, a policy is needed as input. Such a policy can be\n",
    "retreived by using the `policy_iteration_q(mdp)` function defined in the\n",
    "dynamic programming notebook.\n",
    "\n",
    "If you want to run this notebook independently, you can use instead the\n",
    "`random_policy` provided in `mazemdp`. This is what we do here by default,\n",
    "replace it if you want to run TD learning from an optimal policy.\n",
    "\n",
    "The ```evaluate``` function below is not necessary for the lab, it is left here for its informative value."
   ]
  },
  {
   "cell_type": "code",
   "execution_count": 3,
   "id": "d5eb5153",
   "metadata": {},
   "outputs": [],
   "source": [
    "def evaluate(mdp, policy):\n",
    "    x, _ = mdp.reset(uniform=True)\n",
    "    done = False\n",
    "    reward = 0\n",
    "\n",
    "    while not done:\n",
    "        # Perform a step of the MDP\n",
    "        u = sample_categorical(policy[x])\n",
    "        _, r, done, *_ = mdp.step(u)\n",
    "        reward += r\n",
    "    return reward"
   ]
  },
  {
   "cell_type": "markdown",
   "id": "d3292fd8",
   "metadata": {},
   "source": [
    "**Question:** In the code of the *temporal_difference(...)* function below,\n",
    "fill the missing parts"
   ]
  },
  {
   "cell_type": "code",
   "execution_count": 4,
   "id": "2ea30097",
   "metadata": {},
   "outputs": [],
   "source": [
    "def temporal_difference(\n",
    "    mdp: MazeMDPEnv,\n",
    "    policy: np.ndarray,\n",
    "    nb_episodes: int = 50,\n",
    "    alpha: float = 0.2,\n",
    "    timeout: int = 25,\n",
    "    render: bool = True,\n",
    ") -> np.ndarray:\n",
    "    # alpha: learning rate\n",
    "    # timeout: timeout of an episode (maximum number of timesteps)\n",
    "    v = np.zeros(mdp.unwrapped.nb_states)  # initial state value v\n",
    "    mdp.timeout = timeout\n",
    "\n",
    "    if render:\n",
    "        mdp.unwrapped.init_draw(\"Temporal differences\")\n",
    "\n",
    "    for _ in tqdm(range(nb_episodes)):  # for each episode\n",
    "\n",
    "        # Draw an initial state randomly (if uniform is set to False, the state\n",
    "        # is drawn according to the P0 distribution)\n",
    "        x, _ = mdp.reset(uniform=True)\n",
    "        terminated = False\n",
    "        truncated = False\n",
    "        while not (terminated or truncated):\n",
    "            # Show agent\n",
    "            if render:\n",
    "                mdp.unwrapped.draw_v_pi(v, policy)\n",
    "\n",
    "            # Step forward following the MDP: x=current state, pol[i]=agent's\n",
    "            # action according to policy pol, r=reward gained after taking\n",
    "            # action pol[i], terminated=tells whether  the episode ended, and info\n",
    "            # gives some info about the process\n",
    "            y, r, terminated, truncated, _ = mdp.step(\n",
    "                egreedy_loc(policy[x], mdp.action_space.n, epsilon=0.2)\n",
    "            )\n",
    "            # To be completed...\n",
    "\n",
    "            # Update the state value of x\n",
    "            delta = r + mdp.gamma * v[y] - v[x]\n",
    "            v[x] = v[x] + alpha * delta\n",
    "\n",
    "\n",
    "            # Update agent's position (state)\n",
    "            x = y\n",
    "\n",
    "    if render:\n",
    "        mdp.current_state = 0\n",
    "        mdp.unwrapped.draw_v_pi(v, policy)\n",
    "    return v"
   ]
  },
  {
   "cell_type": "markdown",
   "id": "0008c6d0",
   "metadata": {},
   "source": [
    "Once this is done, you can run it."
   ]
  },
  {
   "cell_type": "code",
   "execution_count": 5,
   "id": "d49727b3",
   "metadata": {},
   "outputs": [
    {
     "data": {
      "application/vnd.jupyter.widget-view+json": {
       "model_id": "23dcec3521b0482684b48cb79629bd67",
       "version_major": 2,
       "version_minor": 0
      },
      "text/plain": [
       "VBox(children=(MazeWidget(cells=array([[ 0,  2, -1,  7],\n",
       "       [ 1,  3,  5,  8],\n",
       "       [-1,  4,  6,  9]]), t…"
      ]
     },
     "metadata": {},
     "output_type": "display_data"
    },
    {
     "data": {
      "application/vnd.jupyter.widget-view+json": {
       "model_id": "083976da7a7a4b6b962d0367d2538324",
       "version_major": 2,
       "version_minor": 0
      },
      "text/plain": [
       "  0%|          | 0/10 [00:00<?, ?it/s]"
      ]
     },
     "metadata": {},
     "output_type": "display_data"
    }
   ],
   "source": [
    "policy = random_policy(env)\n",
    "v = temporal_difference(env, policy, nb_episodes=10, timeout=TIMEOUT)"
   ]
  },
  {
   "cell_type": "markdown",
   "id": "7236e032",
   "metadata": {
    "lines_to_next_cell": 2
   },
   "source": [
    "Unless you were lucky, the generated value function is boring: if the policy\n",
    "does not reach the final state, all values are 0. To avoid this, you can\n",
    "copy-paste a dynamic programming function on the Q function from the previous\n",
    "notebook, use it to get an optimal policy, and use this policy for TD\n",
    "learning. You should get a much more interesting value function."
   ]
  },
  {
   "cell_type": "code",
   "execution_count": 6,
   "id": "82311541",
   "metadata": {
    "lines_to_next_cell": 2
   },
   "outputs": [],
   "source": [
    "# Put your code to obtain an optimal Q function here\n",
    "\n",
    "def value_iteration_v(\n",
    "    mdp: MazeMDPEnv, render: bool = True\n",
    ") -> Tuple[np.ndarray, List[float]]:\n",
    "    # Value Iteration using the state value v\n",
    "    v = np.zeros(mdp.nb_states)  # initial state values are set to 0\n",
    "    v_list = []\n",
    "    stop = False\n",
    "\n",
    "    mdp.init_draw(\"Value iteration V\")\n",
    "\n",
    "    mdp.draw_v(v)\n",
    "\n",
    "    while not stop:\n",
    "        v_old = v.copy()\n",
    "        mdp.draw_v(v)\n",
    "\n",
    "        for x in range(mdp.nb_states):  # for each state x\n",
    "            # Compute the value of the state x for each action u of the MDP action space\n",
    "            if x in mdp.terminal_states:\n",
    "                v[x] = np.max(mdp.r[x, :])\n",
    "            else:\n",
    "                v_temp = []\n",
    "                for u in range(mdp.action_space.n):\n",
    "                    # Process sum of the values of the neighbouring states\n",
    "                    summ = 0\n",
    "                    for y in range(mdp.nb_states):\n",
    "                        summ = summ + mdp.P[x, u, y] * v_old[y]\n",
    "                    v_temp.append(mdp.r[x, u] + mdp.gamma * summ)\n",
    "\n",
    "                # Select the highest state value among those computed\n",
    "                v[x] = np.max(v_temp)\n",
    "\n",
    "        # Test if convergence has been reached\n",
    "        if (np.linalg.norm(v - v_old)) < 0.01:\n",
    "            stop = True\n",
    "        v_list.append(np.linalg.norm(v))\n",
    "\n",
    "    policy = get_policy_from_v(mdp, v)\n",
    "    mdp.draw_v_pi(v, policy)\n",
    "    return v, v_list"
   ]
  },
  {
   "cell_type": "code",
   "execution_count": 7,
   "id": "246d668a",
   "metadata": {},
   "outputs": [],
   "source": [
    "# Put your code to get a policy from a Q function here\n",
    "\n",
    "def get_policy_from_v(mdp: MazeMDPEnv, v: np.ndarray) -> np.ndarray:\n",
    "    \"\"\"Outputs a policy given the state values\"\"\"\n",
    "\n",
    "    # Sets initial state values are set to 0\n",
    "    policy = np.zeros(mdp.nb_states)  \n",
    "\n",
    "    # Loop over MDP states\n",
    "    for x in range(mdp.nb_states):\n",
    "        if x in mdp.terminal_states:\n",
    "            # Takes the reward associated with the terminal state\n",
    "            policy[x] = np.argmax(mdp.r[x, :])\n",
    "        else:\n",
    "            # Compute the value V(x) for state x\n",
    "            v_temp = []\n",
    "            \n",
    "            # Loop over actions\n",
    "            for u in range(mdp.action_space.n):\n",
    "                # Process sum of the values of the neighbouring states\n",
    "                summ = 0\n",
    "                for y in range(mdp.nb_states):\n",
    "                    summ = summ + mdp.P[x, u, y] * v[y]\n",
    "                v_temp.append(mdp.r[x, u] + mdp.gamma * summ)\n",
    "            policy[x] = np.argmax(v_temp)\n",
    "    return policy\n"
   ]
  },
  {
   "cell_type": "code",
   "execution_count": 8,
   "id": "100184bd",
   "metadata": {},
   "outputs": [
    {
     "data": {
      "application/vnd.jupyter.widget-view+json": {
       "model_id": "31c53893aebc45a89edaafdd50785389",
       "version_major": 2,
       "version_minor": 0
      },
      "text/plain": [
       "VBox(children=(MazeWidget(cells=array([[ 0,  2, -1,  7],\n",
       "       [ 1,  3,  5,  8],\n",
       "       [-1,  4,  6,  9]]), t…"
      ]
     },
     "metadata": {},
     "output_type": "display_data"
    },
    {
     "ename": "TypeError",
     "evalue": "can't multiply sequence by non-int of type 'numpy.float64'",
     "output_type": "error",
     "traceback": [
      "\u001b[1;31m---------------------------------------------------------------------------\u001b[0m",
      "\u001b[1;31mTypeError\u001b[0m                                 Traceback (most recent call last)",
      "Cell \u001b[1;32mIn[8], line 4\u001b[0m\n\u001b[0;32m      1\u001b[0m \u001b[38;5;66;03m# Put your code to run the algorithm here\u001b[39;00m\n\u001b[0;32m      3\u001b[0m v \u001b[38;5;241m=\u001b[39m value_iteration_v(env)\n\u001b[1;32m----> 4\u001b[0m policy \u001b[38;5;241m=\u001b[39m \u001b[43mget_policy_from_v\u001b[49m\u001b[43m(\u001b[49m\u001b[43menv\u001b[49m\u001b[43m,\u001b[49m\u001b[43m \u001b[49m\u001b[43mv\u001b[49m\u001b[43m)\u001b[49m\n\u001b[0;32m      5\u001b[0m v \u001b[38;5;241m=\u001b[39m temporal_difference(env, policy, nb_episodes\u001b[38;5;241m=\u001b[39m\u001b[38;5;241m10\u001b[39m, timeout\u001b[38;5;241m=\u001b[39mTIMEOUT)\n",
      "Cell \u001b[1;32mIn[7], line 23\u001b[0m, in \u001b[0;36mget_policy_from_v\u001b[1;34m(mdp, v)\u001b[0m\n\u001b[0;32m     21\u001b[0m     summ \u001b[38;5;241m=\u001b[39m \u001b[38;5;241m0\u001b[39m\n\u001b[0;32m     22\u001b[0m     \u001b[38;5;28;01mfor\u001b[39;00m y \u001b[38;5;129;01min\u001b[39;00m \u001b[38;5;28mrange\u001b[39m(mdp\u001b[38;5;241m.\u001b[39mnb_states):\n\u001b[1;32m---> 23\u001b[0m         summ \u001b[38;5;241m=\u001b[39m summ \u001b[38;5;241m+\u001b[39m \u001b[43mmdp\u001b[49m\u001b[38;5;241;43m.\u001b[39;49m\u001b[43mP\u001b[49m\u001b[43m[\u001b[49m\u001b[43mx\u001b[49m\u001b[43m,\u001b[49m\u001b[43m \u001b[49m\u001b[43mu\u001b[49m\u001b[43m,\u001b[49m\u001b[43m \u001b[49m\u001b[43my\u001b[49m\u001b[43m]\u001b[49m\u001b[43m \u001b[49m\u001b[38;5;241;43m*\u001b[39;49m\u001b[43m \u001b[49m\u001b[43mv\u001b[49m\u001b[43m[\u001b[49m\u001b[43my\u001b[49m\u001b[43m]\u001b[49m\n\u001b[0;32m     24\u001b[0m     v_temp\u001b[38;5;241m.\u001b[39mappend(mdp\u001b[38;5;241m.\u001b[39mr[x, u] \u001b[38;5;241m+\u001b[39m mdp\u001b[38;5;241m.\u001b[39mgamma \u001b[38;5;241m*\u001b[39m summ)\n\u001b[0;32m     25\u001b[0m policy[x] \u001b[38;5;241m=\u001b[39m np\u001b[38;5;241m.\u001b[39margmax(v_temp)\n",
      "\u001b[1;31mTypeError\u001b[0m: can't multiply sequence by non-int of type 'numpy.float64'"
     ]
    }
   ],
   "source": [
    "# Put your code to run the algorithm here\n",
    "\n",
    "v = value_iteration_v(env)\n",
    "policy = get_policy_from_v(env, v)\n",
    "v = temporal_difference(env, policy, nb_episodes=10, timeout=TIMEOUT)"
   ]
  },
  {
   "cell_type": "markdown",
   "id": "6f9a49e6",
   "metadata": {},
   "source": [
    "# Q-learning ##\n",
    "\n",
    "The **q-learning** algorithm accounts for an agent exploring an MDP and\n",
    "updating at each step a model of the state action-value function stored into a\n",
    "Q-table. It is updated as follows:\n",
    "\n",
    "$$\n",
    "\\delta_t = \\left( r(s_t,a_t) + \\gamma \\max_{a \\in A}\n",
    "Q^{(i)}(s_{t+1},a) \\right) -Q^{(i)}(s_t,a_t)\n",
    "$$\n",
    "\n",
    "$$Q^{(i+1)}(s_t, a_t) = Q^{(i)}(s_t,a_t) + \\alpha \\delta_t$$\n",
    "\n",
    "To visualize the policy, we need the `get_policy_from_q(q)` function that we defined in the\n",
    "dynamic programming notebook. If you have not done so yet, import it below."
   ]
  },
  {
   "cell_type": "code",
   "execution_count": 11,
   "id": "f4eea3ce",
   "metadata": {},
   "outputs": [],
   "source": [
    "# Put your code here\n",
    "def value_iteration_q(\n",
    "    mdp: MazeMDPEnv, render: bool = True\n",
    ") -> Tuple[np.ndarray, List[float]]:\n",
    "    q = np.zeros(\n",
    "        (mdp.nb_states, mdp.action_space.n)\n",
    "    )  # initial action values are set to 0\n",
    "    q_list = []\n",
    "    stop = False\n",
    "\n",
    "    mdp.init_draw(\"Value iteration Q\")\n",
    "\n",
    "    mdp.draw_v(q)\n",
    "\n",
    "    while not stop:\n",
    "        qold = q.copy()\n",
    "\n",
    "        mdp.draw_v(q)\n",
    "\n",
    "        for x in range(mdp.nb_states):\n",
    "            for u in range(mdp.action_space.n):\n",
    "                if x in mdp.terminal_states:\n",
    "                    q[x, u] = mdp.r[x, u]\n",
    "                else:\n",
    "                    summ = 0\n",
    "                    for y in range(mdp.nb_states):\n",
    "                        summ += mdp.P[x, u, y] * np.max(qold[y, :]) \n",
    "\n",
    "                    # Compléter d'après la formule ci-dessus\n",
    "                    q[x, u] = mdp.r[x, u] + mdp.gamma * summ\n",
    "\n",
    "\n",
    "        if (np.linalg.norm(q - qold)) <= 0.01:\n",
    "            stop = True\n",
    "        q_list.append(np.linalg.norm(q))\n",
    "\n",
    "    mdp.draw_v(q)\n",
    "\n",
    "    return q, q_list\n",
    "\n",
    "def get_policy_from_q(q: np.ndarray) -> np.ndarray:\n",
    "    # Outputs a policy given the action values\n",
    "    \n",
    "    return np.array([np.argmax(value) for value in q])"
   ]
  },
  {
   "cell_type": "markdown",
   "id": "89c27d71",
   "metadata": {},
   "source": [
    "Fill the code of the `q_learning(...)` function below."
   ]
  },
  {
   "cell_type": "code",
   "execution_count": 12,
   "id": "991834c3",
   "metadata": {
    "lines_to_next_cell": 2
   },
   "outputs": [],
   "source": [
    "# --------------------------- Q-Learning epsilon-greedy version -------------------------------#\n",
    "# Given an exploration rate epsilon, the QLearning algorithm computes the state action-value function\n",
    "# based on an epsilon-greedy policy\n",
    "# alpha is the learning rate\n",
    "\n",
    "\n",
    "def q_learning_eps(\n",
    "    mdp: MazeMDPEnv,\n",
    "    epsilon: float,\n",
    "    nb_episodes: int = 20,\n",
    "    timeout: int = 50,\n",
    "    alpha: float = 0.5,\n",
    "    render: bool = True,\n",
    "    init_q: float = 0.0,\n",
    "    uniform: bool = True,\n",
    ") -> Tuple[np.ndarray, List[float]]:\n",
    "    # Initialize the state-action value function\n",
    "    # alpha is the learning rate\n",
    "    q = np.zeros((mdp.nb_states, mdp.action_space.n))\n",
    "    q_min = np.zeros((mdp.nb_states, mdp.action_space.n))\n",
    "    q[:, :] = init_q\n",
    "    q_list = []\n",
    "    time_list = []\n",
    "\n",
    "    # Run learning cycle\n",
    "    mdp.timeout = timeout  # episode length\n",
    "\n",
    "    if render:\n",
    "        mdp.init_draw(\"Q Learning\")\n",
    "\n",
    "    for _ in range(nb_episodes):\n",
    "        # Draw the first state of episode i using a uniform distribution over all the states\n",
    "        x, _ = mdp.reset(uniform=uniform)\n",
    "        cpt = 0\n",
    "\n",
    "        terminated = False\n",
    "        truncated = False\n",
    "        while not (terminated or truncated):\n",
    "            # Show the agent in the maze\n",
    "            if render:\n",
    "                mdp.draw_v_pi(q, q.argmax(axis=1))\n",
    "\n",
    "            # Draw an action using an epsilon-greedy policy\n",
    "            u = egreedy(q, x, epsilon)\n",
    "\n",
    "            # Perform a step of the MDP\n",
    "            y, r, terminated, truncated, _ = mdp.step(u)\n",
    "\n",
    "            # To be completed...\n",
    "\n",
    "            # Update the state-action value function with q-Learning\n",
    "            delta = r + mdp.gamma * (1-terminated) * max(q[y,:]) - q[x, u]\n",
    "            q[x, u] += alpha * delta\n",
    "\n",
    "\n",
    "            # Update the agent position\n",
    "            x = y\n",
    "            cpt = cpt + 1\n",
    "\n",
    "        q_list.append(np.linalg.norm(np.maximum(q, q_min)))\n",
    "        time_list.append(cpt)\n",
    "\n",
    "    if render:\n",
    "        mdp.current_state = 0\n",
    "        mdp.draw_v_pi(q, get_policy_from_q(q))\n",
    "\n",
    "    return q, q_list, time_list"
   ]
  },
  {
   "cell_type": "markdown",
   "id": "8a7f0031",
   "metadata": {
    "lines_to_next_cell": 2
   },
   "source": [
    "And run it."
   ]
  },
  {
   "cell_type": "code",
   "execution_count": 13,
   "id": "84928fbb",
   "metadata": {},
   "outputs": [
    {
     "data": {
      "application/vnd.jupyter.widget-view+json": {
       "model_id": "912b0ed521d14797bf992f0810125540",
       "version_major": 2,
       "version_minor": 0
      },
      "text/plain": [
       "VBox(children=(MazeWidget(cells=array([[ 0,  2, -1,  7],\n",
       "       [ 1,  3,  5,  8],\n",
       "       [-1,  4,  6,  9]]), t…"
      ]
     },
     "metadata": {},
     "output_type": "display_data"
    }
   ],
   "source": [
    "epsilon = 0.02\n",
    "q, q_list, time_list = q_learning_eps(\n",
    "    env, epsilon, nb_episodes=NB_EPISODES, timeout=TIMEOUT\n",
    ")"
   ]
  },
  {
   "cell_type": "markdown",
   "id": "073b8841",
   "metadata": {
    "lines_to_next_cell": 2
   },
   "source": [
    "## Harder case: fixed starting point and exploration\n",
    "\n",
    "We now explore the case where the agent always start at the *beginning of the maze* (`uniform=False`), corresponding to the top-left corner when this is a free cell."
   ]
  },
  {
   "cell_type": "code",
   "execution_count": 14,
   "id": "5c24d618",
   "metadata": {},
   "outputs": [
    {
     "data": {
      "application/vnd.jupyter.widget-view+json": {
       "model_id": "503781ce3bac4507bea4d345aacf9d71",
       "version_major": 2,
       "version_minor": 0
      },
      "text/plain": [
       "VBox(children=(MazeWidget(cells=array([[ 0,  2, -1,  7],\n",
       "       [ 1,  3,  5,  8],\n",
       "       [-1,  4,  6,  9]]), t…"
      ]
     },
     "metadata": {},
     "output_type": "display_data"
    }
   ],
   "source": [
    "epsilon = 0.02\n",
    "start_q, start_q_list, time_list = q_learning_eps(\n",
    "    env, epsilon, nb_episodes=NB_EPISODES, timeout=TIMEOUT, uniform=False\n",
    ")"
   ]
  },
  {
   "cell_type": "markdown",
   "id": "80e1e919",
   "metadata": {},
   "source": [
    "You will observe that it is very difficult for the agent to learn to reach the\n",
    "final state (and the larger the maze, the more difficult). A simple trick to\n",
    "avoid this is to initialize the value of each $(s,a)$ pair to a small (lower\n",
    "than the final reward) value. Try it with the example above !"
   ]
  },
  {
   "cell_type": "code",
   "execution_count": 15,
   "id": "21b8416b",
   "metadata": {},
   "outputs": [],
   "source": [
    "# To be completed...\n",
    "\n",
    "# Put your code to run q_learning_eps here\n",
    "\n"
   ]
  },
  {
   "cell_type": "markdown",
   "id": "a044c3d3",
   "metadata": {},
   "source": [
    "### Learning dynamics\n",
    "\n",
    "By watching carefully the values while the agent is learning, you can see that\n",
    "the agent favors certains paths over others which have a strictly equivalent value.\n",
    "This can be explained easily: as the agent chooses a path for the first\n",
    "time, it updates the values along that path, these values get higher than the\n",
    "surrounding values, and the agent chooses the same path again and again,\n",
    "increasing the phenomenon. Only steps of random exploration can counterbalance\n",
    "this effect, but they do so extremely slowly.\n",
    "\n",
    "### Exploration\n",
    "\n",
    "In the `q_learning(...)` function above, action selection is based on a\n",
    "$\\epsilon$-greedy policy. Instead, it could have relied on *`softmax`*.\n",
    "\n",
    "In the function below, you have to replace the call to the\n",
    "previous *$\\epsilon$-greedy* policy with a `softmax` policy. The\n",
    "`softmax(...)` and `egreedy(...)` functions are available in\n",
    "`mazemdp.toolbox`.\n",
    "\n",
    "`sofmax(...)` returns a distribution probability over actions. To sample\n",
    "an action according to their probabilities, you can use the\n",
    "`sample_categorical` function."
   ]
  },
  {
   "cell_type": "code",
   "execution_count": 16,
   "id": "81aee446",
   "metadata": {},
   "outputs": [],
   "source": [
    "# --------------------------- Q-Learning softmax version ----------------------------#\n",
    "# Given a temperature \"beta\", the QLearning algorithm computes the state action-value function\n",
    "# based on a softmax policy\n",
    "# alpha is the learning rate\n",
    "\n",
    "\n",
    "def q_learning_soft(\n",
    "    mdp: MazeMDPEnv,\n",
    "    beta: float,\n",
    "    nb_episodes: int = 20,\n",
    "    timeout: int = 50,\n",
    "    alpha: float = 0.5,\n",
    "    render: bool = True,\n",
    ") -> Tuple[np.ndarray, List[float]]:\n",
    "    # Initialize the state-action value function\n",
    "    # alpha is the learning rate\n",
    "    q = np.zeros((mdp.nb_states, mdp.action_space.n))\n",
    "    q_min = np.zeros((mdp.nb_states, mdp.action_space.n))\n",
    "    q_list = []\n",
    "    time_list = []\n",
    "\n",
    "    # Run learning cycle\n",
    "    mdp.timeout = timeout  # episode length\n",
    "\n",
    "    if render:\n",
    "        mdp.init_draw(\"Q Learning (Softmax)\")\n",
    "\n",
    "    for _ in range(nb_episodes):\n",
    "        # Draw the first state of episode i using a uniform distribution over all the states\n",
    "        x, _ = mdp.reset(uniform=True)\n",
    "        cpt = 0\n",
    "\n",
    "        terminated = False\n",
    "        truncated = False\n",
    "        while not (terminated or truncated):\n",
    "            if render:\n",
    "                mdp.draw_v_pi(q, q.argmax(axis=1))\n",
    "\n",
    "            # To be completed...\n",
    "\n",
    "            # Draw an action using a soft-max policy\n",
    "            u = sample_categorical(softmax(q, x, 1/6)) # (here, call the softmax function)\n",
    "\n",
    "\n",
    "            # To be completed...\n",
    "\n",
    "            # Copy-paste the rest from q_learning_eps\n",
    "             # Perform a step of the MDP\n",
    "            y, r, terminated, truncated, _ = mdp.step(u)\n",
    "\n",
    "            # To be completed...\n",
    "\n",
    "            # Update the state-action value function with q-Learning\n",
    "            delta = r + mdp.gamma * (1-terminated) * max(q[y,:]) - q[x, u]\n",
    "            q[x, u] += alpha * delta\n",
    "\n",
    "\n",
    "            x = y\n",
    "            cpt = cpt + 1\n",
    "\n",
    "        q_list.append(np.linalg.norm(np.maximum(q, q_min)))\n",
    "        time_list.append(cpt)\n",
    "\n",
    "    if render:\n",
    "        mdp.current_state = 0\n",
    "        mdp.draw_v_pi(q, get_policy_from_q(q))\n",
    "\n",
    "    return q, q_list, time_list"
   ]
  },
  {
   "cell_type": "markdown",
   "id": "61449904",
   "metadata": {},
   "source": [
    " Run this new version"
   ]
  },
  {
   "cell_type": "code",
   "execution_count": 17,
   "id": "cbd3f8f9",
   "metadata": {},
   "outputs": [
    {
     "data": {
      "application/vnd.jupyter.widget-view+json": {
       "model_id": "f5f3d67bf1bb42949722ea83c28c1c47",
       "version_major": 2,
       "version_minor": 0
      },
      "text/plain": [
       "VBox(children=(MazeWidget(cells=array([[ 0,  2, -1,  7],\n",
       "       [ 1,  3,  5,  8],\n",
       "       [-1,  4,  6,  9]]), t…"
      ]
     },
     "metadata": {},
     "output_type": "display_data"
    }
   ],
   "source": [
    "NB_EPISODES = 40\n",
    "beta = 6\n",
    "q, q_list, time_list = q_learning_soft(\n",
    "    env, beta, nb_episodes=NB_EPISODES, timeout=TIMEOUT\n",
    ")"
   ]
  },
  {
   "cell_type": "markdown",
   "id": "3bf6d2ef",
   "metadata": {},
   "source": [
    "# Sarsa\n",
    "\n",
    "The **sarsa** algorithm is very similar to **q-learning**. At first glance,\n",
    "the only difference is in the update rule. However, to perform the update in\n",
    "**sarsa**, one needs to know the action the agent will take when it will be at\n",
    "the next state, even if the agent is taking a random action.\n",
    "\n",
    "This implies that the next state action is determined in advance and stored\n",
    "for being played at the next time step.\n",
    "\n",
    "The update formula is as follows: \n",
    "\n",
    "$$ \\delta_t = \\left( r(s_t,a_t) + \\gamma Q^{(i)}(s_{t+1}, a_{t+1})\n",
    "\\right) -Q^{(i)}(s_t,a_t) $$\n",
    "\n",
    "$$ Q^{(i+1)}(s_t,a_t) = Q^{(i)}(s_t,a_t) + \\alpha \\delta_t $$ \n",
    "\n",
    "\n",
    "\n",
    "## SARSA ($\\epsilon-greedy$ version)\n",
    "Fill the code below"
   ]
  },
  {
   "cell_type": "code",
   "execution_count": 18,
   "id": "2aefef1f",
   "metadata": {},
   "outputs": [],
   "source": [
    "# Given an exploration rate epsilon, the SARSA algorithm computes the state action-value function\n",
    "# based on an epsilon-greedy policy\n",
    "# alpha is the learning rate\n",
    "\n",
    "\n",
    "def sarsa_eps(\n",
    "    mdp: MazeMDPEnv,\n",
    "    epsilon: float,\n",
    "    nb_episodes: int = 20,\n",
    "    timeout: int = 50,\n",
    "    alpha: float = 0.5,\n",
    "    render: bool = True,\n",
    ") -> Tuple[np.ndarray, List[float]]:\n",
    "    # Initialize the state-action value function\n",
    "    # alpha is the learning rate\n",
    "    q = np.zeros((mdp.nb_states, mdp.action_space.n))\n",
    "    q_min = np.zeros((mdp.nb_states, mdp.action_space.n))\n",
    "    q_list = []\n",
    "    time_list = []\n",
    "\n",
    "    # Run learning cycle\n",
    "    mdp.timeout = timeout  # episode length\n",
    "\n",
    "    if render:\n",
    "        mdp.init_draw(\"Sarsa e-greedy\")\n",
    "\n",
    "    for _ in range(nb_episodes):\n",
    "        # Draw the first state of episode i using a uniform distribution over all the states\n",
    "        x, _ = mdp.reset(uniform=True)\n",
    "        u = egreedy(q, x, epsilon)\n",
    "        cpt = 0\n",
    "        \n",
    "        # To be completed...\n",
    "\n",
    "        # Fill this part of the code\n",
    "        terminated = False\n",
    "        truncated = False\n",
    "        while not (terminated or truncated):\n",
    "            if render:\n",
    "                mdp.draw_v_pi(q, q.argmax(axis=1))\n",
    "\n",
    "\n",
    "            # To be completed...\n",
    "\n",
    "            # Copy-paste the rest from q_learning_eps\n",
    "             # Perform a step of the MDP\n",
    "            y, r, terminated, truncated, _ = mdp.step(u)\n",
    "            v = egreedy(q, y, epsilon)\n",
    "            # To be completed...\n",
    "\n",
    "            # Update the state-action value function with q-Learning\n",
    "            delta = r + mdp.gamma * (1-terminated) * q[y, v] - q[x, u]\n",
    "            q[x, u] += alpha * delta\n",
    "\n",
    "\n",
    "            x = y\n",
    "            u = v\n",
    "            cpt = cpt + 1\n",
    "\n",
    "        q_list.append(np.linalg.norm(np.maximum(q, q_min)))\n",
    "        time_list.append(cpt)\n",
    "\n",
    "    if render:\n",
    "        mdp.current_state = 0\n",
    "        mdp.draw_v_pi(q, get_policy_from_q(q))\n",
    "    return q, q_list, time_list"
   ]
  },
  {
   "cell_type": "markdown",
   "id": "a7063003",
   "metadata": {},
   "source": [
    "And run it."
   ]
  },
  {
   "cell_type": "code",
   "execution_count": 19,
   "id": "2ca091e6",
   "metadata": {
    "lines_to_next_cell": 2
   },
   "outputs": [
    {
     "data": {
      "application/vnd.jupyter.widget-view+json": {
       "model_id": "28efcc73cd5145f3a435d96ee15e69f4",
       "version_major": 2,
       "version_minor": 0
      },
      "text/plain": [
       "VBox(children=(MazeWidget(cells=array([[ 0,  2, -1,  7],\n",
       "       [ 1,  3,  5,  8],\n",
       "       [-1,  4,  6,  9]]), t…"
      ]
     },
     "metadata": {},
     "output_type": "display_data"
    }
   ],
   "source": [
    "epsilon = 0.02\n",
    "q, q_list, time_list = sarsa_eps(env, epsilon, nb_episodes=NB_EPISODES, timeout=TIMEOUT)"
   ]
  },
  {
   "cell_type": "markdown",
   "id": "079154b6",
   "metadata": {
    "lines_to_next_cell": 2
   },
   "source": [
    "As for **q-learning** above, copy-paste the resulting code to get a\n",
    "*sarsa_soft(...)* and a *sarsa_eps(...)* function."
   ]
  },
  {
   "cell_type": "code",
   "execution_count": 20,
   "id": "694395f4",
   "metadata": {
    "lines_to_next_cell": 2
   },
   "outputs": [],
   "source": [
    "# --------------------------- Sarsa, softmax version -------------------------------#\n",
    "# Given a temperature \"beta\", the SARSA algorithm computes the state action-value function\n",
    "# based on a softmax policy\n",
    "# alpha is the learning rate\n",
    "\n",
    "\n",
    "def sarsa_soft(\n",
    "    mdp: MazeMDPEnv,\n",
    "    beta: float,\n",
    "    nb_episodes: int = 20,\n",
    "    timeout: int = 50,\n",
    "    alpha: float = 0.5,\n",
    "    render: bool = True,\n",
    ") -> Tuple[np.ndarray, List[float]]:\n",
    "\n",
    "    # Initialize the state-action value function\n",
    "    # alpha is the learning rate\n",
    "    q = np.zeros((mdp.nb_states, mdp.action_space.n))\n",
    "    q_min = np.zeros((mdp.nb_states, mdp.action_space.n))\n",
    "    q_list = []\n",
    "    time_list = []\n",
    "\n",
    "    # Run learning cycle\n",
    "    mdp.timeout = timeout  # episode length\n",
    "\n",
    "    if render:\n",
    "        mdp.init_draw(\"Sarsa (Softmax)\")\n",
    "\n",
    "    for _ in range(nb_episodes):\n",
    "        # Draw the first state of episode i using a uniform distribution over all the states\n",
    "        x, _ = mdp.reset(uniform=True)\n",
    "        u = sample_categorical(softmax(q, x, 1/6))\n",
    "        cpt = 0\n",
    "        \n",
    "        # To be completed...\n",
    "\n",
    "        # Fill this part of the code\n",
    "        terminated = False\n",
    "        truncated = False\n",
    "        while not (terminated or truncated):\n",
    "            if render:\n",
    "                mdp.draw_v_pi(q, q.argmax(axis=1))\n",
    "\n",
    "\n",
    "            # To be completed...\n",
    "\n",
    "            # Copy-paste the rest from q_learning_eps\n",
    "             # Perform a step of the MDP\n",
    "            y, r, terminated, truncated, _ = mdp.step(u)\n",
    "            v = sample_categorical(softmax(q, y, 1/6))\n",
    "            # To be completed...\n",
    "\n",
    "            # Update the state-action value function with q-Learning\n",
    "            delta = r + mdp.gamma * (1-terminated) * q[y, v] - q[x, u]\n",
    "            q[x, u] += alpha * delta\n",
    "\n",
    "\n",
    "            x = y\n",
    "            u = v\n",
    "            cpt = cpt + 1\n",
    "\n",
    "\n",
    "        q_list.append(np.linalg.norm(np.maximum(q, q_min)))\n",
    "        time_list.append(cpt)\n",
    "\n",
    "    if render:\n",
    "        mdp.current_state = 0\n",
    "        mdp.draw_v_pi(q, get_policy_from_q(q))\n",
    "    return q, q_list, time_list"
   ]
  },
  {
   "cell_type": "markdown",
   "id": "91b30be1",
   "metadata": {
    "lines_to_next_cell": 2
   },
   "source": [
    "And run it."
   ]
  },
  {
   "cell_type": "code",
   "execution_count": 21,
   "id": "e4706a8b",
   "metadata": {
    "lines_to_next_cell": 2
   },
   "outputs": [
    {
     "data": {
      "application/vnd.jupyter.widget-view+json": {
       "model_id": "8e48d026a94e4e7fa257827914a5611e",
       "version_major": 2,
       "version_minor": 0
      },
      "text/plain": [
       "VBox(children=(MazeWidget(cells=array([[ 0,  2, -1,  7],\n",
       "       [ 1,  3,  5,  8],\n",
       "       [-1,  4,  6,  9]]), t…"
      ]
     },
     "metadata": {},
     "output_type": "display_data"
    }
   ],
   "source": [
    "# To be completed...\n",
    "\n",
    "# Put your code to run sarsa_soft here\n",
    "epsilon = 0.02\n",
    "q, q_list, time_list = sarsa_soft(env, epsilon, nb_episodes=NB_EPISODES, timeout=TIMEOUT)\n"
   ]
  },
  {
   "cell_type": "markdown",
   "id": "5f5f3af9",
   "metadata": {},
   "source": [
    "## Study part\n",
    "### Impact of `epsilon` and `beta` on q-learning and sarsa\n",
    "\n",
    "Compare the number of steps needed by **q-learning** and **sarsa** to converge\n",
    "on a given MDP using the *softmax* and *$\\epsilon$-greedy* exploration\n",
    "strategies. To figure out, you can use the provided `plot_ql_sarsa(m, epsilon,\n",
    "beta, nb_episodes, timeout, alpha, render)` function below with various values\n",
    "for $\\epsilon$ (e.g. 0.001, 0.01, 0.1) and $\\beta$ (e.g. 0.1, 5, 10) and\n",
    "comment the obtained curves. Other visualizations are welcome.\n",
    "\n",
    "Note that instead of the temperature `beta`, computational neuroscience\n",
    "researchers, who generally prefer softmax exploration, use a parameter `beta`\n",
    "which behaves as an inverse of the temperature. That way, the three\n",
    "hyper-parameters of basic tabular RL algorithms are `alpha`, `beta`, and\n",
    "`gamma`."
   ]
  },
  {
   "cell_type": "code",
   "execution_count": 22,
   "id": "e5d6c671",
   "metadata": {},
   "outputs": [],
   "source": [
    "# -------- plot learning curves of Q-Learning and Sarsa using epsilon-greedy and softmax ----------#\n",
    "def plot_ql_sarsa(env, epsilon, beta, nb_episodes, timeout, alpha, render):\n",
    "    q, q_list1, time_list1 = q_learning_eps(\n",
    "        env, epsilon, nb_episodes, timeout, alpha, render\n",
    "    )\n",
    "    q, q_list2, time_list2 = q_learning_soft(\n",
    "        env, beta, nb_episodes, timeout, alpha, render\n",
    "    )\n",
    "    q, q_list3, time_list3 = sarsa_eps(\n",
    "        env, epsilon, nb_episodes, timeout, alpha, render\n",
    "    )\n",
    "    q, q_list4, time_list4 = sarsa_soft(env, beta, nb_episodes, timeout, alpha, render)\n",
    "\n",
    "    plt.clf()\n",
    "    plt.plot(range(len(q_list1)), q_list1, label=\"q-learning e-greedy\")\n",
    "    plt.plot(range(len(q_list2)), q_list2, label=\"q-learning softmax\")\n",
    "    plt.plot(range(len(q_list3)), q_list3, label=\"sarsa e-greedy\")\n",
    "    plt.plot(range(len(q_list4)), q_list4, label=\"sarsa softmax\")\n",
    "\n",
    "    plt.xlabel(\"Number of episodes\")\n",
    "    plt.ylabel(\"Norm of Q values\")\n",
    "    plt.legend(loc=\"upper right\")\n",
    "    # plt.savefig(\"comparison_RL.png\")\n",
    "    plt.title(\"Comparison of convergence rates\")\n",
    "    plt.show()\n",
    "\n",
    "    plt.clf()\n",
    "    plt.figure(figsize=(10, 5))\n",
    "    plt.plot(range(len(time_list1)), time_list1, label=\"qlearning e-greedy\")\n",
    "    plt.plot(range(len(time_list2)), time_list2, label=\"qlearning softmax\")\n",
    "    plt.plot(range(len(time_list3)), time_list3, label=\"sarsa e-greedy\")\n",
    "    plt.plot(range(len(time_list4)), time_list4, label=\"sarsa softmax\")\n",
    "\n",
    "    plt.xlabel(\"Number of episodes\")\n",
    "    plt.ylabel(\"Steps to reach goal\")\n",
    "    plt.legend(loc=\"upper right\")\n",
    "    # plt.savefig(\"comparison_RL.png\")\n",
    "    plt.title(\"test\")\n",
    "    plt.show()"
   ]
  },
  {
   "cell_type": "code",
   "execution_count": 23,
   "id": "3b3607d1",
   "metadata": {},
   "outputs": [
    {
     "data": {
      "image/png": "[encoded data removed]",
      "text/plain": [
       "<Figure size 640x480 with 1 Axes>"
      ]
     },
     "metadata": {},
     "output_type": "display_data"
    },
    {
     "data": {
      "text/plain": [
       "<Figure size 640x480 with 0 Axes>"
      ]
     },
     "metadata": {},
     "output_type": "display_data"
    },
    {
     "data": {
      "image/png": "[encoded data removed]",
      "text/plain": [
       "<Figure size 1000x500 with 1 Axes>"
      ]
     },
     "metadata": {},
     "output_type": "display_data"
    }
   ],
   "source": [
    "# example\n",
    "plot_ql_sarsa(\n",
    "    env, epsilon=0.02, beta=6, nb_episodes=1000, timeout=100, alpha=0.5, render=False\n",
    ")"
   ]
  },
  {
   "cell_type": "markdown",
   "id": "3bcee530",
   "metadata": {},
   "source": [
    "### Effect of hyper-parameters\n",
    "\n",
    "The other two hyper-parameters of **q-learning** and **sarsa** are $\\alpha$,\n",
    "and $\\gamma$. By varying the values of these hyper-parameters and watching the\n",
    "learning process and behavior of the agent, explain their impact on the\n",
    "algorithm. Using additional plotting functions is also welcome.\n",
    "\n",
    "A good idea to visualize the effect of two parameters is to generate a heat map\n",
    "by letting both parameters take values in a well-chosen interval"
   ]
  },
  {
   "cell_type": "code",
   "execution_count": null,
   "id": "c3c55a8a",
   "metadata": {},
   "outputs": [],
   "source": [
    "# To be completed...\n",
    "\n",
    "# Put your visualization code here\n",
    "assert False, 'Not implemented yet'\n"
   ]
  }
 ],
 "metadata": {
  "jupytext": {
   "cell_markers": "\"\"\""
  },
  "kernelspec": {
   "display_name": "Python 3 (ipykernel)",
   "language": "python",
   "name": "python3"
  },
  "language_info": {
   "codemirror_mode": {
    "name": "ipython",
    "version": 3
   },
   "file_extension": ".py",
   "mimetype": "text/x-python",
   "name": "python",
   "nbconvert_exporter": "python",
   "pygments_lexer": "ipython3",
   "version": "3.9.19"
  }
 },
 "nbformat": 4,
 "nbformat_minor": 5
}
