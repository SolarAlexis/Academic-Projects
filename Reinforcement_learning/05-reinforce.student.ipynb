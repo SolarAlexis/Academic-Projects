{
 "cells": [
  {
   "cell_type": "markdown",
   "id": "6c45b33e",
   "metadata": {},
   "source": [
    " Copyright © Sorbonne University.\n",
    "\n",
    " This source code is licensed under the MIT license found in the LICENSE file\n",
    " in the root directory of this source tree."
   ]
  },
  {
   "cell_type": "markdown",
   "id": "9e25d47a",
   "metadata": {},
   "source": [
    "# Outlook\n",
    "\n",
    "In this notebook, we will implement the REINFORCE algorithm using BBRL.\n",
    "\n",
    "To understand this code, you need to know more about [the BBRL interaction\n",
    "model](https://github.com/osigaud/bbrl/blob/master/docs/overview.md) Then you\n",
    "should run [a didactical\n",
    "example](https://github.com/osigaud/bbrl/blob/master/docs/notebooks/02-multi_env_noautoreset.student.ipynb)\n",
    "to see how agents interact in BBRL when autoreset=False.\n",
    "\n",
    "The REINFORCE algorithm is explained in a series of 3 videos: [video\n",
    "1](https://www.youtube.com/watch?v=R7ULMBXOQtE), [video\n",
    "2](https://www.youtube.com/watch?v=dKUWto9B9WY) and [video\n",
    "3](https://www.youtube.com/watch?v=GcJ9hl3T6x8). You can also read the\n",
    "corresponding slides:\n",
    "[slides1](http://pages.isir.upmc.fr/~sigaud/teach/ps/3_pg_derivation1.pdf),\n",
    "[slides2](http://pages.isir.upmc.fr/~sigaud/teach/ps/4_pg_derivation2.pdf),\n",
    "[slides3](http://pages.isir.upmc.fr/~sigaud/teach/ps/5_pg_derivation3.pdf)."
   ]
  },
  {
   "cell_type": "code",
   "execution_count": 1,
   "id": "86d789fc",
   "metadata": {},
   "outputs": [
    {
     "name": "stderr",
     "output_type": "stream",
     "text": [
      "c:\\Users\\asola\\.conda\\envs\\deepdac\\lib\\site-packages\\bbrl_utils\\notebook.py:46: TqdmExperimentalWarning: Using `tqdm.autonotebook.tqdm` in notebook mode. Use `tqdm.tqdm` instead to force console mode (e.g. in jupyter console)\n",
      "  from tqdm.autonotebook import tqdm  # noqa: F401\n"
     ]
    }
   ],
   "source": [
    "try:\n",
    "    from easypip import easyimport\n",
    "except ModuleNotFoundError:\n",
    "    from subprocess import run\n",
    "\n",
    "    assert (\n",
    "        run([\"pip\", \"install\", \"easypip\"]).returncode == 0\n",
    "    ), \"Could not install easypip\"\n",
    "    from easypip import easyimport\n",
    "\n",
    "easyimport(\"swig\")\n",
    "easyimport(\"bbrl_utils\").setup()\n",
    "\n",
    "from typing import Optional, Tuple\n",
    "\n",
    "import torch\n",
    "import torch.nn as nn\n",
    "from bbrl.agents import Agent, Agents, TemporalAgent\n",
    "from bbrl_utils.algorithms import EpisodicAlgo\n",
    "from bbrl_utils.nn import build_mlp, setup_optimizer\n",
    "from bbrl_utils.notebook import setup_tensorboard\n",
    "from omegaconf import OmegaConf\n",
    "import os\n",
    "from bbrl_utils.nn import copy_parameters"
   ]
  },
  {
   "cell_type": "markdown",
   "id": "76f09cc1",
   "metadata": {},
   "source": [
    "# Learning environment\n",
    "\n",
    "## Configuration\n",
    "\n",
    "The learning environment is controlled by a configuration that define a few\n",
    "important things as described in the example below. This configuration can\n",
    "hold as many extra information as you need, the example below is the minimal\n",
    "one.\n",
    "\n",
    "```python\n",
    "params = {\n",
    "    # This defines the a path for logs and saved models\n",
    "    \"base_dir\": \"${gym_env.env_name}/myalgo_${current_time:}\",\n",
    "\n",
    "    # The Gymnasium environment\n",
    "    \"gym_env\": {\n",
    "        \"env_name\": \"CartPoleContinuous-v1\",\n",
    "    },\n",
    "\n",
    "    # Algorithm\n",
    "    \"algorithm\": {\n",
    "        # Seed used for the random number generator\n",
    "        \"seed\": 1023,\n",
    "\n",
    "        # Number of parallel training environments\n",
    "        \"n_envs\": 8,\n",
    "                \n",
    "        # Minimum number of steps between two evaluations\n",
    "        \"eval_interval\": 500,\n",
    "        \n",
    "        # Number of parallel evaluation environments\n",
    "        \"nb_evals\": 10,\n",
    "\n",
    "        # Number of epochs (loops)\n",
    "        \"max_epochs\": 40000,\n",
    "\n",
    "    },\n",
    "}\n",
    "\n",
    "# Creates the configuration object, i.e. cfg.algorithm.nb_evals is 10\n",
    "cfg = OmegaConf.create(params)\n",
    "```\n",
    "\n",
    "## The RL algorithm\n",
    "\n",
    "In this notebook, the RL algorithm is based on `EpisodicAlgo`, that defines\n",
    "the algorithm environment when using episodes. To use such environment, we\n",
    "just need to subclass `EpisodicAlgo` and to define two things, namely the\n",
    "`train_policy` and the `eval_policy`. Both are BBRL agents that, given the\n",
    "environment state, select the action to perform.\n",
    "\n",
    "```py\n",
    "  class MyAlgo(EpisodicAlgo):\n",
    "      def __init__(self, cfg):\n",
    "          super().__init__(cfg)\n",
    "\n",
    "          # Define the train and evaluation policies\n",
    "          # (the agents compute the workspace `action` variable)\n",
    "          self.train_policy = MyPolicyAgent(...)\n",
    "          self.eval_policy = MyEvalAgent(...)\n",
    "\n",
    "algo = MyAlgo(cfg)\n",
    "```\n",
    "\n",
    "The `EpisodicAlgo` defines useful objects:\n",
    "\n",
    "- `algo.cfg` is the configuration\n",
    "- `algo.nb_steps` (integer) is the number of steps since the training began\n",
    "- `algo.logger` is a logger that can be used to collect statistics during training:\n",
    "    - `algo.logger.add_log(\"critic_loss\", critic_loss, algo.nb_steps)` registers the `critic_loss` value on tensorboard\n",
    "- `algo.evaluate()` evaluates the current `eval_policy` if needed, and keeps the\n",
    "agent if it was the best so far (average cumulated reward);\n",
    "- `algo.visualize_best()` runs the best agent on one episode, and displays the video\n",
    "\n",
    "\n",
    "\n",
    "Besides, it also defines an `iter_episodes` is simple:\n",
    "\n",
    "```py\n",
    "  # With episodes\n",
    "  for workspace in rl_algo.iter_episodes():\n",
    "      # workspace is a workspace containing transitions\n",
    "      # Episodes shorter than the longer one contain duplicated\n",
    "      # transitions (with `env/done` set to true)\n",
    "      ...\n",
    "```"
   ]
  },
  {
   "cell_type": "markdown",
   "id": "aa9f3f5b",
   "metadata": {},
   "source": [
    "## Definition of agents\n",
    "\n",
    "The [REINFORCE](https://link.springer.com/content/pdf/10.1007/BF00992696.pdf)\n",
    "uses a stochastic policy and a baseline which is the value function. Thus we\n",
    "need an Actor agent, a Critic agent and an Environment agent. The actor agents\n",
    "are built on an intermediate `ProbAgent`. Two agents that use the output of\n",
    "`ProbAgent` are defined below:\n",
    "- `ArgmaxActorAgent` that selects the action with the highest probability\n",
    "- `StochasticActorAgent` that selects the action using the probability\n",
    "  distribution"
   ]
  },
  {
   "cell_type": "code",
   "execution_count": 2,
   "id": "70a34004",
   "metadata": {
    "lines_to_next_cell": 2
   },
   "outputs": [],
   "source": [
    "class ProbAgent(Agent):\n",
    "    # Computes the distribution $p(a_t|s_t)$\n",
    "\n",
    "    def __init__(self, state_dim, hidden_layers, n_action, name=\"prob_agent\"):\n",
    "        super().__init__(name)\n",
    "        self.model = build_mlp(\n",
    "            [state_dim] + list(hidden_layers) + [n_action], activation=nn.ReLU()\n",
    "        )\n",
    "\n",
    "    def forward(self, t, **kwargs):\n",
    "        # Get $s_t$\n",
    "        observation = self.get((\"env/env_obs\", t))\n",
    "        # Compute the distribution over actions\n",
    "        scores = self.model(observation)\n",
    "        action_probs = torch.softmax(scores, dim=-1)\n",
    "        assert not torch.any(torch.isnan(action_probs)), \"NaN Here\"\n",
    "\n",
    "        self.set((\"action_probs\", t), action_probs)\n",
    "        entropy = torch.distributions.Categorical(action_probs).entropy()\n",
    "        self.set((\"entropy\", t), entropy)\n",
    "\n",
    "\n",
    "class StochasticActorAgent(Agent):\n",
    "    \"\"\"Sample an action according to $p(a_t|s_t)$\"\"\"\n",
    "\n",
    "    def forward(self, t: int, **kwargs):\n",
    "        probs = self.get((\"action_probs\", t))\n",
    "        action = torch.distributions.Categorical(probs).sample()\n",
    "        self.set((\"action\", t), action)\n",
    "\n",
    "\n",
    "class ArgmaxActorAgent(Agent):\n",
    "    \"\"\"Choose an action $a$ that maximizes $p(a_t|s_t)\"\"\"\n",
    "\n",
    "    def forward(self, t: int, *, stochastic: bool = None, **kwargs):\n",
    "        probs = self.get((\"action_probs\", t))\n",
    "        action = probs.argmax(1)\n",
    "        self.set((\"action\", t), action)"
   ]
  },
  {
   "cell_type": "markdown",
   "id": "2bcc50d4",
   "metadata": {
    "lines_to_next_cell": 2
   },
   "source": [
    "### VAgent\n",
    "\n",
    "The VAgent is a neural network which takes an observation as input and whose\n",
    "output is the value $V(s)$ of this observation. This is useful to\n",
    "reduce the bias on the estimation of the gradient."
   ]
  },
  {
   "cell_type": "code",
   "execution_count": 3,
   "id": "7b85019b",
   "metadata": {
    "lines_to_next_cell": 2
   },
   "outputs": [],
   "source": [
    "class VAgent(Agent):\n",
    "    def __init__(self, state_dim, hidden_layers):\n",
    "        super().__init__()\n",
    "        self.is_q_function = False\n",
    "        self.model = build_mlp(\n",
    "            [state_dim] + list(hidden_layers) + [1], activation=nn.ReLU()\n",
    "        )\n",
    "\n",
    "    def forward(self, t, **kwargs):\n",
    "        observation = self.get((\"env/env_obs\", t))\n",
    "        # The `squeeze(-1)` removes the last dimension of the tensor.\n",
    "        # (since this is a scalar, we want to ignore this dimension since\n",
    "        # the target values will also be scalars)\n",
    "        critic = self.model(observation).squeeze(-1)\n",
    "        self.set((\"v_value\", t), critic)"
   ]
  },
  {
   "cell_type": "markdown",
   "id": "c5c4962e",
   "metadata": {
    "lines_to_next_cell": 2
   },
   "source": [
    "### RL environment\n",
    "\n",
    "In the next cell, we define the Reinforce environment. It is based on `EpisodicAlgo`\n",
    "since learning uses full episodes."
   ]
  },
  {
   "cell_type": "code",
   "execution_count": 4,
   "id": "8a4bbe87",
   "metadata": {
    "lines_to_next_cell": 2
   },
   "outputs": [],
   "source": [
    "class Reinforce(EpisodicAlgo):\n",
    "    def __init__(self, cfg):\n",
    "        super().__init__(cfg)\n",
    "\n",
    "        obs_size, act_size = self.train_env.get_obs_and_actions_sizes()\n",
    "\n",
    "        # Train and critic agents\n",
    "        self.proba_agent = ProbAgent(\n",
    "            obs_size, cfg.algorithm.architecture.actor_hidden_size, act_size\n",
    "        )\n",
    "        self.train_policy = Agents(self.proba_agent, StochasticActorAgent())\n",
    "\n",
    "        # The critic/value agent (if used)\n",
    "        self.t_critic_agent = TemporalAgent(\n",
    "            VAgent(obs_size, cfg.algorithm.architecture.critic_hidden_size)\n",
    "        )\n",
    "\n",
    "        # Evaluation policy\n",
    "        self.eval_policy = Agents(self.proba_agent, ArgmaxActorAgent())\n",
    "\n",
    "        # Setup the optimizer\n",
    "        self.optimizer = setup_optimizer(\n",
    "            cfg.optimizer, self.proba_agent, self.t_critic_agent\n",
    "        )"
   ]
  },
  {
   "cell_type": "markdown",
   "id": "660d6c1e",
   "metadata": {},
   "source": [
    "The next cell describes the arguments of the two main arguments used in the\n",
    "training function `run`:\n",
    "- `compute_advantage` computes the reward at each time step\n",
    "- `compute_critic_loss` computes the loss of the critic (if we use one), i.e.\n",
    "  the baseline in reinforce\n",
    "\n",
    "Both functions will be implemented depending on the reinforce flavor,\n",
    "so you can leave them empty here."
   ]
  },
  {
   "cell_type": "code",
   "execution_count": 5,
   "id": "056089ce",
   "metadata": {},
   "outputs": [],
   "source": [
    "def compute_advantage(\n",
    "    cfg, reward: torch.Tensor, v_value: torch.Tensor\n",
    ") -> torch.Tensor:\n",
    "    \"\"\"Computes the reward at each episode step\n",
    "    \n",
    "    This function is passed as a parameter, and depend on the Reinforce flavor –\n",
    "    the function in this notebook cell will thus never been called.\n",
    "\n",
    "    :param reward: The rewards from the environment (tensor TxB)\n",
    "    :param v_value: The values $V(s)$ computed by the critic (tensor TxB). It\n",
    "        can None if there is no baseline.\n",
    "    :returns: The reward (tensor TxB)\n",
    "    \"\"\"\n",
    "    ...\n",
    "\n",
    "\n",
    "def compute_critic_loss(\n",
    "    cfg, reward, must_bootstrap, done, v_value\n",
    ") -> Tuple[torch.Tensor, Optional[torch.Tensor]]:\n",
    "    \"\"\"Compute the critic loss\n",
    "\n",
    "    :param reward: The reward from the environment (TxB)\n",
    "    :param must_bootstrap: Whether the critic should be bootstrapped (TxB)\n",
    "    :param done: Whether the episode was finished or not at $t$ (TxB)\n",
    "    :param v_value: The v value computed by the critic ($TxB$)\n",
    "    :return: The scalar loss\n",
    "    \"\"\"\n",
    "    # By default, we don't have any critic\n",
    "    # (so just do nothing)\n",
    "    pass"
   ]
  },
  {
   "cell_type": "markdown",
   "id": "d880123f",
   "metadata": {},
   "source": [
    "You can now write the main learning loop, based on the two above functions\n",
    "(compute_critic_loss can be None if no baseline is used).\n",
    "\n",
    "$$\n",
    "\\nabla \\mathbb{E}_\\tau(R(\\tau))\n",
    "\\approx\n",
    "\\frac{1}{m} \\sum_{i=1}^m \\frac{1}{H_i-1} \\sum_{t=1}^{H_i-1} A(s_t^{(i)})\n",
    "\\nabla  \\log p(a_k^{(i)} | s_k^{(i)})\n",
    "\n",
    "$$\n",
    "\n",
    "with $m$ the number of episodes to estimate the gradient, and $H_i$\n",
    "the number of steps in the episode, and $A$ is the advantage\n",
    "function `compute_advantage`.\n",
    "\n",
    "You also need to use `compute_critic_loss` if a baseline is learned\n",
    "to reduce the variance of the gradient estimator."
   ]
  },
  {
   "cell_type": "code",
   "execution_count": 6,
   "id": "1340f1fe",
   "metadata": {},
   "outputs": [],
   "source": [
    "def run(reinforce: Reinforce, compute_advantage, compute_critic_loss=None):\n",
    "    # We work on full episodes here\n",
    "    for train_workspace in reinforce.iter_episodes():\n",
    "        # Get relevant tensors (size are time x n_envs x ....)\n",
    "        terminated, done, action_probs, reward, action = train_workspace[\n",
    "            \"env/terminated\",\n",
    "            \"env/done\",\n",
    "            \"action_probs\",\n",
    "            \"env/reward\",\n",
    "            \"action\",\n",
    "        ]\n",
    "        must_bootstrap = ~terminated\n",
    "        not_done = ~done\n",
    "        \n",
    "        # Implement the main learning loop\n",
    "\n",
    "        reinforce.t_critic_agent(train_workspace, t=0, n_steps=action.shape[0])\n",
    "        v_value = train_workspace['v_value']\n",
    "        \n",
    "        # critic update\n",
    "        if compute_critic_loss is not None:\n",
    "            critic_loss = compute_critic_loss(reinforce.cfg, reward, must_bootstrap, done, v_value)\n",
    "            reinforce.optimizer.zero_grad()\n",
    "            critic_loss.backward()\n",
    "            reinforce.optimizer.step()\n",
    "            \n",
    "        reinforce.t_critic_agent(train_workspace, t=0, n_steps=action.shape[0])\n",
    "        v_value = train_workspace['v_value']\n",
    "        advantage = compute_advantage(reinforce.cfg, reward, v_value)\n",
    "        log_pi = torch.log(action_probs.gather(dim=2, index=action.unsqueeze(-1)).squeeze(-1))\n",
    "        \n",
    "        # actor update\n",
    "        actor_loss = -torch.mean(torch.sum(advantage[:-1]*log_pi[:-1]*not_done[:-1], dim=0)/not_done[:-1].sum(dim=0))\n",
    "        reinforce.logger.add_log(\"actor_loss\", actor_loss, reinforce.nb_steps)\n",
    "        reinforce.optimizer.zero_grad()\n",
    "        actor_loss.backward()\n",
    "        reinforce.optimizer.step()\n",
    "\n",
    "        reinforce.evaluate()"
   ]
  },
  {
   "cell_type": "markdown",
   "id": "2c728c67",
   "metadata": {},
   "source": [
    "## Definition of the parameters"
   ]
  },
  {
   "cell_type": "code",
   "execution_count": null,
   "id": "a3eb2eeb",
   "metadata": {
    "lines_to_next_cell": 2
   },
   "outputs": [],
   "source": [
    "# We first setup tensorboard (it is better to choose \"no\" when running on your\n",
    "# own computer)\n",
    "setup_tensorboard(\"./outputs/tblogs\")"
   ]
  },
  {
   "cell_type": "code",
   "execution_count": 7,
   "id": "4f8fd6a7",
   "metadata": {
    "lines_to_next_cell": 2
   },
   "outputs": [],
   "source": [
    "params = {\n",
    "    \"base_dir\": \"${gym_env.env_name}/reinforce-${variant}-S${algorithm.seed}_${current_time:}\",\n",
    "    \"algorithm\": {\n",
    "        # Number of transitions between two evaluations\n",
    "        \"eval_interval\": 1000,\n",
    "        \"seed\": 1,\n",
    "        \"n_envs\": 8,\n",
    "        \"nb_evals\": 10,\n",
    "        \"max_epochs\": 700,\n",
    "        \"discount_factor\": 0.99,\n",
    "        \"critic_coef\": 1.0,\n",
    "        \"actor_coef\": 1.0,\n",
    "        \"architecture\": {\n",
    "            \"actor_hidden_size\": [32],\n",
    "            \"critic_hidden_size\": [36],\n",
    "        },\n",
    "    },\n",
    "    \"gym_env\": {\n",
    "        \"env_name\": \"CartPole-v1\",\n",
    "    },\n",
    "    \"optimizer\": {\n",
    "        \"classname\": \"torch.optim.Adam\",\n",
    "        \"lr\": 0.001,\n",
    "    },\n",
    "}"
   ]
  },
  {
   "cell_type": "markdown",
   "id": "7b33d699",
   "metadata": {},
   "source": [
    "### First algorithm: summing all the rewards along an episode\n",
    "\n",
    "The most basic variant of the Policy Gradient algorithms just sums all the\n",
    "rewards along an episode.\n",
    "\n",
    "This is implemented with the `apply_sum` function below."
   ]
  },
  {
   "cell_type": "code",
   "execution_count": 8,
   "id": "e0dd322a",
   "metadata": {},
   "outputs": [],
   "source": [
    "def apply_sum(cfg, reward, *args):\n",
    "    reward_sum = reward.sum(axis=0)\n",
    "    reward = torch.zeros_like(reward)\n",
    "    for i in range(len(reward)):\n",
    "        reward[i] = reward_sum\n",
    "    return reward"
   ]
  },
  {
   "cell_type": "code",
   "execution_count": 9,
   "id": "a51ef1a1",
   "metadata": {},
   "outputs": [
    {
     "data": {
      "application/vnd.jupyter.widget-view+json": {
       "model_id": "4d2f19c4aea14166af75fe8f86704bfc",
       "version_major": 2,
       "version_minor": 0
      },
      "text/plain": [
       "  0%|          | 0/700 [00:00<?, ?it/s]"
      ]
     },
     "metadata": {},
     "output_type": "display_data"
    },
    {
     "name": "stdout",
     "output_type": "stream",
     "text": [
      "Video of best agent recorded in outputs\\CartPole-v1\\reinforce-sum-S1_20241112-124317\\best_agent.mp4\n",
      "Moviepy - Building video D:\\rld\\5\\outputs\\CartPole-v1\\reinforce-sum-S1_20241112-124317\\best_agent.mp4.\n",
      "Moviepy - Writing video D:\\rld\\5\\outputs\\CartPole-v1\\reinforce-sum-S1_20241112-124317\\best_agent.mp4\n",
      "\n"
     ]
    },
    {
     "name": "stderr",
     "output_type": "stream",
     "text": [
      "                                                           "
     ]
    },
    {
     "name": "stdout",
     "output_type": "stream",
     "text": [
      "Moviepy - Done !\n",
      "Moviepy - video ready D:\\rld\\5\\outputs\\CartPole-v1\\reinforce-sum-S1_20241112-124317\\best_agent.mp4\n"
     ]
    },
    {
     "name": "stderr",
     "output_type": "stream",
     "text": [
      "\r"
     ]
    },
    {
     "data": {
      "text/html": [
       "<div align=middle><video src='data:video/mp4;base64,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' controls>Sorry, seems like your browser doesn't support HTML5 audio/video</video></div>"
      ],
      "text/plain": [
       "<moviepy.video.io.html_tools.HTML2 object>"
      ]
     },
     "execution_count": 9,
     "metadata": {},
     "output_type": "execute_result"
    }
   ],
   "source": [
    "# Runs and visualize\n",
    "reinforce_sum = Reinforce(OmegaConf.create({**params, \"variant\": \"sum\"}))\n",
    "run(reinforce_sum, apply_sum)\n",
    "reinforce_sum.visualize_best()"
   ]
  },
  {
   "cell_type": "markdown",
   "id": "576285cb",
   "metadata": {},
   "source": [
    "## Exercises\n",
    "\n",
    "### First algorithm: summing discounted rewards\n",
    "\n",
    "As explained in the [second\n",
    "video](https://www.youtube.com/watch?v=dKUWto9B9WY) and [the corresponding\n",
    "slides](http://pages.isir.upmc.fr/~sigaud/teach/ps/4_pg_derivation2.pdf),\n",
    "using a discounted reward after the current step and ignoring the rewards\n",
    "before the current step results in lower variance.\n",
    "\n",
    "By taking inspiration from the `apply_sum()` function above, code a function\n",
    "`apply_discounted_sum()` that computes the sum of discounted rewards from\n",
    "immediate rewards.\n",
    "\n",
    "Two hints:\n",
    "- you should proceed backwards, starting from the final step of the episode\n",
    "  and storing the previous sum into a register\n",
    "- you need the discount factor as an input to your function."
   ]
  },
  {
   "cell_type": "code",
   "execution_count": 10,
   "id": "dbc0cddc",
   "metadata": {},
   "outputs": [],
   "source": [
    "def apply_discounted_sum(cfg, reward, *args):\n",
    "    # Implement the function (ignore v_value)\n",
    "    discounted_sum = torch.zeros_like(reward)\n",
    "    \n",
    "    for i in range(len(reward)-2, 0, -1):\n",
    "        discounted_sum[i] = reward[i+1] + cfg.algorithm.discount_factor*discounted_sum[i+1]\n",
    "\n",
    "    discounted_sum[0] = reward[1] + cfg.algorithm.discount_factor*discounted_sum[1]\n",
    "\n",
    "    return discounted_sum "
   ]
  },
  {
   "cell_type": "code",
   "execution_count": 11,
   "id": "ed670a3a",
   "metadata": {
    "tags": []
   },
   "outputs": [
    {
     "data": {
      "application/vnd.jupyter.widget-view+json": {
       "model_id": "881d4d18a47b42fcb0270167e57440e1",
       "version_major": 2,
       "version_minor": 0
      },
      "text/plain": [
       "  0%|          | 0/700 [00:00<?, ?it/s]"
      ]
     },
     "metadata": {},
     "output_type": "display_data"
    }
   ],
   "source": [
    "reinforce_dsum = Reinforce(OmegaConf.create({**params, \"variant\": \"dsum\"}))\n",
    "run(reinforce_dsum, apply_discounted_sum)"
   ]
  },
  {
   "cell_type": "code",
   "execution_count": 12,
   "id": "94fe24fb",
   "metadata": {
    "lines_to_next_cell": 2
   },
   "outputs": [
    {
     "name": "stdout",
     "output_type": "stream",
     "text": [
      "Video of best agent recorded in outputs\\CartPole-v1\\reinforce-dsum-S1_20241112-125505\\best_agent.mp4\n",
      "Moviepy - Building video D:\\rld\\5\\outputs\\CartPole-v1\\reinforce-dsum-S1_20241112-125505\\best_agent.mp4.\n",
      "Moviepy - Writing video D:\\rld\\5\\outputs\\CartPole-v1\\reinforce-dsum-S1_20241112-125505\\best_agent.mp4\n",
      "\n"
     ]
    },
    {
     "name": "stderr",
     "output_type": "stream",
     "text": [
      "                                                               "
     ]
    },
    {
     "name": "stdout",
     "output_type": "stream",
     "text": [
      "Moviepy - Done !\n",
      "Moviepy - video ready D:\\rld\\5\\outputs\\CartPole-v1\\reinforce-dsum-S1_20241112-125505\\best_agent.mp4\n"
     ]
    },
    {
     "name": "stderr",
     "output_type": "stream",
     "text": [
      "\r"
     ]
    },
    {
     "data": {
      "text/html": [
       "<div align=middle><video src='data:video/mp4;base64,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' controls>Sorry, seems like your browser doesn't support HTML5 audio/video</video></div>"
      ],
      "text/plain": [
       "<moviepy.video.io.html_tools.HTML2 object>"
      ]
     },
     "execution_count": 12,
     "metadata": {},
     "output_type": "execute_result"
    }
   ],
   "source": [
    "# Visualization\n",
    "\n",
    "reinforce_dsum.visualize_best()"
   ]
  },
  {
   "cell_type": "markdown",
   "id": "2fc3b1e5",
   "metadata": {},
   "source": [
    "### Second algorithm: Baseline with Temporal Differences\n",
    "\n",
    "Here, we aim at computing a baseline using temporal differences. The algorithm\n",
    "for computing the critic loss is given below.\n",
    "\n",
    "Note the `critic[1:].detach()` in the computation of the temporal difference\n",
    "target. The idea is that we compute this target as a function of $V(s_{t+1})$,\n",
    "but we do not want to apply gradient descent on this $V(s_{t+1})$, we will\n",
    "only apply gradient descent to the $V(s_t)$ according to this target value.\n",
    "\n",
    "In practice, `x.detach()` detaches a computation graph from a tensor, so it\n",
    "avoids computing a gradient over this tensor.\n",
    "\n",
    "Note also the trick to deal with terminal states. If the state is terminal,\n",
    "$V(s_{t+1})$ does not make sense. Thus we need to ignore this term. So we\n",
    "multiply the term by `must_bootstrap`: if `must_bootstrap` is True (converted\n",
    "into an int, it becomes a 1), we get the term. If `must_bootstrap` is False\n",
    "(=0), we are at a terminal state, so we ignore the term. This trick is used in\n",
    "many RL libraries, e.g. SB3."
   ]
  },
  {
   "cell_type": "markdown",
   "id": "a677f7a2",
   "metadata": {
    "lines_to_next_cell": 2
   },
   "source": [
    "Code a `apply_discounted_sum_minus_baseline()` function, using the critic\n",
    "learned simultaneously with the policy."
   ]
  },
  {
   "cell_type": "code",
   "execution_count": 13,
   "id": "62d04e43",
   "metadata": {
    "lines_to_next_cell": 2
   },
   "outputs": [],
   "source": [
    "def apply_discounted_sum_minus_baseline(cfg, reward, v_value):\n",
    "    # Implement the function\n",
    "    discounted_sum = apply_discounted_sum(cfg, reward)\n",
    "\n",
    "    discounted_sum_minus_baseline = discounted_sum - v_value\n",
    "    \n",
    "    return discounted_sum_minus_baseline\n"
   ]
  },
  {
   "cell_type": "markdown",
   "id": "e30d44ae",
   "metadata": {
    "lines_to_next_cell": 2
   },
   "source": [
    "(2) Code a `compute_critic_loss()` using temporal differences (bootstrapped)"
   ]
  },
  {
   "cell_type": "code",
   "execution_count": 14,
   "id": "819ad949",
   "metadata": {},
   "outputs": [],
   "source": [
    "def compute_td_critic_loss(cfg, reward, must_bootstrap, done, critic):\n",
    "    \n",
    "    target = reward[1:] + cfg.algorithm.discount_factor*critic[1:].detach()*must_bootstrap[1:]\n",
    "    not_done = (~done)[:-1]\n",
    "    td = (target - critic[:-1])**2*not_done\n",
    "    critic_loss = td.sum()/not_done.sum()\n",
    "    \n",
    "    return critic_loss"
   ]
  },
  {
   "cell_type": "code",
   "execution_count": 15,
   "id": "aae457ea",
   "metadata": {
    "tags": []
   },
   "outputs": [
    {
     "data": {
      "application/vnd.jupyter.widget-view+json": {
       "model_id": "03155072b8e0433682bc4076a655966d",
       "version_major": 2,
       "version_minor": 0
      },
      "text/plain": [
       "  0%|          | 0/700 [00:00<?, ?it/s]"
      ]
     },
     "metadata": {},
     "output_type": "display_data"
    }
   ],
   "source": [
    "reinforce_td = Reinforce(OmegaConf.create({**params, \"variant\": \"td\"}))\n",
    "run(reinforce_td, apply_discounted_sum_minus_baseline, compute_td_critic_loss)"
   ]
  },
  {
   "cell_type": "code",
   "execution_count": 16,
   "id": "20541e52",
   "metadata": {
    "lines_to_next_cell": 2
   },
   "outputs": [
    {
     "name": "stdout",
     "output_type": "stream",
     "text": [
      "Video of best agent recorded in outputs\\CartPole-v1\\reinforce-td-S1_20241112-131529\\best_agent.mp4\n",
      "Moviepy - Building video D:\\rld\\5\\outputs\\CartPole-v1\\reinforce-td-S1_20241112-131529\\best_agent.mp4.\n",
      "Moviepy - Writing video D:\\rld\\5\\outputs\\CartPole-v1\\reinforce-td-S1_20241112-131529\\best_agent.mp4\n",
      "\n"
     ]
    },
    {
     "name": "stderr",
     "output_type": "stream",
     "text": [
      "                                                               \r"
     ]
    },
    {
     "name": "stdout",
     "output_type": "stream",
     "text": [
      "Moviepy - Done !\n",
      "Moviepy - video ready D:\\rld\\5\\outputs\\CartPole-v1\\reinforce-td-S1_20241112-131529\\best_agent.mp4\n"
     ]
    },
    {
     "data": {
      "text/html": [
       "<div align=middle><video src='data:video/mp4;base64,AAAAIGZ0eXBpc29tAAACAGlzb21pc28yYXZjMW1wNDEAAAAIZnJlZQAASAttZGF0AAACoQYF//+d3EXpvebZSLeWLNgg2SPu73gyNjQgLSBjb3JlIDE1OSAtIEguMjY0L01QRUctNCBBVkMgY29kZWMgLSBDb3B5bGVmdCAyMDAzLTIwMTkgLSBodHRwOi8vd3d3LnZpZGVvbGFuLm9yZy94MjY0Lmh0bWwgLSBvcHRpb25zOiBjYWJhYz0xIHJlZj0zIGRlYmxvY2s9MTowOjAgYW5hbHlzZT0weDM6MHgxMTMgbWU9aGV4IHN1Ym1lPTcgcHN5PTEgcHN5X3JkPTEuMDA6MC4wMCBtaXhlZF9yZWY9MSBtZV9yYW5nZT0xNiBjaHJvbWFfbWU9MSB0cmVsbGlzPTEgOHg4ZGN0PTEgY3FtPTAgZGVhZHpvbmU9MjEsMTEgZmFzdF9wc2tpcD0xIGNocm9tYV9xcF9vZmZzZXQ9LTIgdGhyZWFkcz0xMiBsb29rYWhlYWRfdGhyZWFkcz0yIHNsaWNlZF90aHJlYWRzPTAgbnI9MCBkZWNpbWF0ZT0xIGludGVybGFjZWQ9MCBibHVyYXlfY29tcGF0PTAgY29uc3RyYWluZWRfaW50cmE9MCBiZnJhbWVzPTMgYl9weXJhbWlkPTIgYl9hZGFwdD0xIGJfYmlhcz0wIGRpcmVjdD0xIHdlaWdodGI9MSBvcGVuX2dvcD0wIHdlaWdodHA9MiBrZXlpbnQ9MjUwIGtleWludF9taW49MjUgc2NlbmVjdXQ9NDAgaW50cmFfcmVmcmVzaD0wIHJjX2xvb2thaGVhZD00MCByYz1jcmYgbWJ0cmVlPTEgY3JmPTIzLjAgcWNvbXA9MC42MCBxcG1pbj0wIHFwbWF4PTY5IHFwc3RlcD00IGlwX3JhdGlvPTEuNDAgYXE9MToxLjAwAIAAAAGjZYiEACf//vWxfApqyfOKDOgyLuGXJMmutiLibQDAFQ+wAAADAAATKpYnsyAlGpfAAAAQkANQH0GUHmImKsVAleIOBmriALm9ULtZ71b2GA0KSsSvgFKypdRsE94hOoakHJfezvVEd/rNFCFZfwCTu2V3OeRAO9HFOWnsNPHufraJn0hbodfrYd41yxq1m4YX24wBZ46Qd3rzOecMzB4ei51XvXqJWSAI8GSyZFr4Extg5ATRbrAE+k80jMHNYywiZEspmNEZN5qPlU6ojndOopTt2I4p4J87K1FhEIC+d20Lu667bqh5DBKVve0+3Rw0/TSQUUPEyWOg8Et5wyjwvgtJDPmMzAR3gQ5JNxVCvn8oJ+FHcKPwok6LOeJWTLsJTe4nCo3oMTKU+rsXOLeW/1LkGwF0OWBeVmG5DgejXe+whGyVfeAwg5nNkL8ZMezFXMy7lLQzFZ3ArN6Edx8E7UoCeOEuKaOFiGS9MvozgEPe+OPjly+B898b74OsLZIjBUMCQtSohefPeGQuA70Sp86nvAq1hoAHiUjwAAADAAADAVsAAABiQZokbEJ//fEAAAMCjPNugnjv3jxwszNYj2X+s1l3oyoKI+4UK7MIMWnQD5fMc8FhohoRsnALWenGqWyLLWrC33YVb6wJsoYrx7+oVANYiEEMgmVhT/HKyt0HeuddppbQmIAAAAAsQZ5CeIR/AAADAzlzoVOns8DhPSPzcdDa7jLVlj9SYYCW+70GluoC5enCWTEAAAAfAZ5hdEf/AAAiuMIqnVHz0vnS3LusHcbNyET9zdZtoAAAAB4BnmNqR/8AAAUfIOWmOmwTxb2wRoO8VenscUUfdpUAAABNQZpoSahBaJlMCE///fEAAAMA+Etf0ANZ8x8hPNojYG+54Vj6O8FJqKHAeWQXN2YSy+zIYFY5sLqgmP3FndHZWX50MKIuNFVVGsZyhvcAAAAlQZ6GRREsI/8AAAMDOStSQll6Xdc6bglIKNSTySty1h+wK4lfkwAAABIBnqV0R/8AAAT4W3mvPsbaY2EAAAAcAZ6nakf/AAANhJ2qS/ibjqYm94+NGhGbGpsCAgAAAGlBmqxJqEFsmUwIR//94QAAAwGHPcAFCocPUbFdBBf7bWGKh1+tBZyofnI5hAetkm8gXe+X13OYS8OSaTClB53/Jp9gf3WUGvoYolMKHTdCa9hKFseGCsBtgWdj33b4TfxKRufPTYCa+oAAAAAgQZ7KRRUsI/8AAAMDOTB5981Rz0J893LmRwrJOohockEAAAAiAZ7pdEf/AAAjwJnd5X8OeH7cVgV+8/DIlgjqjr03hAgW0AAAACcBnutqR/8AACOuMS/Ly6CHWeDsSb5bzh5Y8/eWKuxK0VVDSj1BHbgAAAB6QZrwSahBbJlMCE///fEAAAMA+HgW7KoQsEPrOLuF45lNXItVZQz7n82uvlAATK3T/zEowUnTe11aLy67ghtLgsjreQIueQKm18Dvz+YsEk3XSXmP6LrY1rlCS/AihoWtO4mt5aRFXu6sE2vCJ3xr7I7siXiiN7AdolkAAAA0QZ8ORRUsI/8AAAhr+ucbzS9eFOLQ9Bnlk/nwR/VEAZeAD8OWJM3Zhn9zYvYQP8xPD0k7YQAAACkBny10R/8AACPAmd3pXo+cK3XOO8tQOfPGdj+tAUkq7hDgTUNimOlbQQAAADABny9qR/8AACOuMS/S7qNrbvBygxVvX7rmN3qwYN4sAUCazPE2IKw9CAncK1PSRAQAAABzQZs0SahBbJlMCFf//jhAAAEM+h3xN4HfPk/pPc7yge8220Z6xkwgi1t3My3tBVGH3IX/Q33lRr0SZruyi4Qy1aEQ2UiJx7lM5RZ/8P+zK6MNg+KXc0xRHFE68dO9KQYwIv5RvTw8w85qYboHe1TsxrNtwAAAAEFBn1JFFSwj/wAAFrUrN2tu/b0FgcBDZz0OcHeAmCLUiFc5bN+KwCaSqFy4iyWZzFcNgTdWRV/JwSAu7XD8JgKBgQAAABsBn3F0R/8AACPDF2ippVPbwEW6NWoIlofP2S8AAAAcAZ9zakf/AAAFHzCXQAZ4mbAIoXKm1FFfdxmWzAAAAE1Bm3hJqEFsmUwIT//98QAAAwAAvsauiZ2L0tW2cyqgARuVOSEhorymi2VF3LoztxX7DLcN6Adoz9k8uv4sVBlmIVrxaS1Y96gCjtUJgQAAABlBn5ZFFSwj/wAAAwAGcmgfffDw6SzNoaeqAAAADgGftXRH/wAAAwAAAwGpAAAAFwGft2pH/wAAAwAKPnkMwUD1/vZB5z1RAAAAUkGbvEmoQWyZTAhP//3xAAADAF/8z6DcySK/UB/BrKAFlQUxUh/gA3lFtcUZ7ZfZtQvnIhn5lTcHCJqgJ2j/lp5b8fTUeipGKVp5nR3sQbce/IAAAAAgQZ/aRRUsI/8AAAMDOE1m7WtTbkogBV/IHm3ejuNqRQUAAAAhAZ/5dEf/AAAFH8vtFTSqlaQ16BLEtAMbP/xtIU1KIHJAAAAAEwGf+2pH/wAAAwC15riJ29CA4IEAAABSQZvgSahBbJlMCF///oywAAAKBPAlwAbmzGPvh+t7i7GzlGg18GR+YSE152V2CZ+Iz20wVq3DUOrbmNd88zeKUDI3gqPG0U8EfOMkTJfSMSsowQAAAB1Bnh5FFSwj/wAAAwM4U4L7oE+kL3ghH8OewDhAQAAAAB4Bnj10R/8AAAMB5rIeTPy2lUzEQ4fqkXaareV/9swAAAAOAZ4/akf/AAADAAADAakAAABKQZokSahBbJlMCFf//jhAAAAlnEN7F1REdgA420w/EXyAXFidiUBWIpzZS447qcOnb6T2dHnCycfJz07YivsSbHC5P/Txi8TFGIgAAAAfQZ5CRRUsI/8AAAMDJTHNo7eWcSO9SznU2ilbR0xAQQAAAA4BnmF0R/8AAAMAAAMBqQAAABsBnmNqR/8AAAT7NNXe24hqgkgb6PDoJHCRk5MAAABYQZpoSahBbJlMCE///fEAAAMA83MX1pEnwAjIUwMdJZ/fHjoSWV7aEujyu4rS4jc/YNS5HVLtAjG79JW0psqGwqyfrBxEe3hYwif+TeKYJUWuYvRGJcSqIQAAACNBnoZFFSwj/wAAAwM5MHoHvlglPXLUsT1bSgYPUiJ7zFjEBQAAAA4BnqV0R/8AAAMAAAMBqQAAAB4BnqdqR/8AAAUfMJetV9DKTk+zSty+hqx1OUHgHJAAAAA1QZqsSahBbJlMCEf//eEAAAMAlpqqgjeiXsT6sQuTmYg3lLYBShlVpgBvFgqHUHwYhiUJTkgAAAAhQZ7KRRUsI/8AAAMDOTB6B2rlU0cqfYQdbg7joRoBN7wZAAAAEAGe6XRH/wAAAwHwij2Ae0AAAAAbAZ7rakf/AAAFHzCWe4ktM1cKz3oaHwCClTJMAAAAOUGa70moQWyZTAhX//44QAABDZVsXeAhmugAONJdwEhi34uia7gSagNaO4wiAQNBu90HxqYOBF8R8QAAABxBnw1FFSwj/wAAFrxDzRyyDrAN7PP26tgFaEMrAAAAGwGfLmpH/wAAI7HMCM48x9MT9eJd7zOzo0Vm9QAAAB1BmzNJqEFsmUwIT//98QAAAwAio7XcjNJP6QhgwAAAADVBn1FFFSwj/wAACBJwlkDf5JylDCMYUgtQwZ0ARfcaiw1tnET1zlRM37/pIj6l2eepQRK2zAAAAB0Bn3B0R/8AAA0uFcJ0BJWRW2rzmYXGBiWIA34OSQAAABsBn3JqR/8AAA00n5WW9/5qduN2ENzmmYYQm24AAAA0QZt3SahBbJlMCEf//eEAAAQTc0TtVDxPVX8TuH7goSy+iWlDBRD3nmG41h4btL1Doo3IWAAAABtBn5VFFSwj/wAAFrxDzbfUax5Rt/4eqTql0+8AAAAQAZ+0dEf/AAANLhLzXQBqQAAAABcBn7ZqR/8AACOxzAlvqW+yJJKSwn4esQAAACdBm7lJqEFsmUwUTCv//jhAAAENPreH7kNCry7aT3CX8yH0TvPalBEAAAAXAZ/Yakf/AAAjscwJb6lvshVSu21OI2AAAABgQZvdSeEKUmUwIT/98QAAAwAjl8jR9dUAAgMAOTkNGuo/raveguEinnyoJzZvgJqqAR+UvQqk/5PO+FOXhnnCnPiznU/fPiQlanM+2paTKDtoGmLjZtCjWvSqj2/cz38fAAAAJUGf+0U0TCP/AAADAzZoaJgLtDk/531qd128aKx11PkXsgcI7BgAAAAaAZ4adEf/AAAFHFt5knxo47wN7/LDUAso14MAAAAdAZ4cakf/AAAFHT7fYKfBfJfvVwSIc2yM7FPa24EAAAAnQZoBSahBaJlMCGf//p4QAAADA7SsVIvFpIEvnmRcpXEdQqDKDGPgAAAAGUGeP0URLCP/AAADATWBQ2mZfMGK0JCRz4AAAAAXAZ5edEf/AAADAeWKHmST3cpJGBDpR8EAAAAOAZ5Aakf/AAADAAADAakAAAAXQZpFSahBbJlMCGf//p4QAAADAAADAz8AAAAQQZ5jRRUsI/8AAAMAAAMBBwAAAA4BnoJ0R/8AAAMAAAMBqQAAAA4BnoRqR/8AAAMAAAMBqQAAABdBmolJqEFsmUwIZ//+nhAAAAMAAAMDPwAAAChBnqdFFSwj/wAAAwM2aGt4WtCkPQU7SpbNU6xGLQFDFNNIXqsNhW3BAAAAGQGexnRH/wAABR/Qwc8auO5s4hIlPix3fgwAAAAZAZ7Iakf/AAAFHT5g4mWt2bIVd1pNdS9swAAAABdBms1JqEFsmUwIZ//+nhAAAAMAAAMDPwAAABBBnutFFSwj/wAAAwAAAwEHAAAADgGfCnRH/wAAAwAAAwGpAAAADgGfDGpH/wAAAwAAAwGpAAAAF0GbEUmoQWyZTAhn//6eEAAAAwAAAwM/AAAAEEGfL0UVLCP/AAADAAADAQcAAAAOAZ9OdEf/AAADAAADAakAAAAtAZ9Qakf/AAAE991WPsh57DUXiiOjVBCQ5G9775IAEy967YdHjx84A72p5ymDAAAAF0GbVUmoQWyZTAhf//6MsAAAAwAAAwNDAAAAEEGfc0UVLCP/AAADAAADAQcAAAAOAZ+SdEf/AAADAAADAakAAAAOAZ+Uakf/AAADAAADAakAAAAXQZuZSahBbJlMCF///oywAAADAAADA0IAAAAQQZ+3RRUsI/8AAAMAAAMBBwAAAA4Bn9Z0R/8AAAMAAAMBqQAAAA4Bn9hqR/8AAAMAAAMBqQAAABZBm91JqEFsmUwIV//+OEAAAAMAAAypAAAAEEGf+0UVLCP/AAADAAADAQcAAAAOAZ4adEf/AAADAAADAakAAAAOAZ4cakf/AAADAAADAakAAABHQZoBSahBbJlMCE///fEAAAMAIpmzQlcEaeb4dYS2clp0X/QDNANStXq5Aq7VMa0sJjSJAmALEKbsCQGwFRGxhnKbiZpmctAAAAAeQZ4/RRUsI/8AAAMBLeULb01GRLsEcE9UtfMLhpAQAAAADgGeXnRH/wAAAwAAAwGpAAAAHQGeQGpH/wAABPfdazatSOqLumqD9z0Qa5HkhW3AAAAAJ0GaRUmoQWyZTAhX//44QAAADiHgmaVspbnqybQ6GlyiABWaVhJswQAAABxBnmNFFSwj/wAAAwEtgZaZQuoO/sSN9Qcte3ICAAAAGwGegnRH/wAAAwHainhOgJGJKHNFeXq6gubEBQAAAA4BnoRqR/8AAAMAAAMBqQAAABdBmolJqEFsmUwIT//98QAAAwAAAwAekQAAACZBnqdFFSwj/wAAFrNHtw25G169+C045JWZ+ACdT88SmfNrf6wxoQAAABYBnsZ0R/8AACPDF2ippVPU+8aF9WGNAAAAFgGeyGpH/wAAI7HMCW+pb7IVltssMaAAAAA3QZrNSahBbJlMCE///fEAAAMCn8hqKAPFNhfjMBTkyvmquH2fbqnMbAWIRrIIpHzsbHQEKDOxVQAAADBBnutFFSwj/wAAFrxDzbcVzYIIKGsty5vekDyAGhr0rAq2xGA79ous17hSmpnu2YAAAAAbAZ8KdEf/AAADAdqKHnr6NhaSj27Y39DwsICAAAAAHwGfDGpH/wAAI78EJxLJcEZDNV+4HslQ6Q3ZbTNgQEEAAABPQZsRSahBbJlMCFf//jhAAAENwObyAOVSZM3WATnB4+sANy1731E3bgUKpMcAkt427TfAQvKzLxuQ1YXZy1Q/Mp8C3WdhuCnB5Eb+LBD5cQAAACFBny9FFSwj/wAAFrUrN2tbBOY0oDilXbyWq+i2w8p4hyUAAAAWAZ9OdEf/AAAjq/hbeBKdaCOJCo4JWAAAABoBn1BqR/8AAAMB2s3w69RPAgzHsAQNU+0kBAAAABdBm1VJqEFsmUwIT//98QAAAwAAAwAekQAAACRBn3NFFSwj/wAAFr6jnf5dSsUbMp0E5S+PFKmeP5zn9avqXbgAAAAcAZ+SdEf/AAAjq/hbeBKdaCPG6BSXjwQ4EksLbgAAABsBn5RqR/8AACOxzAlvqW+yFUj7/AYoyD53nJEAAAA1QZuZSahBbJlMCFf//jhAAAEM+t8VcLisFM1T3yT2i5LQdYAiPJ1j3X5T1rjeECGgPOxCf1QAAAAfQZ+3RRUsI/8AABa8Q823FcysmUk+B0KKy4ee/9RyTQAAAA4Bn9Z0R/8AAAMAAAMBqQAAABsBn9hqR/8AACOxzAlvqW+yFUj7/AYoyD53nJAAAAAXQZvdSahBbJlMCE///fEAAAMAAAMAHpEAAAAQQZ/7RRUsI/8AAAMAAAMBBwAAAA4Bnhp0R/8AAAMAAAMBqQAAAA4BnhxqR/8AAAMAAAMBqQAAAE1BmgFJqEFsmUwIZ//+nhAAAAn/s/jwlyXpT/8AETHxNsJ4NG9hxMCSTQGE8Cjnc7a9V1Fur51IFSb10NALPCZXK+Cksjc7bmYGnpYCqAAAABxBnj9FFSwj/wAAAwM4Uwqw4X50S2Aup+uaMaduAAAAGgGeXnRH/wAABRxbeZJPdykkh8fe9esYGdsxAAAAHQGeQGpH/wAAI64xL9F5Q6RNjnMyNECUbHmN+OOAAAAAF0GaRUmoQWyZTAhn//6eEAAAAwAAAwM/AAAAKUGeY0UVLCP/AAAWsyu1BbkcTkAAurcLBbb01GUhcWrxyCtOZrrapEM+AAAAFwGegnRH/wAAI6v4W3gSnWgjiEHXMcPXAAAAFgGehGpH/wAAI7HMCW+pb7IVUoWsEvEAAAAXQZqJSahBbJlMCGf//p4QAAADAAADAz8AAAAuQZ6nRRUsI/8AAAMDNoP2Bs5SqNpkma4RAAAXVuhjRq7rVwkIu5pkcjfpo2ituQAAABsBnsZ0R/8AAAMB5YoeGaiN5+x2i2BV0nkkduAAAAAZAZ7Iakf/AAAFHT5g4G3b8T8RGfkotHMduAAAABdBms1JqEFsmUwIZ//+nhAAAAMAAAMDPwAAABBBnutFFSwj/wAAAwAAAwEHAAAADgGfCnRH/wAAAwAAAwGpAAAADgGfDGpH/wAAAwAAAwGpAAAAF0GbEUmoQWyZTAhn//6eEAAAAwAAAwM/AAAAEEGfL0UVLCP/AAADAAADAQcAAAAOAZ9OdEf/AAADAAADAakAAAAOAZ9Qakf/AAADAAADAakAAAAXQZtVSahBbJlMCGf//p4QAAADAAADAz8AAAAtQZ9zRRUsI/8AAAMDNoP2Bs+0PNthFWtkrFOfxbgAEKCcq9WQOXIlFTwhNIYMAAAAFgGfknRH/wAABR/Qwc8auO5lTIQYGDAAAAAVAZ+Uakf/AAAFHT5g4mWt2X+jNVMHAAAAF0GbmUmoQWyZTAhn//6eEAAAAwAAAwM+AAAAEEGft0UVLCP/AAADAAADAQcAAAAOAZ/WdEf/AAADAAADAakAAAAOAZ/Yakf/AAADAAADAakAAAAXQZvdSahBbJlMCGf//p4QAAADAAADAz8AAAAQQZ/7RRUsI/8AAAMAAAMBBwAAAA4Bnhp0R/8AAAMAAAMBqQAAAB8BnhxqR/8AAAT33VYfkYhcGFMTev9V/w2gIv0u7/2zAAAAF0GaAUmoQWyZTAhf//6MsAAAAwAAAwNCAAAAEEGeP0UVLCP/AAADAAADAQcAAAAOAZ5edEf/AAADAAADAakAAAAOAZ5Aakf/AAADAAADAakAAAAXQZpFSahBbJlMCF///oywAAADAAADA0MAAAAQQZ5jRRUsI/8AAAMAAAMBBwAAAA4BnoJ0R/8AAAMAAAMBqQAAAA4BnoRqR/8AAAMAAAMBqQAAABZBmolJqEFsmUwIV//+OEAAAAMAAAypAAAAEEGep0UVLCP/AAADAAADAQcAAAAqAZ7GdEf/AAAE+uMGmEuELW+DoIXRJ7lCc4megAlU8++n44jlrCzQ5omDAAAADgGeyGpH/wAAAwAAAwGpAAAAOUGazUmoQWyZTAhP//3xAAADACKZs0JXBGnnvyaalcF0k4UAXAC7nJcUCbiYSIVnYN1+KL31lYphsQAAAB5BnutFFSwj/wAAAwEt5QtvTUZEuwRwT1S18wuGkBAAAAAOAZ8KdEf/AAADAAADAakAAAAeAZ8Makf/AAAE991rNrFAenhBTlHF3x7fKgylb14NAAAAJ0GbEUmoQWyZTAhX//44QAAADiHgmaVspbnqybQ6GlyiABWaVhJswQAAABxBny9FFSwj/wAAAwEtgZaZQuoO/sSN9Qcte3IDAAAAGwGfTnRH/wAAAwHainhOgJGJKHNFeXq6gubEBAAAAA4Bn1BqR/8AAAMAAAMBqQAAABdBm1VJqEFsmUwIT//98QAAAwAAAwAekQAAACRBn3NFFSwj/wAAAwMjrnzRDmPJz8mecNYYxxU2pHHHQGBqU7cAAAAbAZ+SdEf/AAADAdqKeE6AkYkoc0V5erqC5sQEAAAAGgGflGpH/wAABPk+YbdkZ20XCcm+/tu1akmBAAAAM0GbmUmoQWyZTAhP//3xAAADAp8FYOBSkv3p9JdqXOi9zaMJ6K1hDHN4UOYS5w+xUDb0vAAAABtBn7dFFSwj/wAAFrUrN2taXriim033OpzZGzEAAAAXAZ/WdEf/AAAjq/hbeBKdaCOJCcbpsgcAAAAOAZ/Yakf/AAADAAADAakAAABIQZvdSahBbJlMCE///fEAAAMCn/LlqBBoH/UeFSwImnVogkeADjewGycOi0fOG2VfwgnBZOH5W0Mru1CYSG5OnkZjZPAGJgRxAAAAIEGf+0UVLCP/AAAWvEPNtxXMrJlJPiHz7ot6UL2T5DkgAAAAHQGeGnRH/wAAI7iv3FV7qI/oUZGgoHMuoAlRigELAAAAHQGeHGpH/wAAI7HMCW+pb7IVXCGQRz1KSiHa4ggJAAAAMkGaAUmoQWyZTAhf//6MsAAARhHkQCps8JtAJ57a9Sv1PJ9j2YdIvRI9gQ84tQF9wbH+AAAAGkGeP0UVLCP/AAAWvEPNtxXMrJlJROHJLWfAAAAADgGeXnRH/wAAAwAAAwGpAAAAGQGeQGpH/wAAI7HMCW+pb7IVgYV7ipPgl4AAAABEQZpFSahBbJlMCFf//jhAAAAmmj14bhyelTZHDZfOZwFDdL5NAE7tYmqcvFwLW3PV3v80fhNP8kCNCdcAuoGhuc93MgcAAAAkQZ5jRRUsI/8AABbAmz9h/YZByEVo4qpFflJ40Qx4JrIcQWzAAAAAGQGegnRH/wAAI6v4W3gSnWgjiX9XLpZedMEAAAAcAZ6Eakf/AAAjscwJb6lvshVSCJzhAOMRX5vHJQAAABdBmolJqEFsmUwIT//98QAAAwAAAwAekQAAACVBnqdFFSwj/wAAAwM5fNK6gJMsEfHjaYNodbHJ6UQwL0ss22zBAAAAGgGexnRH/wAABRxbeZLHhMlngMsJlDZj58GAAAAAHAGeyGpH/wAAAwHlzUafXX50MAeQmsDaQaIkI7cAAAAtQZrNSahBbJlMCGf//p4QAAAJ76shdqGx5UGm6+l1Jm35ZQcnygD8CRTJWIXxAAAAHEGe60UVLCP/AAADAzhTCrDhfnRLYC6n65oxp24AAAAaAZ8KdEf/AAAFHFt5kseEyWeAywmUNmPnwYAAAAAOAZ8Makf/AAADAAADAakAAAAXQZsRSahBbJlMCGf//p4QAAADAAADAz8AAAAQQZ8vRRUsI/8AAAMAAAMBBwAAAA4Bn050R/8AAAMAAAMBqQAAAA4Bn1BqR/8AAAMAAAMBqQAAABdBm1VJqEFsmUwIZ//+nhAAAAMAAAMDPwAAACRBn3NFFSwj/wAAAwM3cPn0gzNGmSRtA7ZiqTM1NLjxXpOK9swAAAAaAZ+SdEf/AAADAeWKHmST3cr9WUzdIq0L7bgAAAAZAZ+Uakf/AAAFHT5g4mWt2bIVd1pNdS9swQAAABdBm5lJqEFsmUwIZ//+nhAAAAMAAAMDPgAAABBBn7dFFSwj/wAAAwAAAwEHAAAADgGf1nRH/wAAAwAAAwGpAAAADgGf2GpH/wAAAwAAAwGpAAAAF0Gb3UmoQWyZTAhn//6eEAAAAwAAAwM/AAAAEEGf+0UVLCP/AAADAAADAQcAAAAOAZ4adEf/AAADAAADAakAAAAOAZ4cakf/AAADAAADAakAAAAXQZoBSahBbJlMCGf//p4QAAADAAADAz4AAAArQZ4/RRUsI/8AAAMDI6580PJnoYDNgAcDpgnlxh+qGjHYw34rGfYtNbfgwAAAABwBnl50R/8AAAMB2op4ToB8i12ERR4pYnvbFHJNAAAAGgGeQGpH/wAABPk+YbdkZ20XCcm+/tu1akmAAAAAF0GaRUmoQWyZTAhn//6eEAAAAwAAAwM/AAAAEEGeY0UVLCP/AAADAAADAQcAAAAOAZ6CdEf/AAADAAADAakAAAAOAZ6Eakf/AAADAAADAakAAAAXQZqJSahBbJlMCGf//p4QAAADAAADAz8AAAAQQZ6nRRUsI/8AAAMAAAMBBwAAAA4BnsZ0R/8AAAMAAAMBqQAAACEBnshqR/8AAAT33VY+yHnsNUapkic31fzdQ0vOLM21eDAAAAAXQZrNSahBbJlMCF///oywAAADAAADA0MAAAAQQZ7rRRUsI/8AAAMAAAMBBwAAAA4Bnwp0R/8AAAMAAAMBqQAAAA4BnwxqR/8AAAMAAAMBqQAAABdBmxFJqEFsmUwIX//+jLAAAAMAAAMDQwAAAB1Bny9FFSwj/wAAFrNHSC15p1DC1b/KUbyN3FNhjQAAABYBn050R/8AACPDF2ippVPU+8aF9WGNAAAAFgGfUGpH/wAAI7HMCW+pb7IVltssMaAAAABLQZtVSahBbJlMCFf//jhAAAAlnEN7F1m77LKw1699+KJZzwCPJAmwfMsca9g36ld+GOlQ7kV3IargdtE9POBXUhwqADPJPGTbm2+xAAAAH0Gfc0UVLCP/AAADAyUxzaO3lnEjvUs51NopW0dMQEAAAAAhAZ+SdEf/AAAE+uMGp3rVgWHxw45TqeT236EnhRIGYbZgAAAAIAGflGpH/wAAAwHazfDnyymYQewr2ZHdUyokdk3eTJs/AAAAF0GbmUmoQWyZTAhP//3xAAADAAADAB6QAAAAIEGft0UVLCP/AAADAyW77JiDfHzOYxoYiK0k4Z38OIgJAAAAGwGf1nRH/wAABPhbeevo2FovJXBOb9WvnCLZgQAAAB8Bn9hqR/8AAAMB2s3w58spRl1M9uVBxN+2nbQfyC8GAAACB2WIggAO//73Tr8Cm0WXagOSVwr2yqQmWblSawHypgAAAwAAAwAAAwLa9HiTO+TU8TYAAAMBBwAoYVMRISAUsbwqBK8j/BaPvID6YkdkR5qftzB2r8r42B8TCKWGk8gMqArkk/Q4vOSWr9b69sA9ET7v/VoqQdeb7I4FwDvFjWHiaFQbeAA/cU5Or19eX6RXd/AW7xH+LTayUEUEwbKILZY0UlhUFHADRffjJiH2UNEIhNerdyo/EADsvvll/GeCdiD+oaFUcLL0FeIAQz8nzvLzvgLxuKlAD+qvH713qKWnVF9sobsyxUe7W2dufgnLYuWWl0G8HswqFxLSFzVZ0aBAjnxr/6Ux+W6ZlJsFDkDVVOBxkWDhaDPKgk56+3yOgrtlurlsKlpTU//e/2IfEjQs0a8S0vLFZww551gKXtkHLiL7VsCi+ai2yWjV5xKZej5eeTTILNEOWbqlwDGogOIYNQncmBv+VWKQtWq8oiBFX/i68IEc7B5Om5ql2mELYydCvZtglCdtd8ZCllfkTolVTH2XxMel9BGo54mtr4FPsO3L5kPqFdYL26rJ0yPPIrqyyOfciI1gVRXrwzt8ASlyYmnKEivUzJj5G2cjIG33XeGuXl/BV5gBDtsy7ipriX4KFM0bxDIrq7OIpzEtx/xsAA3ugAHuDQAAAwAAAwAAAwAAAwAD0wAAAFZBmiRsQn/98QAAAwKhkGIAFESOICSLcWmJCznaDWxASrACoqSiGhJHdhASS5CtD8luI2Eyn+TQf7srjvSJA7x2BPiaSre0aP7v/KIWMFs6FxmYjhigsAAAABxBnkJ4j/8AACPDF2ippVPU+8IJjrAYLdbrsEBBAAAADgGeYXRH/wAAAwAAAwGpAAAAHQGeY2pH/wAAI78EJxLJaZq4VlMfKjt+L62NBJJgAAAAKkGaaEmoQWiZTAhf//6MsAAARhGsEOSf1UPDRke6l8jg12iUYRJddXAsoAAAACJBnoZFESwj/wAAFrUrN2twKHc62WG/7QvNXEpBnBq/pOSZAAAAHgGepXRH/wAAI8MXaKmlU9T+xSMwhg0p0Rqnc1lbMAAAABsBnqdqR/8AAAUfNNWxkwvP68AVDV/NkEWw7cEAAAApQZqsSahBbJlMCFf//jhAAAAmp+xJoYX8gasScNFVERqWCsoELXWPhfAAAAAkQZ7KRRUsI/8AABa+o53+XUrFGzKdWgLAsAEOo96Iapsjk3OTAAAAGAGe6XRH/wAAI8MXaKmlU9T7wniZ6g4JeQAAACMBnutqR/8AACOxzAlv8HrB2ZuXYWh1cnmJzEGQx3frocLwYQAAABdBmvBJqEFsmUwIT//98QAAAwAAAwAekQAAACRBnw5FFSwj/wAAAwM5fNK6gJMur0Qrryv3e2xb8meqX9XgzbcAAAAbAZ8tdEf/AAAFH9DBzra4jCCtjxd7bS/g37ZgAAAAGwGfL2pH/wAAAwHmf9VJfxNx1fZ3GIeGpyY7cQAAAChBmzRJqEFsmUwIZ//+nhAAAAnvqyF2obHlQaboMsSojCQeL/VWLcPmAAAAHEGfUkUVLCP/AAADATWBQ2mZfMHFb+nQuAZRbcAAAAAbAZ9xdEf/AAADAeaxsJScK2IYK2xoT85A7W2ZAAAADgGfc2pH/wAAAwAAAwGpAAAAF0GbeEmoQWyZTAhn//6eEAAAAwAAAwM/AAAAEEGflkUVLCP/AAADAAADAQcAAAAOAZ+1dEf/AAADAAADAakAAAAOAZ+3akf/AAADAAADAakAAAAXQZu8SahBbJlMCGf//p4QAAADAAADAz4AAAAQQZ/aRRUsI/8AAAMAAAMBBwAAAA4Bn/l0R/8AAAMAAAMBqQAAAA4Bn/tqR/8AAAMAAAMBqQAAABdBm+BJqEFsmUwIZ//+nhAAAAMAAAMDPwAAABBBnh5FFSwj/wAAAwAAAwEHAAAADgGePXRH/wAAAwAAAwGpAAAADgGeP2pH/wAAAwAAAwGpAAAAF0GaJEmoQWyZTAhf//6MsAAAAwAAAwNCAAAAEEGeQkUVLCP/AAADAAADAQcAAAAOAZ5hdEf/AAADAAADAakAAAAOAZ5jakf/AAADAAADAakAAAAXQZpoSahBbJlMCF///oywAAADAAADA0IAAAAvQZ6GRRUsI/8AAAMDI6580RqoAA4p+Y1Yao+qdiGGN9yBgaC0mOnkr3LF5uU38GEAAAAaAZ6ldEf/AAAE+9DCGG1xHpuevXktHmaWEgIAAAAeAZ6nakf/AAADAduAEwwA0eTgnaRDpJA4aIMzsjkhAAAAFkGarEmoQWyZTAhX//44QAAAAwAADKgAAAAQQZ7KRRUsI/8AAAMAAAMBBwAAAA4Bnul0R/8AAAMAAAMBqQAAAA4BnutqR/8AAAMAAAMBqQAAAEBBmvBJqEFsmUwIT//98QAAAwBc2Jka6bqkIARfjd+8wdCwU++ENRfsLRW+usxUQVdjR0CvIKjLJPZVMwblVHoRAAAAH0GfDkUVLCP/AAADAyUxzaO3lnEjvUs51NopW0dMQEAAAAAOAZ8tdEf/AAADAAADAakAAAAbAZ8vakf/AAAE+zTV3tuIaoJIG+jw6CRwkZOTAAAAJkGbNEmoQWyZTAhP//3xAAADAA18oaQA5VbSxgSl83FACzWnE/HgAAAAHUGfUkUVLCP/AAADAHQqN7Ea2soxI45g6Wyyxh2zAAAAEAGfcXRH/wAAAwC6C37Aq4EAAAAcAZ9zakf/AAADALpmEqUImoxnWLe+VSgVLUFtwQAAACpBm3hJqEFsmUwIT//98QAAAwKfBR02S0I7tG5SdQAljD4ABwNgAEzMFxEAAAAbQZ+WRRUsI/8AABa1KzdrWWaIuQFnb0kXLBbQAAAAGQGftXRH/wAAI8MXaKmk9CIa/u7CrSjfwxoAAAAQAZ+3akf/AAAE+zTVuoBSQQAAAEdBm7xJqEFsmUwIT//98QAAAwKf8uWoEGgf9Q75ciQxzQBEeN37zYJCslKE7ywcif5fqRwshQ0W4tjR0CvG8yaJpLtpnLWDagAAACBBn9pFFSwj/wAAFrUrN2taXrisEcD2jKirazWOtnUkwAAAACEBn/l0R/8AACPDF2ippPQiGv7uwp2WCoaHKOcR00XAZAUAAAAjAZ/7akf/AAAjx72LGb/KqCgb9BxJOwi5NKSQJwTjS2F0OSAAAAA3QZvgSahBbJlMCFf//jhAAAENUQ8NBuiLCliv94cHcyUHPoAA5Cu1Jlev2LYVB+1G597h/CqpqQAAABxBnh5FFSwj/wAAFrxDzbcVzKyZV6a5hzt3cuMDAAAAEgGePXRH/wAAAwC6C4kXb8CbgAAAABkBnj9qR/8AACO/BCcSyWmauFZVFg/2Hg/xAAAAWUGaJEmoQWyZTAhP//3xAAADACOXyNLtPAC28fgBf3gBdmT+SaDdmMH6IKrVGg4HyaTkQx3+pmdYn4MnyeX/I1AsqpWs851NmrRkIuwXF57KtP7kjcU8Pc4aAAAAI0GeQkUVLCP/AAADAzdxBBYOhnEnD2Wj4Qaawi0Ic1Eke2DBAAAAGwGeYXRH/wAABR/Qwc62jcNExQ1E+hiT5nO2zQAAABcBnmNqR/8AAAMACj55DMFRAoxrQzk5IAAAADtBmmhJqEFsmUwIZ//+nhAAAAMDtK0LgBVegfqBqxs8yGnz4IVrVQCWlAcDe4SFIa2mTeAbwDsIjxXqYAAAABlBnoZFFSwj/wAAAwE1gUNpmXzBitCQkc+BAAAAIAGepXRH/wAABR6G5XuHnDRBfz/2QtURFRlAwkm0EfWDAAAADgGep2pH/wAAAwAAAwGpAAAAF0GarEmoQWyZTAhn//6eEAAAAwAAAwM+AAAAEEGeykUVLCP/AAADAAADAQcAAAAOAZ7pdEf/AAADAAADAakAAAAOAZ7rakf/AAADAAADAakAAAAXQZrwSahBbJlMCGf//p4QAAADAAADAz8AAAAQQZ8ORRUsI/8AAAMAAAMBBwAAAA4Bny10R/8AAAMAAAMBqQAAAA4Bny9qR/8AAAMAAAMBqQAAABdBmzRJqEFsmUwIX//+jLAAAAMAAAMDQgAAABBBn1JFFSwj/wAAAwAAAwEHAAAADgGfcXRH/wAAAwAAAwGpAAAADgGfc2pH/wAAAwAAAwGpAAAAF0GbeEmoQWyZTAhf//6MsAAAAwAAAwNDAAAAEEGflkUVLCP/AAADAAADAQcAAAAOAZ+1dEf/AAADAAADAakAAAAOAZ+3akf/AAADAAADAakAAAAWQZu8SahBbJlMCFf//jhAAAADAAAMqAAAABBBn9pFFSwj/wAAAwAAAwEHAAAADgGf+XRH/wAAAwAAAwGpAAAADgGf+2pH/wAAAwAAAwGpAAAAF0Gb4EmoQWyZTAhP//3xAAADAAADAB6RAAAAKUGeHkUVLCP/AAADAyJxU3zC6Sxtyjgor3sZdzgEUHIlU2LQTlqJjDbdAAAAGgGePXRH/wAABPvQwhhtcR6bnr15LR5mlhICAAAAHgGeP2pH/wAAAwHbgBL44DuWYx6496ZvTlgsgzJJgQAAAC5BmiRJqEFsmUwIT//98QAAAwKfBR02S0I7tG4KpeyWyokHJV92W7fUAd9RWPmAAAAAGkGeQkUVLCP/AAAWvEPNtxXMrJlJQy+0bcgZAAAADgGeYXRH/wAAAwAAAwGpAAAAGAGeY2pH/wAAI78EJxLJaZq4VmspNCem4AAAAEhBmmhJqEFsmUwIT//98QAAAwKfyGkAOVW03NkDCQyLViwAjIUx2+cEyIAJYRa10Ph4ovFguX5nWdPY8UzeFs5HucEU48u+m4AAAAAhQZ6GRRUsI/8AABa1KzdrWxX6ej0wuGYzKq+ENXsF4hyRAAAAGAGepXRH/wAAI8MXaKmlrERjMaprF6/DGgAAABsBnqdqR/8AAAT7NNXe24hqgkgb6PDoJHCRk5MAAABHQZqsSahBbJlMCFf//jhAAAENUQ8NBuUoREbDcx3dYPwiDtoAcbaYKel5PCxkCRUekz3OJKC4NRXOlyqXnt6EJw9B8dUTeCQAAAAlQZ7KRRUsI/8AABa8Q823FcxJIFqKgpEDC+U8oTyNDXzNrnSWYQAAABIBnul0R/8AAAMARViDv2/Am4EAAAAdAZ7rakf/AAAjvwQnEslpmrhWUx8qO34vrY0EkmEAAAAXQZrwSahBbJlMCE///fEAAAMAAAMAHpEAAAAiQZ8ORRUsI/8AABbAmz9h/YZByEVo3cKkfpr8BJdUep4W0AAAABwBny10R/8AACPDF2ippVPU+8IJjrAYLdbrsEBAAAAAHQGfL2pH/wAAI78EJxLJaZq4VlMfKjt+L62NBJJhAAAAOkGbNEmoQWyZTAhP//3xAAADAp/IaQA5VbSw/r9UgRIhRRgCY6ACgZlBxXtOnSZAV8SHCuo0Lx0P5IAAAAAnQZ9SRRUsI/8AABa8Q823FoNjrIWGGPgIwVjVQQdrahUmUoTzB82YAAAAGgGfcXRH/wAAAwHmsbCUqUTuDbgSXwY9FvwZAAAAGAGfc2pH/wAAI78EJxLJaZq4VlUWzvFS8QAAACpBm3hJqEFsmUwIX//+jLAAAEYRrBDkn9QTDJSipgecYamgEQBvKyJ6dqUAAAAjQZ+WRRUsI/8AABa1Kzdrbg1IQ6NiCjB4xsA8A03yE3vWSYAAAAAfAZ+1dEf/AAAjq/hbeBajJkFwzPZqBqMTa6redzPgwAAAABsBn7dqR/8AAAMB5n/VSX8TcdX2dxiHhqcmO3EAAAAaQZu8SahBbJlMCFf//jhAAAADAEW6JtAkEfAAAAAQQZ/aRRUsI/8AAAMAAAMBBwAAAA4Bn/l0R/8AAAMAAAMBqQAAAA4Bn/tqR/8AAAMAAAMBqQAAAEZBm+BJqEFsmUwIT//98QAAAwAjl8kNXRTNOjYhktlja/l25ABim9eSqWS0w7tRqPhuC70pnJIok972jKcOMiNdfyKs9U6BAAAAHUGeHkUVLCP/AAADATXk5rwv+3VrYb4QRY8f9j2zAAAAHQGePXRH/wAABR6HAs6qe4MU3i1/v6tX0NmbttuAAAAAGwGeP2pH/wAAAwHmf9VJfxNx1fZ3GIeGpyY7cQAAAChBmiRJqEFsmUwIZ//+nhAAAAMDtIHnNGpyFzOtKKmmKRfYDTCnp3PgAAAAHEGeQkUVLCP/AAADATWBQ2mZfMHFb+nQuAZRbcEAAAAaAZ5hdEf/AAAFHocR3aDpiVwfb/W9OtPyR28AAAAOAZ5jakf/AAADAAADAakAAAAXQZpoSahBbJlMCGf//p4QAAADAAADAz4AAAAyQZ6GRRUsI/8AAAMDIoZICJ+7eZhUqU2oUPPJKXwdauRN6dQAmQ4mBSdYafB2Serb4OEAAAAXAZ6ldEf/AAAE+9DBzz2mSAs3hB4IoIAAAAAWAZ6nakf/AAAE+T5g4u427FJufjL4OQAAABdBmqxJqEFsmUwIZ//+nhAAAAMAAAMDPgAAABBBnspFFSwj/wAAAwAAAwEHAAAADgGe6XRH/wAAAwAAAwGpAAAADgGe62pH/wAAAwAAAwGpAAAAF0Ga8EmoQWyZTAhf//6MsAAAAwAAAwNDAAAAEEGfDkUVLCP/AAADAAADAQcAAAAOAZ8tdEf/AAADAAADAakAAAAOAZ8vakf/AAADAAADAakAAAAXQZs0SahBbJlMCF///oywAAADAAADA0IAAAAQQZ9SRRUsI/8AAAMAAAMBBwAAAA4Bn3F0R/8AAAMAAAMBqQAAAA4Bn3NqR/8AAAMAAAMBqQAAABdBm3hJqEFsmUwIX//+jLAAAAMAAAMDQwAAADFBn5ZFFSwj/wAAAwMihkgIn8zdwBEwXRXtTSWUQPUfKcwNDW20ar1CeqMRDosE8htmAAAAGwGftXRH/wAABPvQwhhtcR6bnr15LR5mhkUMoAAAAB8Bn7dqR/8AAAT7NNXe52fiBbSPfjuABkDK+FgxThWBAAAARUGbvEmoQWyZTAhX//44QAAAJafsRGQP1kZfheB75Z+FMlTmpzDDRwCO3QiGChBd8APu9NZeDLsxNrexl9Tk8h2jZeqncAAAACRBn9pFFSwj/wAAAwMlMc2jt5ZxI77EdIABdatbFSFq4FTBEqAAAAAcAZ/5dEf/AAAjwLjfwV6Q7VfkMBg9M33FD+4CFwAAABwBn/tqR/8AAAT7NNXe24hqgqpq3QgcfBYxICSYAAAAHUGb4EmoQWyZTAhP//3xAAADAA178rPeh3/qqHqhAAAAOkGeHkUVLCP/AAAWs0e3DcE0ANHYkk0ilOPiaC1Wazze3JEj66hl2GbH68ASFg1nckEwiEADKAOGO3EAAAAdAZ49dEf/AAAjwxdoqaVT1QY4K5KJE5g1fRhfICAAAAAfAZ4/akf/AAAjvwQnEslpmrg8cxeToQ9fdCGLybickQAAAElBmiRJqEFsmUwIV//+OEAAAQ1AVgIY1I20afBs+HE7M6ahSHyezjGtrBWKmw+3xL+UCl+O8oGvM2mAYs5KxwUmY6Cx8XNN3rFAAAAAIEGeQkUVLCP/AAAWvEPNtxXMrJlJPwyESxlAznGvrkmBAAAAJQGeYXRH/wAAI7iv2oweE46KaJuhgeG8AOB+erplfCnJ54DUNmEAAAAdAZ5jakf/AAAjvwQnEslpmrhWUx8qO34vrY0EkmAAAAAgQZpoSahBbJlMCE///fEAAAMADSvytAmLVGAClMgI+4AAAAAuQZ6GRRUsI/8AAAMDObNNAADTF5JNP+ZeWUrvG6pFRBzmEdtbXTHNcs+QdGtbcQAAABwBnqV0R/8AAAMB5rGwbi9rSloZGDI5Ea4NaduAAAAAGwGep2pH/wAABR801bGTC8/rwBUNX82QRbDtwQAAADhBmqxJqEFsmUwIZ//+nhAAABp/UVitYGmcBVTVS6+5Mp17J+hjHnyICNehrqTCwQ4FWze2hyzGvQAAABxBnspFFSwj/wAACGwKHkVl3k6oZg0MhZAjWSTBAAAAGwGe6XRH/wAAAwHmsbCUqBkjdeLXpY1XHNtswQAAAA4BnutqR/8AAAMAAAMBqQAAABdBmvBJqEFsmUwIZ//+nhAAAAMAAAMDPwAAABBBnw5FFSwj/wAAAwAAAwEHAAAADgGfLXRH/wAAAwAAAwGpAAAADgGfL2pH/wAAAwAAAwGpAAAAF0GbNEmoQWyZTAhn//6eEAAAAwAAAwM+AAAAEEGfUkUVLCP/AAADAAADAQcAAAAOAZ9xdEf/AAADAAADAakAAAAOAZ9zakf/AAADAAADAakAAAAXQZt4SahBbJlMCF///oywAAADAAADA0MAAAAQQZ+WRRUsI/8AAAMAAAMBBwAAACoBn7V0R/8AAAUehwLMS7KHj/GTw9giwV1QABb0fM2axSCqu328wvo6oIAAAAAOAZ+3akf/AAADAAADAakAAAAXQZu8SahBbJlMCF///oywAAADAAADA0IAAAAQQZ/aRRUsI/8AAAMAAAMBBwAAAA4Bn/l0R/8AAAMAAAMBqQAAAA4Bn/tqR/8AAAMAAAMBqQAAABZBm+BJqEFsmUwIV//+OEAAAAMAAAypAAAAJkGeHkUVLCP/AAADAyOufNDyZ4XCzQNCfzNYx0VpWgBEvHCev8GBAAAAGgGePXRH/wAABPvQwhhtcR6bnr15LR5mlhICAAAAGgGeP2pH/wAABPk+YbdkZ20XCcm+/tu1akmBAAAAN0GaJEmoQWyZTAhP//3xAAADACK4wwAfZRHKN9b5Msa3CsqsoBZnj7Gks7oq/DBqpxBWB0KBC+AAAAAeQZ5CRRUsI/8AAAMBLeULb01GRLsEcE9UtfMLhpARAAAADgGeYXRH/wAAAwAAAwGpAAAAHAGeY2pH/wAAAwHbgBL44Gm4rXVClwk7Zlbg5IAAAAAmQZpoSahBbJlMCE///fEAAAMADXyhpADlVtLGBKXzcUALNacT8eAAAAArQZ6GRRUsI/8AABazR7cNuRuTDSiQTGijwA458avgyREfPZoVC97ScBJtuQAAAB0BnqV0R/8AACPDF2ippXk8Rurojq3IHKRY3OsEBAAAABcBnqdqR/8AACO/BCcSyWmauFZrKWWGNQAAADhBmqxJqEFsmUwIT//98QAAAwKfyGooAoY6jhUWDIHcyX+dvXwnDW9kC6wiL4eX14y0C9gDv2KDgAAAACNBnspFFSwj/wAAFrxDzbcVy/HdWr3fzhlSDJ0AQUhnQxmckQAAABwBnul0R/8AAAT70JdD3FYyFsdc0D5uFNX/IICBAAAAHQGe62pH/wAAI78EJxLJaZq4VlMfKjt+L62NBJJhAAAAPEGa8EmoQWyZTAhP//3xAAADAp/IaQA5VKJHd9XaauwbLI/wA0d6YzFAHUtWq8p9YTaFRxAE0X+UTHOWYQAAACRBnw5FFSwj/wAAFrxDzbcWg2OshYjei4URfJnoHwJtlUnK24AAAAAaAZ8tdEf/AAADAeaxsJSpRO4NuBJfBj0W/BgAAAAXAZ8vakf/AAAjvwQnEslpmrhWVRbmgl8AAAAlQZs0SahBbJlMCF///oywAABGEawQ5J/UEwyUorA8PGaSHbgGpAAAACNBn1JFFSwj/wAAFrUrN2tuDUhDo2IKMHjGwDwDTfITe9ZJgAAAAB8Bn3F0R/8AACOr+Ft4FqMmQXDM9moGoxNrqt53M+DBAAAAGwGfc2pH/wAAAwHmf9VJfxNx1fZ3GIeGpyY7cQAAABpBm3hJqEFsmUwIV//+OEAAAAMAGlQKyuibgQAAABBBn5ZFFSwj/wAAAwAAAwEHAAAADgGftXRH/wAAAwAAAwGpAAAADgGft2pH/wAAAwAAAwGpAAAAP0GbvEmoQWyZTAhP//3xAAADACOXyQ1dFM06NmACPxF60bOyABBAyFbCgO7BHgX8vLY5+/n1jPINP/sTPlfnmAAAAB1Bn9pFFSwj/wAAAwE15Oa8L/t1a2G+EEWPH/Y9swAAAA4Bn/l0R/8AAAMAAAMBqQAAABsBn/tqR/8AAAMB5n/VSX8TcdX2dxiHhqcmO3AAAAAxQZvgSahBbJlMCF///oywAAADA7qMhpF6gACBh35fsqZGyLGMxlEstbFCG34zvQ73QQAAABxBnh5FFSwj/wAAAwE1gUNpmXzBxW/p0LgGUW3BAAAAGwGePXRH/wAABR6HEdqLAc0vLRFhmjXY1cTvBgAAAA4Bnj9qR/8AAAMAAAMBqQAAABdBmiRJqEFsmUwIX//+jLAAAAMAAAMDQgAAADhBnkJFFSwj/wAAAwMihkgIn8zdwBW9Yz9rnVKP0G4zs9IE2X7eITj8NrApmb2pS6JTuO2jySw7cQAAABsBnmF0R/8AAAT70MIYbXEem569eS0eZoZFDKEAAAAeAZ5jakf/AAADAduAEwwA1cuAxIkC6QA/ZZmY04LAAAAAFkGaaEmoQWyZTAhX//44QAAAAwAADKgAAAAQQZ6GRRUsI/8AAAMAAAMBBwAAAA4BnqV0R/8AAAMAAAMBqQAAAA4BnqdqR/8AAAMAAAMBqQAAAFhBmqxJqEFsmUwIT//98QAAAwBdGZvGs8paeoA5gpgad9c4G2sT1fIYOS7HedQv82Hst+DMaE7yYLLkkpELqmK+he5M098H0+k0fD8+pXwKMVAJmwrkvX7AAAAAH0GeykUVLCP/AAADAyUxzaO3lnEjvUs51NopW0dMQEEAAAAOAZ7pdEf/AAADAAADAakAAAAbAZ7rakf/AAAE+zTV3tuIaoJIG+jw6CRwkZOTAAAAJkGa8EmoQWyZTAhP//3xAAADAA18oaQA5VbSxgSl83FACzWnE/HhAAAAHUGfDkUVLCP/AAADAHQqN7Ea2soxI45g6Wyyxh2zAAAAEAGfLXRH/wAAAwC6IUOcBywAAAAbAZ8vakf/AAADALp2e9WnmUtpqoTS4qTxhNsxAAAAQUGbNEmoQWyZTAhP//3xAAADAqPsODUx3vqigCp2eewIGU7y7ZFBJvHatC4OzhrFLvOOJBqdvXKu2gyNG+YonVFJAAAAGUGfUkUVLCP/AAAWtSs3a1peuKKbD1JYcdMAAAAXAZ9xdEf/AAAjq/hbeBKdaCOJCckQQsEAAAAOAZ9zakf/AAADAAADAakAAAA4QZt4SahBbJlMCEf//eEAAAMBk/Y+YnHbahsZnv108++ZHRgiXMCfCAGwcSIwyCRd+Z3onCI9Wb0AAAAqQZ+WRRUsI/8AAAhsCh5FZd5OqGYNDIUjbzi2UO2f9r9vQYWnq4iF4u+VAAAAHgGftXRH/wAADYXqGJHgYLK8sLqS6F3Nhlm2LsKztwAAACABn7dqR/8AAA2HkF4vWewz7qyL2bTy9HpWK9H9WaUhlQAAABhBm7lJqEFsmUwI//yEAAADAAGx9hg7EHAAAAF0ZYiEACv//vZzfAprRzOVLgV292aj5dCS5fsQYPrQAAADAAADAABNxUTOiwpjxNkAAAMAXEAR4LAI8JULYSEfY6QycCY2IA5U/wYsRxg74ijk2v3ud1nmorfNbBKVft+IlsNEGVqjpB4/Wg4HHxlMFA543dfvNKjnv1CIAFNpZHXs6lGPdpeXXUV6BYu5Rc8l6CFQH6LGP2gsoxKogKhoK7WrUPtf+otIbWsLDMkA/k6mAGMLFFkxEOy3Y8jspDBviWAGryZrr498GhJX3gv0PqQHDUQl5LxUSf7HYVK6XrEkMkDoXLS/XPEUB2h5ji9sa1QY/z8FMa/7plEvJKRu1LsxULogXltPJX0MfWvdk+fp18HplHpL8zVSRArygKfmOzJNRTCwE2w/8wd2SO9mLqH+F8ZB0pxiGmfWSAEoH/z2QL1HrsACcoT3WMwJgrt/7TOGbGiYdRNfX6PfDN++CoAMxAADL17s8318KYAAMEAaoALeAAAah21vb3YAAABsbXZoZAAAAAAAAAAAAAAAAAAAA+gAACckAAEAAAEAAAAAAAAAAAAAAAABAAAAAAAAAAAAAAAAAAAAAQAAAAAAAAAAAAAAAAAAQAAAAAAAAAAAAAAAAAAAAAAAAAAAAAAAAAAAAAAAAAIAABmxdHJhawAAAFx0a2hkAAAAAwAAAAAAAAAAAAAAAQAAAAAAACckAAAAAAAAAAAAAAAAAAAAAAABAAAAAAAAAAAAAAAAAAAAAQAAAAAAAAAAAAAAAAAAQAAAAAJYAAABkAAAAAAAJGVkdHMAAAAcZWxzdAAAAAAAAAABAAAnJAAAAgAAAQAAAAAZKW1kaWEAAAAgbWRoZAAAAAAAAAAAAAAAAAAAMgAAAfUAVcQAAAAAAC1oZGxyAAAAAAAAAAB2aWRlAAAAAAAAAAAAAAAAVmlkZW9IYW5kbGVyAAAAGNRtaW5mAAAAFHZtaGQAAAABAAAAAAAAAAAAAAAkZGluZgAAABxkcmVmAAAAAAAAAAEAAAAMdXJsIAAAAAEAABiUc3RibAAAAJhzdHNkAAAAAAAAAAEAAACIYXZjMQAAAAAAAAABAAAAAAAAAAAAAAAAAAAAAAJYAZAASAAAAEgAAAAAAAAAAQAAAAAAAAAAAAAAAAAAAAAAAAAAAAAAAAAAAAAAAAAAABj//wAAADJhdmNDAWQAH//hABlnZAAfrNlAmDPl4QAAAwABAAADAGQPGDGWAQAGaOvjyyLAAAAAGHN0dHMAAAAAAAAAAQAAAfUAAAEAAAAAHHN0c3MAAAAAAAAAAwAAAAEAAAD7AAAB9QAAD6hjdHRzAAAAAAAAAfMAAAABAAACAAAAAAEAAAUAAAAAAQAAAgAAAAABAAAAAAAAAAEAAAEAAAAAAQAABQAAAAABAAACAAAAAAEAAAAAAAAAAQAAAQAAAAABAAAFAAAAAAEAAAIAAAAAAQAAAAAAAAABAAABAAAAAAEAAAUAAAAAAQAAAgAAAAABAAAAAAAAAAEAAAEAAAAAAQAABQAAAAABAAACAAAAAAEAAAAAAAAAAQAAAQAAAAABAAAFAAAAAAEAAAIAAAAAAQAAAAAAAAABAAABAAAAAAEAAAUAAAAAAQAAAgAAAAABAAAAAAAAAAEAAAEAAAAAAQAABQAAAAABAAACAAAAAAEAAAAAAAAAAQAAAQAAAAABAAAFAAAAAAEAAAIAAAAAAQAAAAAAAAABAAABAAAAAAEAAAUAAAAAAQAAAgAAAAABAAAAAAAAAAEAAAEAAAAAAQAABQAAAAABAAACAAAAAAEAAAAAAAAAAQAAAQAAAAABAAAEAAAAAAIAAAEAAAAAAQAABQAAAAABAAACAAAAAAEAAAAAAAAAAQAAAQAAAAABAAAFAAAAAAEAAAIAAAAAAQAAAAAAAAABAAABAAAAAAEAAAMAAAAAAQAAAQAAAAABAAAFAAAAAAEAAAIAAAAAAQAAAAAAAAABAAABAAAAAAEAAAUAAAAAAQAAAgAAAAABAAAAAAAAAAEAAAEAAAAAAQAABQAAAAABAAACAAAAAAEAAAAAAAAAAQAAAQAAAAABAAAFAAAAAAEAAAIAAAAAAQAAAAAAAAABAAABAAAAAAEAAAUAAAAAAQAAAgAAAAABAAAAAAAAAAEAAAEAAAAAAQAABQAAAAABAAACAAAAAAEAAAAAAAAAAQAAAQAAAAABAAAFAAAAAAEAAAIAAAAAAQAAAAAAAAABAAABAAAAAAEAAAUAAAAAAQAAAgAAAAABAAAAAAAAAAEAAAEAAAAAAQAABQAAAAABAAACAAAAAAEAAAAAAAAAAQAAAQAAAAABAAAFAAAAAAEAAAIAAAAAAQAAAAAAAAABAAABAAAAAAEAAAUAAAAAAQAAAgAAAAABAAAAAAAAAAEAAAEAAAAAAQAABQAAAAABAAACAAAAAAEAAAAAAAAAAQAAAQAAAAABAAAFAAAAAAEAAAIAAAAAAQAAAAAAAAABAAABAAAAAAEAAAUAAAAAAQAAAgAAAAABAAAAAAAAAAEAAAEAAAAAAQAABQAAAAABAAACAAAAAAEAAAAAAAAAAQAAAQAAAAABAAAFAAAAAAEAAAIAAAAAAQAAAAAAAAABAAABAAAAAAEAAAUAAAAAAQAAAgAAAAABAAAAAAAAAAEAAAEAAAAAAQAABQAAAAABAAACAAAAAAEAAAAAAAAAAQAAAQAAAAABAAAFAAAAAAEAAAIAAAAAAQAAAAAAAAABAAABAAAAAAEAAAUAAAAAAQAAAgAAAAABAAAAAAAAAAEAAAEAAAAAAQAABQAAAAABAAACAAAAAAEAAAAAAAAAAQAAAQAAAAABAAAFAAAAAAEAAAIAAAAAAQAAAAAAAAABAAABAAAAAAEAAAUAAAAAAQAAAgAAAAABAAAAAAAAAAEAAAEAAAAAAQAABQAAAAABAAACAAAAAAEAAAAAAAAAAQAAAQAAAAABAAAFAAAAAAEAAAIAAAAAAQAAAAAAAAABAAABAAAAAAEAAAUAAAAAAQAAAgAAAAABAAAAAAAAAAEAAAEAAAAAAQAABQAAAAABAAACAAAAAAEAAAAAAAAAAQAAAQAAAAABAAAFAAAAAAEAAAIAAAAAAQAAAAAAAAABAAABAAAAAAEAAAUAAAAAAQAAAgAAAAABAAAAAAAAAAEAAAEAAAAAAQAABQAAAAABAAACAAAAAAEAAAAAAAAAAQAAAQAAAAABAAAFAAAAAAEAAAIAAAAAAQAAAAAAAAABAAABAAAAAAEAAAUAAAAAAQAAAgAAAAABAAAAAAAAAAEAAAEAAAAAAQAABQAAAAABAAACAAAAAAEAAAAAAAAAAQAAAQAAAAABAAAFAAAAAAEAAAIAAAAAAQAAAAAAAAABAAABAAAAAAEAAAUAAAAAAQAAAgAAAAABAAAAAAAAAAEAAAEAAAAAAQAABQAAAAABAAACAAAAAAEAAAAAAAAAAQAAAQAAAAABAAAFAAAAAAEAAAIAAAAAAQAAAAAAAAABAAABAAAAAAEAAAUAAAAAAQAAAgAAAAABAAAAAAAAAAEAAAEAAAAAAQAABQAAAAABAAACAAAAAAEAAAAAAAAAAQAAAQAAAAABAAAFAAAAAAEAAAIAAAAAAQAAAAAAAAABAAABAAAAAAEAAAUAAAAAAQAAAgAAAAABAAAAAAAAAAEAAAEAAAAAAQAABQAAAAABAAACAAAAAAEAAAAAAAAAAQAAAQAAAAABAAAFAAAAAAEAAAIAAAAAAQAAAAAAAAABAAABAAAAAAEAAAUAAAAAAQAAAgAAAAABAAAAAAAAAAEAAAEAAAAAAQAABQAAAAABAAACAAAAAAEAAAAAAAAAAQAAAQAAAAABAAAFAAAAAAEAAAIAAAAAAQAAAAAAAAABAAABAAAAAAEAAAUAAAAAAQAAAgAAAAABAAAAAAAAAAEAAAEAAAAAAQAABQAAAAABAAACAAAAAAEAAAAAAAAAAQAAAQAAAAABAAACAAAAAAEAAAUAAAAAAQAAAgAAAAABAAAAAAAAAAEAAAEAAAAAAQAABQAAAAABAAACAAAAAAEAAAAAAAAAAQAAAQAAAAABAAAFAAAAAAEAAAIAAAAAAQAAAAAAAAABAAABAAAAAAEAAAUAAAAAAQAAAgAAAAABAAAAAAAAAAEAAAEAAAAAAQAABQAAAAABAAACAAAAAAEAAAAAAAAAAQAAAQAAAAABAAAFAAAAAAEAAAIAAAAAAQAAAAAAAAABAAABAAAAAAEAAAUAAAAAAQAAAgAAAAABAAAAAAAAAAEAAAEAAAAAAQAABQAAAAABAAACAAAAAAEAAAAAAAAAAQAAAQAAAAABAAAFAAAAAAEAAAIAAAAAAQAAAAAAAAABAAABAAAAAAEAAAUAAAAAAQAAAgAAAAABAAAAAAAAAAEAAAEAAAAAAQAABQAAAAABAAACAAAAAAEAAAAAAAAAAQAAAQAAAAABAAAFAAAAAAEAAAIAAAAAAQAAAAAAAAABAAABAAAAAAEAAAUAAAAAAQAAAgAAAAABAAAAAAAAAAEAAAEAAAAAAQAABQAAAAABAAACAAAAAAEAAAAAAAAAAQAAAQAAAAABAAAFAAAAAAEAAAIAAAAAAQAAAAAAAAABAAABAAAAAAEAAAUAAAAAAQAAAgAAAAABAAAAAAAAAAEAAAEAAAAAAQAABQAAAAABAAACAAAAAAEAAAAAAAAAAQAAAQAAAAABAAAFAAAAAAEAAAIAAAAAAQAAAAAAAAABAAABAAAAAAEAAAUAAAAAAQAAAgAAAAABAAAAAAAAAAEAAAEAAAAAAQAABQAAAAABAAACAAAAAAEAAAAAAAAAAQAAAQAAAAABAAAFAAAAAAEAAAIAAAAAAQAAAAAAAAABAAABAAAAAAEAAAUAAAAAAQAAAgAAAAABAAAAAAAAAAEAAAEAAAAAAQAABQAAAAABAAACAAAAAAEAAAAAAAAAAQAAAQAAAAABAAAFAAAAAAEAAAIAAAAAAQAAAAAAAAABAAABAAAAAAEAAAUAAAAAAQAAAgAAAAABAAAAAAAAAAEAAAEAAAAAAQAABQAAAAABAAACAAAAAAEAAAAAAAAAAQAAAQAAAAABAAAFAAAAAAEAAAIAAAAAAQAAAAAAAAABAAABAAAAAAEAAAUAAAAAAQAAAgAAAAABAAAAAAAAAAEAAAEAAAAAAQAABQAAAAABAAACAAAAAAEAAAAAAAAAAQAAAQAAAAABAAAFAAAAAAEAAAIAAAAAAQAAAAAAAAABAAABAAAAAAEAAAUAAAAAAQAAAgAAAAABAAAAAAAAAAEAAAEAAAAAAQAABQAAAAABAAACAAAAAAEAAAAAAAAAAQAAAQAAAAABAAAFAAAAAAEAAAIAAAAAAQAAAAAAAAABAAABAAAAAAEAAAUAAAAAAQAAAgAAAAABAAAAAAAAAAEAAAEAAAAAAQAABQAAAAABAAACAAAAAAEAAAAAAAAAAQAAAQAAAAABAAAFAAAAAAEAAAIAAAAAAQAAAAAAAAABAAABAAAAAAEAAAUAAAAAAQAAAgAAAAABAAAAAAAAAAEAAAEAAAAAAQAABQAAAAABAAACAAAAAAEAAAAAAAAAAQAAAQAAAAABAAAFAAAAAAEAAAIAAAAAAQAAAAAAAAABAAABAAAAAAEAAAUAAAAAAQAAAgAAAAABAAAAAAAAAAEAAAEAAAAAAQAABQAAAAABAAACAAAAAAEAAAAAAAAAAQAAAQAAAAABAAAFAAAAAAEAAAIAAAAAAQAAAAAAAAABAAABAAAAAAEAAAUAAAAAAQAAAgAAAAABAAAAAAAAAAEAAAEAAAAAAQAABQAAAAABAAACAAAAAAEAAAAAAAAAAQAAAQAAAAABAAAFAAAAAAEAAAIAAAAAAQAAAAAAAAABAAABAAAAAAEAAAUAAAAAAQAAAgAAAAABAAAAAAAAAAEAAAEAAAAAAQAABQAAAAABAAACAAAAAAEAAAAAAAAAAQAAAQAAAAABAAAFAAAAAAEAAAIAAAAAAQAAAAAAAAABAAABAAAAAAEAAAUAAAAAAQAAAgAAAAABAAAAAAAAAAEAAAEAAAAAAQAABQAAAAABAAACAAAAAAEAAAAAAAAAAQAAAQAAAAABAAAFAAAAAAEAAAIAAAAAAQAAAAAAAAABAAABAAAAAAEAAAUAAAAAAQAAAgAAAAABAAAAAAAAAAEAAAEAAAAAAQAABQAAAAABAAACAAAAAAEAAAAAAAAAAQAAAQAAAAABAAAFAAAAAAEAAAIAAAAAAQAAAAAAAAABAAABAAAAAAEAAAUAAAAAAQAAAgAAAAABAAAAAAAAAAEAAAEAAAAAAQAABQAAAAABAAACAAAAAAEAAAAAAAAAAQAAAQAAAAABAAAFAAAAAAEAAAIAAAAAAQAAAAAAAAABAAABAAAAAAEAAAUAAAAAAQAAAgAAAAABAAAAAAAAAAEAAAEAAAAAAQAABQAAAAABAAACAAAAAAEAAAAAAAAAAQAAAQAAAAABAAAFAAAAAAEAAAIAAAAAAQAAAAAAAAABAAABAAAAAAEAAAUAAAAAAQAAAgAAAAABAAAAAAAAAAEAAAEAAAAAAQAABQAAAAABAAACAAAAAAEAAAAAAAAAAQAAAQAAAAACAAACAAAAABxzdHNjAAAAAAAAAAEAAAABAAAB9QAAAAEAAAfoc3RzegAAAAAAAAAAAAAB9QAABEwAAABmAAAAMAAAACMAAAAiAAAAUQAAACkAAAAWAAAAIAAAAG0AAAAkAAAAJgAAACsAAAB+AAAAOAAAAC0AAAA0AAAAdwAAAEUAAAAfAAAAIAAAAFEAAAAdAAAAEgAAABsAAABWAAAAJAAAACUAAAAXAAAAVgAAACEAAAAiAAAAEgAAAE4AAAAjAAAAEgAAAB8AAABcAAAAJwAAABIAAAAiAAAAOQAAACUAAAAUAAAAHwAAAD0AAAAgAAAAHwAAACEAAAA5AAAAIQAAAB8AAAA4AAAAHwAAABQAAAAbAAAAKwAAABsAAABkAAAAKQAAAB4AAAAhAAAAKwAAAB0AAAAbAAAAEgAAABsAAAAUAAAAEgAAABIAAAAbAAAALAAAAB0AAAAdAAAAGwAAABQAAAASAAAAEgAAABsAAAAUAAAAEgAAADEAAAAbAAAAFAAAABIAAAASAAAAGwAAABQAAAASAAAAEgAAABoAAAAUAAAAEgAAABIAAABLAAAAIgAAABIAAAAhAAAAKwAAACAAAAAfAAAAEgAAABsAAAAqAAAAGgAAABoAAAA7AAAANAAAAB8AAAAjAAAAUwAAACUAAAAaAAAAHgAAABsAAAAoAAAAIAAAAB8AAAA5AAAAIwAAABIAAAAfAAAAGwAAABQAAAASAAAAEgAAAFEAAAAgAAAAHgAAACEAAAAbAAAALQAAABsAAAAaAAAAGwAAADIAAAAfAAAAHQAAABsAAAAUAAAAEgAAABIAAAAbAAAAFAAAABIAAAASAAAAGwAAADEAAAAaAAAAGQAAABsAAAAUAAAAEgAAABIAAAAbAAAAFAAAABIAAAAjAAAAGwAAABQAAAASAAAAEgAAABsAAAAUAAAAEgAAABIAAAAaAAAAFAAAAC4AAAASAAAAPQAAACIAAAASAAAAIgAAACsAAAAgAAAAHwAAABIAAAAbAAAAKAAAAB8AAAAeAAAANwAAAB8AAAAbAAAAEgAAAEwAAAAkAAAAIQAAACEAAAA2AAAAHgAAABIAAAAdAAAASAAAACgAAAAdAAAAIAAAABsAAAApAAAAHgAAACAAAAAxAAAAIAAAAB4AAAASAAAAGwAAABQAAAASAAAAEgAAABsAAAAoAAAAHgAAAB0AAAAbAAAAFAAAABIAAAASAAAAGwAAABQAAAASAAAAEgAAABsAAAAvAAAAIAAAAB4AAAAbAAAAFAAAABIAAAASAAAAGwAAABQAAAASAAAAJQAAABsAAAAUAAAAEgAAABIAAAAbAAAAIQAAABoAAAAaAAAATwAAACMAAAAlAAAAJAAAABsAAAAkAAAAHwAAACMAAAILAAAAWgAAACAAAAASAAAAIQAAAC4AAAAmAAAAIgAAAB8AAAAtAAAAKAAAABwAAAAnAAAAGwAAACgAAAAfAAAAHwAAACwAAAAgAAAAHwAAABIAAAAbAAAAFAAAABIAAAASAAAAGwAAABQAAAASAAAAEgAAABsAAAAUAAAAEgAAABIAAAAbAAAAFAAAABIAAAASAAAAGwAAADMAAAAeAAAAIgAAABoAAAAUAAAAEgAAABIAAABEAAAAIwAAABIAAAAfAAAAKgAAACEAAAAUAAAAIAAAAC4AAAAfAAAAHQAAABQAAABLAAAAJAAAACUAAAAnAAAAOwAAACAAAAAWAAAAHQAAAF0AAAAnAAAAHwAAABsAAAA/AAAAHQAAACQAAAASAAAAGwAAABQAAAASAAAAEgAAABsAAAAUAAAAEgAAABIAAAAbAAAAFAAAABIAAAASAAAAGwAAABQAAAASAAAAEgAAABoAAAAUAAAAEgAAABIAAAAbAAAALQAAAB4AAAAiAAAAMgAAAB4AAAASAAAAHAAAAEwAAAAlAAAAHAAAAB8AAABLAAAAKQAAABYAAAAhAAAAGwAAACYAAAAgAAAAIQAAAD4AAAArAAAAHgAAABwAAAAuAAAAJwAAACMAAAAfAAAAHgAAABQAAAASAAAAEgAAAEoAAAAhAAAAIQAAAB8AAAAsAAAAIAAAAB4AAAASAAAAGwAAADYAAAAbAAAAGgAAABsAAAAUAAAAEgAAABIAAAAbAAAAFAAAABIAAAASAAAAGwAAABQAAAASAAAAEgAAABsAAAA1AAAAHwAAACMAAABJAAAAKAAAACAAAAAgAAAAIQAAAD4AAAAhAAAAIwAAAE0AAAAkAAAAKQAAACEAAAAkAAAAMgAAACAAAAAfAAAAPAAAACAAAAAfAAAAEgAAABsAAAAUAAAAEgAAABIAAAAbAAAAFAAAABIAAAASAAAAGwAAABQAAAAuAAAAEgAAABsAAAAUAAAAEgAAABIAAAAaAAAAKgAAAB4AAAAeAAAAOwAAACIAAAASAAAAIAAAACoAAAAvAAAAIQAAABsAAAA8AAAAJwAAACAAAAAhAAAAQAAAACgAAAAeAAAAGwAAACkAAAAnAAAAIwAAAB8AAAAeAAAAFAAAABIAAAASAAAAQwAAACEAAAASAAAAHwAAADUAAAAgAAAAHwAAABIAAAAbAAAAPAAAAB8AAAAiAAAAGgAAABQAAAASAAAAEgAAAFwAAAAjAAAAEgAAAB8AAAAqAAAAIQAAABQAAAAfAAAARQAAAB0AAAAbAAAAEgAAADwAAAAuAAAAIgAAACQAAAAcAAABeAAAABRzdGNvAAAAAAAAAAEAAAAwAAAAYnVkdGEAAABabWV0YQAAAAAAAAAhaGRscgAAAAAAAAAAbWRpcmFwcGwAAAAAAAAAAAAAAAAtaWxzdAAAACWpdG9vAAAAHWRhdGEAAAABAAAAAExhdmY1OC4yOS4xMDA=' controls>Sorry, seems like your browser doesn't support HTML5 audio/video</video></div>"
      ],
      "text/plain": [
       "<moviepy.video.io.html_tools.HTML2 object>"
      ]
     },
     "execution_count": 16,
     "metadata": {},
     "output_type": "execute_result"
    }
   ],
   "source": [
    "# Visualization\n",
    "\n",
    "reinforce_td.visualize_best()"
   ]
  },
  {
   "cell_type": "markdown",
   "id": "4612d2cf",
   "metadata": {},
   "source": [
    "### Third algorithm: Monte-Carlo Baseline\n",
    "\n",
    " The `compute_critic_loss()` function above uses the Temporal Difference\n",
    " approach to critic estimation. In this part, we will compare it to using the\n",
    " Monte Carlo estimation approach.\n",
    "\n",
    "As explained in [this video](https://www.youtube.com/watch?v=GcJ9hl3T6x8) and\n",
    "[these\n",
    "slides](http://pages.isir.upmc.fr/~sigaud/teach/ps/5_pg_derivation3.pdf), the\n",
    "MC estimation approach uses the following equation:\n",
    "\n",
    "$$\\phi_{j+1} = \\mathop{\\mathrm{argmin}}_{\\phi_j} \\frac{1}{m\\times\n",
    "   H}\\sum_{i=1}^m \\sum_{t=1}^H \\left( \\left(\\sum_{k=t}^H \\gamma^{k-t}\n",
    "   r(s_k^{(i)},a_k^{(i)}) \\right) - \\hat{V}^\\pi_{\\phi_j}(s_t^{(i)}) \\right)^2\n",
    "       $$\n",
    "\n",
    "The innermost sum of discounted rewards exactly corresponds to the computation\n",
    "of the `apply_discounted_sum()` function. The rest just consists in computing\n",
    "the squared difference (also known as the Means Squared Error, or MSE) over\n",
    "the $m \\times H$ samples ($m$ episodes of lenght $H$) that we have collected.\n",
    "\n",
    "From the above information, create a `compute_critic_loss()` function."
   ]
  },
  {
   "cell_type": "code",
   "execution_count": 17,
   "id": "dac61de8",
   "metadata": {
    "lines_to_next_cell": 2
   },
   "outputs": [],
   "source": [
    "def compute_critic_loss_mc(cfg, reward, must_bootstrap, done, critic):\n",
    "    \n",
    "    discounted_sum = apply_discounted_sum(cfg, reward)\n",
    "    not_done = (~done)[:-1]\n",
    "    critic_loss = ((discounted_sum[:-1]-critic[:-1])**2 * not_done).sum() / not_done.sum()\n",
    "\n",
    "    return critic_loss"
   ]
  },
  {
   "cell_type": "code",
   "execution_count": 18,
   "id": "02bf09ae",
   "metadata": {
    "tags": []
   },
   "outputs": [
    {
     "data": {
      "application/vnd.jupyter.widget-view+json": {
       "model_id": "6c308f4e461643d19481fcb5085aa5ac",
       "version_major": 2,
       "version_minor": 0
      },
      "text/plain": [
       "  0%|          | 0/700 [00:00<?, ?it/s]"
      ]
     },
     "metadata": {},
     "output_type": "display_data"
    }
   ],
   "source": [
    "reinforce_mc = Reinforce(OmegaConf.create({**params, \"variant\": \"mc\"}))\n",
    "run(reinforce_mc, apply_discounted_sum_minus_baseline, compute_critic_loss_mc)"
   ]
  },
  {
   "cell_type": "code",
   "execution_count": 19,
   "id": "b7837396",
   "metadata": {
    "lines_to_next_cell": 2
   },
   "outputs": [
    {
     "name": "stdout",
     "output_type": "stream",
     "text": [
      "Video of best agent recorded in outputs\\CartPole-v1\\reinforce-mc-S1_20241112-133153\\best_agent.mp4\n",
      "Moviepy - Building video D:\\rld\\5\\outputs\\CartPole-v1\\reinforce-mc-S1_20241112-133153\\best_agent.mp4.\n",
      "Moviepy - Writing video D:\\rld\\5\\outputs\\CartPole-v1\\reinforce-mc-S1_20241112-133153\\best_agent.mp4\n",
      "\n"
     ]
    },
    {
     "name": "stderr",
     "output_type": "stream",
     "text": [
      "                                                               \r"
     ]
    },
    {
     "name": "stdout",
     "output_type": "stream",
     "text": [
      "Moviepy - Done !\n",
      "Moviepy - video ready D:\\rld\\5\\outputs\\CartPole-v1\\reinforce-mc-S1_20241112-133153\\best_agent.mp4\n"
     ]
    },
    {
     "data": {
      "text/html": [
       "<div align=middle><video src='data:video/mp4;base64,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' controls>Sorry, seems like your browser doesn't support HTML5 audio/video</video></div>"
      ],
      "text/plain": [
       "<moviepy.video.io.html_tools.HTML2 object>"
      ]
     },
     "execution_count": 19,
     "metadata": {},
     "output_type": "execute_result"
    }
   ],
   "source": [
    "# Visualization\n",
    "\n",
    "reinforce_mc.visualize_best()"
   ]
  },
  {
   "cell_type": "markdown",
   "id": "12f570d8",
   "metadata": {},
   "source": [
    "Most probably, this will not work well, as initially the learned critic is a\n",
    "poor estimate of the true $V(s)$. Instead, load an already trained critic that\n",
    "you have saved after convergence from a previous run, and see if it works\n",
    "better.\n",
    "\n",
    "Loading and saving a network or a BBRL agent can easily be performed using\n",
    "`agent.save(filename)` and `agent.load(filename)`.\n",
    "\n",
    "Warning: Be cautious with the use of ProbAgent with just a hidden layer,\n",
    "ProbAgent with build_mlp, and DiscreteActor. Try to be progressive..."
   ]
  }
 ],
 "metadata": {
  "jupytext": {
   "cell_markers": "\"\"\""
  },
  "kernelspec": {
   "display_name": "deepdac",
   "language": "python",
   "name": "python3"
  },
  "language_info": {
   "codemirror_mode": {
    "name": "ipython",
    "version": 3
   },
   "file_extension": ".py",
   "mimetype": "text/x-python",
   "name": "python",
   "nbconvert_exporter": "python",
   "pygments_lexer": "ipython3",
   "version": "3.9.19"
  }
 },
 "nbformat": 4,
 "nbformat_minor": 5
}
