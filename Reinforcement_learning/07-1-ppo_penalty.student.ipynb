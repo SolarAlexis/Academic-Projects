{
 "cells": [
  {
   "cell_type": "markdown",
   "id": "f68ee6d0",
   "metadata": {},
   "source": [
    " Copyright © Sorbonne University.\n",
    "\n",
    " This source code is licensed under the MIT license found in the LICENSE file\n",
    " in the root directory of this source tree."
   ]
  },
  {
   "cell_type": "markdown",
   "id": "9e1396b5",
   "metadata": {},
   "source": [
    "# Outlook\n",
    "\n",
    "In this notebook we code one version of the [Proximal Policy Optimization\n",
    "(PPO)](https://arxiv.org/pdf/1707.06347.pdf) algorithms using BBRL. More\n",
    "precisely, the version here is the one that uses the KL penalty as a\n",
    "regularization term when optimizing the policy gradient.\n",
    "\n",
    "The PPO algorithm is superficially explained in [this\n",
    "video](https://www.youtube.com/watch?v=uRNL93jV2HE) and you can also read [the\n",
    "corresponding slides](http://pages.isir.upmc.fr/~sigaud/teach/ps/10_ppo.pdf).\n",
    "\n",
    "It is also a good idea to have a look at the [spinning up\n",
    "documentation](https://spinningup.openai.com/en/latest/algorithms/ppo.html).\n",
    "\n",
    "This version of PPO works, but it incorrectly samples minibatches randomly\n",
    "from the rollouts without making sure that each sample is used once and only\n",
    "once See:\n",
    "https://iclr-blog-track.github.io/2022/03/25/ppo-implementation-details/ for a\n",
    "full description of all the coding tricks that should be integrated"
   ]
  },
  {
   "cell_type": "markdown",
   "id": "a514da8c",
   "metadata": {},
   "source": [
    "# Setting up the environment\n",
    "We first need to setup the environment\n",
    "Installs the necessary Python and system libraries"
   ]
  },
  {
   "cell_type": "code",
   "execution_count": 1,
   "id": "77b66597",
   "metadata": {},
   "outputs": [
    {
     "name": "stderr",
     "output_type": "stream",
     "text": [
      "c:\\Users\\asola\\.conda\\envs\\deepdac\\lib\\site-packages\\bbrl_utils\\notebook.py:46: TqdmExperimentalWarning: Using `tqdm.autonotebook.tqdm` in notebook mode. Use `tqdm.tqdm` instead to force console mode (e.g. in jupyter console)\n",
      "  from tqdm.autonotebook import tqdm  # noqa: F401\n"
     ]
    }
   ],
   "source": [
    "try:\n",
    "    from easypip import easyimport\n",
    "except ModuleNotFoundError:\n",
    "    from subprocess import run\n",
    "    assert run([\"pip\", \"install\", \"easypip\"]).returncode == 0, \"Could not install easypip\"\n",
    "    from easypip import easyimport\n",
    "\n",
    "easyimport(\"swig\")\n",
    "easyimport(\"bbrl_utils\").setup()\n",
    "\n",
    "import copy\n",
    "import os\n",
    "\n",
    "import torch\n",
    "import torch.nn as nn\n",
    "from bbrl.agents import Agent, Agents, KWAgentWrapper, TemporalAgent\n",
    "from bbrl_utils.algorithms import EpisodicAlgo, iter_partial_episodes\n",
    "from bbrl_utils.nn import build_ortho_mlp, setup_optimizer\n",
    "from bbrl_utils.notebook import setup_tensorboard\n",
    "from omegaconf import OmegaConf\n",
    "\n",
    "from bbrl_utils.nn import copy_parameters"
   ]
  },
  {
   "cell_type": "markdown",
   "id": "e28db3fe",
   "metadata": {},
   "source": [
    "# Learning environment\n",
    "\n",
    "## Configuration\n",
    "\n",
    "The learning environment is controlled by a configuration that define a few\n",
    "important things as described in the example below. This configuration can\n",
    "hold as many extra information as you need, the example below is the minimal\n",
    "one.\n",
    "\n",
    "```python\n",
    "params = {\n",
    "    # This defines the a path for logs and saved models\n",
    "    \"base_dir\": \"${gym_env.env_name}/myalgo_${current_time:}\",\n",
    "\n",
    "    # The Gymnasium environment\n",
    "    \"gym_env\": {\n",
    "        \"env_name\": \"CartPoleContinuous-v1\",\n",
    "    },\n",
    "\n",
    "    # Algorithm\n",
    "    \"algorithm\": {\n",
    "        # Seed used for the random number generator\n",
    "        \"seed\": 1023,\n",
    "\n",
    "        # Number of parallel training environments\n",
    "        \"n_envs\": 8,\n",
    "                \n",
    "        # Minimum number of steps between two evaluations\n",
    "        \"eval_interval\": 500,\n",
    "        \n",
    "        # Number of parallel evaluation environments\n",
    "        \"nb_evals\": 10,\n",
    "\n",
    "        # Number of epochs (loops)\n",
    "        \"max_epochs\": 40000,\n",
    "\n",
    "        # Number of steps (partial iteration)\n",
    "        \"n_steps\": 100,\n",
    "        \n",
    "    },\n",
    "}\n",
    "\n",
    "# Creates the configuration object, i.e. cfg.algorithm.nb_evals is 10\n",
    "cfg = OmegaConf.create(params)\n",
    "```\n",
    "\n",
    "## The RL algorithm\n",
    "\n",
    "In this notebook, the RL algorithm is based on `EpisodicAlgo`, that defines\n",
    "the algorithm environment when using episodes. To use such environment, we\n",
    "just need to subclass `EpisodicAlgo` and to define two things, namely the\n",
    "`train_policy` and the `eval_policy`. Both are BBRL agents that, given the\n",
    "environment state, select the action to perform.\n",
    "\n",
    "```py\n",
    "  class MyAlgo(EpisodicAlgo):\n",
    "      def __init__(self, cfg):\n",
    "          super().__init__(cfg)\n",
    "\n",
    "          # Define the train and evaluation policies\n",
    "          # (the agents compute the workspace `action` variable)\n",
    "          self.train_policy = MyPolicyAgent(...)\n",
    "          self.eval_policy = MyEvalAgent(...)\n",
    "\n",
    "algo = MyAlgo(cfg)\n",
    "```\n",
    "\n",
    "The `EpisodicAlgo` defines useful objects:\n",
    "\n",
    "- `algo.cfg` is the configuration\n",
    "- `algo.nb_steps` (integer) is the number of steps since the training began\n",
    "- `algo.logger` is a logger that can be used to collect statistics during training:\n",
    "    - `algo.logger.add_log(\"critic_loss\", critic_loss, algo.nb_steps)` registers the `critic_loss` value on tensorboard\n",
    "- `algo.evaluate()` evaluates the current `eval_policy` if needed, and keeps the\n",
    "agent if it was the best so far (average cumulated reward);\n",
    "- `algo.visualize_best()` runs the best agent on one episode, and displays the video\n",
    "\n",
    "\n",
    "\n",
    "Besides, it also defines an `iter_episodes` that allows to iterate over partial\n",
    "episodes (with `n_steps` from `n_envs` environments):\n",
    "\n",
    "```python3\n",
    "  # with partial episodes\n",
    "  for workspace in algo.iter_partial_episodes():\n",
    "      # workspace is a workspace containing 50 transitions\n",
    "      # (with autoreset)\n",
    "      ...\n",
    "```"
   ]
  },
  {
   "cell_type": "markdown",
   "id": "618daa51",
   "metadata": {
    "lines_to_next_cell": 2
   },
   "source": [
    "## Definition of PPO agents\n",
    "\n",
    "### Critic agent\n",
    "\n",
    "As A2C, PPO uses a value function $V(s)$. We thus call upon the `VAgent`\n",
    "class,  which takes an observation as input and whose output is the value of\n",
    "this observation."
   ]
  },
  {
   "cell_type": "code",
   "execution_count": 2,
   "id": "a611fc6e",
   "metadata": {
    "lines_to_next_cell": 2
   },
   "outputs": [],
   "source": [
    "class VAgent(Agent):\n",
    "    def __init__(self, state_dim, hidden_layers, name=\"critic\"):\n",
    "        super().__init__(name=name)\n",
    "        self.is_q_function = False\n",
    "        self.model = build_ortho_mlp(\n",
    "            [state_dim] + list(hidden_layers) + [1], activation=nn.ReLU()\n",
    "        )\n",
    "\n",
    "    def forward(self, t, **kwargs):\n",
    "        observation = self.get((\"env/env_obs\", t))\n",
    "        critic = self.model(observation).squeeze(-1)\n",
    "        self.set((f\"{self.prefix}v_values\", t), critic)"
   ]
  },
  {
   "cell_type": "markdown",
   "id": "995b0cad",
   "metadata": {
    "lines_to_next_cell": 2
   },
   "source": [
    "### KL penalty agent\n",
    "\n",
    "When computing the KL penalty, we need to compute the KL divergence at every\n",
    "time step. The KLAgent is specific to the KL regularization version of PPO. It\n",
    "is used to compute the KL divergence between the current and the past policy."
   ]
  },
  {
   "cell_type": "code",
   "execution_count": 4,
   "id": "2e9849b2",
   "metadata": {
    "lines_to_next_cell": 2
   },
   "outputs": [],
   "source": [
    "class KLAgent(Agent):\n",
    "    def __init__(self, model_1, model_2):\n",
    "        super().__init__()\n",
    "        self.model_1 = model_1\n",
    "        self.model_2 = model_2\n",
    "\n",
    "    def forward(self, t, **kwargs):\n",
    "        obs = self.get((\"env/env_obs\", t))\n",
    "        dist_1 = self.model_1.dist(obs)\n",
    "        dist_2 = self.model_2.dist(obs)\n",
    "        kl = torch.distributions.kl.kl_divergence(dist_1, dist_2)\n",
    "        self.set((\"kl\", t), kl)"
   ]
  },
  {
   "cell_type": "markdown",
   "id": "39fab23b",
   "metadata": {
    "lines_to_next_cell": 2
   },
   "source": [
    "### The DiscretePolicy\n",
    "\n",
    "The DiscretePolicy was already used in A2C to deal with discrete actions, but\n",
    "we have added the possibility to only predict the probability of an action\n",
    "using the ```predict_proba``` variable in the ```forward()``` function. The\n",
    "code is as follows."
   ]
  },
  {
   "cell_type": "code",
   "execution_count": 5,
   "id": "86e8b7c3",
   "metadata": {
    "lines_to_next_cell": 2
   },
   "outputs": [],
   "source": [
    "class DiscretePolicy(Agent):\n",
    "    def __init__(self, state_dim, hidden_size, n_actions, name=\"policy\"):\n",
    "        super().__init__(name=name)\n",
    "        self.model = build_ortho_mlp(\n",
    "            [state_dim] + list(hidden_size) + [n_actions], activation=nn.ReLU()\n",
    "        )\n",
    "\n",
    "    def dist(self, obs):\n",
    "        scores = self.model(obs)\n",
    "        probs = torch.softmax(scores, dim=-1)\n",
    "        return torch.distributions.Categorical(probs)\n",
    "\n",
    "    def forward(\n",
    "        self,\n",
    "        t,\n",
    "        *,\n",
    "        stochastic=True,\n",
    "        predict_proba=False,\n",
    "        compute_entropy=False,\n",
    "        **kwargs,\n",
    "    ):\n",
    "        \"\"\"\n",
    "        Compute the action given either a time step (looking into the workspace)\n",
    "        or an observation (in kwargs)\n",
    "        \"\"\"\n",
    "        observation = self.get((\"env/env_obs\", t))\n",
    "        scores = self.model(observation)\n",
    "        probs = torch.softmax(scores, dim=-1)\n",
    "\n",
    "        if predict_proba:\n",
    "            action = self.get((\"action\", t))\n",
    "            log_probs = probs[torch.arange(probs.size()[0]), action].log()\n",
    "            self.set((f\"{self.prefix}logprob_predict\", t), log_probs)\n",
    "        else:\n",
    "            if stochastic:\n",
    "                action = torch.distributions.Categorical(probs).sample()\n",
    "            else:\n",
    "                action = scores.argmax(1)\n",
    "\n",
    "            self.set((\"action\", t), action)\n",
    "\n",
    "        if compute_entropy:\n",
    "            entropy = torch.distributions.Categorical(probs).entropy()\n",
    "            self.set((f\"{self.prefix}entropy\", t), entropy)"
   ]
  },
  {
   "cell_type": "markdown",
   "id": "ac218a26",
   "metadata": {
    "lines_to_next_cell": 2
   },
   "source": [
    "### Main PPO agent\n",
    "\n",
    "In the following, we create the PPO Agent, with one policy and one critic,\n",
    "and their \"delayed\" versions (target network for the critic, and previous \n",
    "policy in the inner loop of the optimization)."
   ]
  },
  {
   "cell_type": "code",
   "execution_count": 7,
   "id": "2e102758",
   "metadata": {
    "lines_to_next_cell": 2
   },
   "outputs": [],
   "source": [
    "class PPOPenalty(EpisodicAlgo):\n",
    "    def __init__(self, cfg):\n",
    "        super().__init__(cfg, autoreset=True)\n",
    "\n",
    "        obs_size, act_size = self.train_env.get_obs_and_actions_sizes()\n",
    "        self.train_policy = globals()[cfg.algorithm.policy_type](\n",
    "            obs_size,\n",
    "            cfg.algorithm.architecture.actor_hidden_size,\n",
    "            act_size,\n",
    "        ).with_prefix(\"current_policy/\")\n",
    "        self.eval_policy = KWAgentWrapper(\n",
    "            self.train_policy, \n",
    "            stochastic=False,\n",
    "            predict_proba=False,\n",
    "            compute_entropy=False,\n",
    "        )\n",
    "\n",
    "        self.critic_agent = VAgent(\n",
    "            obs_size, cfg.algorithm.architecture.critic_hidden_size\n",
    "        ).with_prefix(\"critic/\")\n",
    "        self.old_critic_agent = copy.deepcopy(self.critic_agent).with_prefix(\"old_critic/\")\n",
    "        self.t_all_critics = TemporalAgent(\n",
    "            Agents(self.critic_agent, self.old_critic_agent)\n",
    "        )\n",
    "\n",
    "        self.old_policy = copy.deepcopy(self.train_policy)\n",
    "        self.old_policy.with_prefix(\"old_policy/\")\n",
    "        \n",
    "        self.t_kl_agent = TemporalAgent(KLAgent(self.old_policy, self.train_policy))\n",
    "\n",
    "        self.policy_optimizer = setup_optimizer(\n",
    "            cfg.optimizer, self.train_policy\n",
    "        )\n",
    "        self.critic_optimizer = setup_optimizer(\n",
    "            cfg.optimizer, self.critic_agent\n",
    "        )"
   ]
  },
  {
   "cell_type": "markdown",
   "id": "225b23f1",
   "metadata": {
    "lines_to_next_cell": 2
   },
   "source": [
    "### Main PPO loop\n",
    "\n",
    "In the cell below, we optimize the policy loss for PPO-KL, i.e.\n",
    "$$\n",
    "\\max_{\\theta} \\hat{\\mathbb{E}} _t\\left[\\frac{\\pi_\\theta\\left(a_t \\mid s_t\\right)}{\\pi_{\\theta_{\\text {old }}}\\left(a_t \\mid s_t\\right)} \\hat{A}_t-\\beta \\operatorname{KL}\\left[\\pi_{\\theta_{\\text {old }}}\\left(\\cdot \\mid s_t\\right), \\pi_\\theta\\left(\\cdot \\mid s_t\\right)\\right]\\right]\n",
    "$$"
   ]
  },
  {
   "cell_type": "code",
   "execution_count": 66,
   "id": "30dd79ff",
   "metadata": {
    "lines_to_next_cell": 2
   },
   "outputs": [],
   "source": [
    "from bbrl.utils.functional import gae\n",
    "\n",
    "\n",
    "def run_ppo_penalty(ppo: PPOPenalty):\n",
    "    cfg = ppo.cfg\n",
    "\n",
    "    # The old_policy params must be wrapped into a TemporalAgent\n",
    "    t_old_policy = TemporalAgent(ppo.old_policy)\n",
    "\n",
    "    # Training loop\n",
    "    for train_workspace in ppo.iter_partial_episodes():\n",
    "        # Run the current policy and evaluate the proba of its action according\n",
    "        # to the old policy The old_policy can be run after the train_agent on\n",
    "        # the same workspace because it writes a logprob_predict and not an\n",
    "        # action. That is, it does not determine the action of the old_policy,\n",
    "        # it just determines the proba of the action of the current policy given\n",
    "        # its own probabilities\n",
    "\n",
    "        # Compute the critic value over the whole workspace\n",
    "        ppo.t_all_critics(train_workspace, t=0, n_steps=cfg.algorithm.n_steps)\n",
    "\n",
    "        ws_terminated, ws_reward, ws_v_value, ws_old_v_value = train_workspace[\n",
    "            \"env/terminated\",\n",
    "            \"env/reward\",\n",
    "            \"critic/v_values\",\n",
    "            \"old_critic/v_values\",\n",
    "        ]\n",
    "\n",
    "        # --- Critic optimization\n",
    "\n",
    "        # Avoids to extreme V-values (helps stability)\n",
    "        if cfg.algorithm.clip_range_vf > 0:\n",
    "            # Clip the difference between old and new values\n",
    "            # NOTE: this depends on the reward scaling\n",
    "            ws_v_value = ws_old_v_value + torch.clamp(\n",
    "                ws_v_value - ws_old_v_value,\n",
    "                -cfg.algorithm.clip_range_vf,\n",
    "                cfg.algorithm.clip_range_vf,\n",
    "            )\n",
    "\n",
    "        # Compute the advantage using the (clamped) critic values\n",
    "        with torch.no_grad():\n",
    "            advantage = gae(\n",
    "                ws_reward[1:],\n",
    "                ws_v_value[1:],\n",
    "                ~ws_terminated[1:],\n",
    "                ws_v_value[:-1],\n",
    "                cfg.algorithm.discount_factor,\n",
    "                cfg.algorithm.gae,\n",
    "            )\n",
    "        \n",
    "        # Compute the critic loss with TD(0)\n",
    "        target = ws_reward[1:] + cfg.algorithm.discount_factor * ws_old_v_value[1:].detach() * (1 - ws_terminated[1:].int())\n",
    "        critic_loss = torch.nn.functional.mse_loss(ws_v_value[:-1], target) * cfg.algorithm.critic_coef\n",
    "        ppo.critic_optimizer.zero_grad()\n",
    "        critic_loss.backward()\n",
    "        torch.nn.utils.clip_grad_norm_(\n",
    "            ppo.critic_agent.parameters(), cfg.algorithm.max_grad_norm\n",
    "        )\n",
    "        ppo.critic_optimizer.step()\n",
    "        \n",
    "        # --- Policy optimization\n",
    "\n",
    "        # We store the advantage into the train_workspace\n",
    "        if cfg.algorithm.normalize_advantage and advantage.shape[1] > 1:\n",
    "            advantage = (advantage - advantage.mean()) / (advantage.std() + 1e-8)\n",
    "        train_workspace.set_full(\"advantage\", torch.cat(\n",
    "            (advantage, torch.zeros(1, advantage.shape[1]))\n",
    "        ))\n",
    "\n",
    "        with torch.no_grad():\n",
    "            # Just computes the probability of the old policy's action\n",
    "            # to get the ratio of probabilities\n",
    "            t_old_policy(\n",
    "                train_workspace,\n",
    "                t=0,\n",
    "                n_steps=cfg.algorithm.n_steps,\n",
    "                predict_proba=True,\n",
    "                compute_entropy=False,\n",
    "            )\n",
    "\n",
    "\n",
    "        transition_workspace = train_workspace.get_transitions()\n",
    "        for opt_epoch in range(cfg.algorithm.opt_epochs):\n",
    "            if cfg.algorithm.batch_size > 0:\n",
    "                sample_workspace = transition_workspace.select_batch_n(\n",
    "                    cfg.algorithm.batch_size\n",
    "                )\n",
    "            else:\n",
    "                sample_workspace = transition_workspace\n",
    "\n",
    "            # Compute the policy loss\n",
    "            \n",
    "            # Compute the KL divergence\n",
    "            ppo.t_kl_agent(sample_workspace, t=0, n_steps=1)\n",
    "            kl = sample_workspace[\"kl\"].squeeze(0)\n",
    "            \n",
    "            # Compute the probability of the played actions according to the current policy\n",
    "            # We do not replay the action: we use the one stored into the dataset\n",
    "            # Note that the policy is not wrapped into a TemporalAgent, but we use a single step\n",
    "            # Compute the ratio of action probabilities\n",
    "            # Compute the policy loss\n",
    "            \n",
    "            old_probs = torch.exp(sample_workspace[\"old_policy/logprob_predict\"][0])\n",
    "            \n",
    "            ppo.train_policy(sample_workspace, t=0, predict_proba=True, compute_entropy=True)\n",
    "            current_probs = torch.exp(sample_workspace[\"current_policy/logprob_predict\"][0])\n",
    "            \n",
    "            policy_advantage = sample_workspace[\"advantage\"][0]\n",
    "            \n",
    "            policy_loss = torch.mean(current_probs / old_probs * policy_advantage - cfg.algorithm.beta * kl)\n",
    "            loss_policy = -cfg.algorithm.policy_coef * policy_loss\n",
    "\n",
    "            # Entropy loss favors exploration\n",
    "            # Note that the standard PPO algorithms do not have an entropy term, they don't need it\n",
    "            # because the KL term is supposed to deal with exploration\n",
    "            # So, to run the standard PPO algorithm, you should set cfg.algorithm.entropy_coef=0\n",
    "            \n",
    "            entropy = sample_workspace[\"current_policy/entropy\"]\n",
    "            \n",
    "            assert len(entropy) == 1, f\"{entropy.shape}\"\n",
    "            entropy_loss = entropy[0].mean()\n",
    "            loss_entropy = -cfg.algorithm.entropy_coef * entropy_loss\n",
    "\n",
    "            # Store the losses for tensorboard display\n",
    "            ppo.logger.log_losses(critic_loss, entropy_loss, policy_loss, ppo.nb_steps)\n",
    "            ppo.logger.add_log(\"advantage\", policy_advantage.mean(), ppo.nb_steps)\n",
    "\n",
    "            ppo.policy_optimizer.zero_grad()\n",
    "            loss = loss_policy + loss_entropy\n",
    "            loss.backward()\n",
    "            torch.nn.utils.clip_grad_norm_(\n",
    "                ppo.train_policy.parameters(), cfg.algorithm.max_grad_norm\n",
    "            )\n",
    "            ppo.policy_optimizer.step()\n",
    "\n",
    "        # Copy parameters\n",
    "        copy_parameters(ppo.train_policy, ppo.old_policy)\n",
    "        copy_parameters(ppo.critic_agent, ppo.old_critic_agent)\n",
    "        \n",
    "        # Evaluate\n",
    "        ppo.evaluate()"
   ]
  },
  {
   "cell_type": "markdown",
   "id": "020ce760",
   "metadata": {
    "lines_to_next_cell": 2
   },
   "source": [
    "## Definition of the parameters"
   ]
  },
  {
   "cell_type": "code",
   "execution_count": 56,
   "id": "3a67cd6b",
   "metadata": {},
   "outputs": [],
   "source": [
    "params = {\n",
    "    \"base_dir\": \"${gym_env.env_name}/ppo-kl-S${algorithm.seed}-b${algorithm.beta}_${current_time:}\",\n",
    "    \"save_best\": False,\n",
    "    \"algorithm\": {\n",
    "        \"seed\": 12,\n",
    "        \"n_envs\": 8,\n",
    "        \"n_steps\": 32,\n",
    "        \"normalize_advantage\": False,\n",
    "        \"eval_interval\": 1000,\n",
    "        \"nb_evals\": 10,\n",
    "        \"gae\": 0.8,\n",
    "        \"discount_factor\": 0.98,\n",
    "        \"opt_epochs\": 10,\n",
    "        \"batch_size\": 256,\n",
    "        \"max_grad_norm\": 0.5,\n",
    "        \"policy_coef\": 1.,\n",
    "        \"beta\": 5.0,\n",
    "        \"clip_range_vf\": 0,\n",
    "        \"entropy_coef\": 0,\n",
    "        \"critic_coef\": 1.0,\n",
    "        \"policy_type\": \"DiscretePolicy\",\n",
    "        \"architecture\": {\n",
    "            \"actor_hidden_size\": [64, 64],\n",
    "            \"critic_hidden_size\": [64, 64],\n",
    "        },\n",
    "        \"max_epochs\": 5000,\n",
    "    },\n",
    "    \"gym_env\": {\n",
    "        \"env_name\": \"CartPole-v1\",\n",
    "    },\n",
    "    \"optimizer\": {\n",
    "        \"classname\": \"torch.optim.Adam\",\n",
    "        \"lr\": 1e-3,\n",
    "        \"eps\": 1e-5,\n",
    "    },\n",
    "}"
   ]
  },
  {
   "cell_type": "markdown",
   "id": "28bcebca",
   "metadata": {},
   "source": [
    "### Launching tensorboard to visualize the results"
   ]
  },
  {
   "cell_type": "code",
   "execution_count": null,
   "id": "957ad00a",
   "metadata": {},
   "outputs": [],
   "source": [
    "setup_tensorboard(\"./outputs/tblogs\")"
   ]
  },
  {
   "cell_type": "code",
   "execution_count": 67,
   "id": "19aefb0c",
   "metadata": {},
   "outputs": [
    {
     "data": {
      "application/vnd.jupyter.widget-view+json": {
       "model_id": "46526cc894c64b969b9b4a13d56c6a3a",
       "version_major": 2,
       "version_minor": 0
      },
      "text/plain": [
       "  0%|          | 0/5000 [00:00<?, ?it/s]"
      ]
     },
     "metadata": {},
     "output_type": "display_data"
    }
   ],
   "source": [
    "cfg = OmegaConf.create(params)\n",
    "ppo_kl = PPOPenalty(cfg)\n",
    "run_ppo_penalty(ppo_kl)"
   ]
  },
  {
   "cell_type": "code",
   "execution_count": 68,
   "id": "b927329c",
   "metadata": {},
   "outputs": [
    {
     "name": "stdout",
     "output_type": "stream",
     "text": [
      "Video of best agent recorded in outputs\\CartPole-v1\\ppo-kl-S12-b5.0_20241118-195636\\best_agent.mp4\n",
      "Moviepy - Building video D:\\rld\\6\\outputs\\CartPole-v1\\ppo-kl-S12-b5.0_20241118-195636\\best_agent.mp4.\n",
      "Moviepy - Writing video D:\\rld\\6\\outputs\\CartPole-v1\\ppo-kl-S12-b5.0_20241118-195636\\best_agent.mp4\n",
      "\n"
     ]
    },
    {
     "name": "stderr",
     "output_type": "stream",
     "text": [
      "                                                               \r"
     ]
    },
    {
     "name": "stdout",
     "output_type": "stream",
     "text": [
      "Moviepy - Done !\n",
      "Moviepy - video ready D:\\rld\\6\\outputs\\CartPole-v1\\ppo-kl-S12-b5.0_20241118-195636\\best_agent.mp4\n"
     ]
    },
    {
     "data": {
      "text/html": [
       "<div align=middle><video src='data:video/mp4;base64,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' controls>Sorry, seems like your browser doesn't support HTML5 audio/video</video></div>"
      ],
      "text/plain": [
       "<moviepy.video.io.html_tools.HTML2 object>"
      ]
     },
     "execution_count": 68,
     "metadata": {},
     "output_type": "execute_result"
    }
   ],
   "source": [
    "ppo_kl.visualize_best()"
   ]
  }
 ],
 "metadata": {
  "jupytext": {
   "cell_markers": "\"\"\""
  },
  "kernelspec": {
   "display_name": "deepdac",
   "language": "python",
   "name": "python3"
  },
  "language_info": {
   "codemirror_mode": {
    "name": "ipython",
    "version": 3
   },
   "file_extension": ".py",
   "mimetype": "text/x-python",
   "name": "python",
   "nbconvert_exporter": "python",
   "pygments_lexer": "ipython3",
   "version": "3.9.19"
  }
 },
 "nbformat": 4,
 "nbformat_minor": 5
}
