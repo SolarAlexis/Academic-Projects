{
 "cells": [
  {
   "cell_type": "markdown",
   "id": "ec7ab4b0",
   "metadata": {
    "lines_to_next_cell": 2
   },
   "source": [
    " Copyright © Sorbonne University.\n",
    "\n",
    " This source code is licensed under the MIT license found in the LICENSE file\n",
    " in the root directory of this source tree."
   ]
  },
  {
   "cell_type": "markdown",
   "id": "aac7d8f3",
   "metadata": {},
   "source": [
    "# Outlook\n",
    "In this notebook, using BBRL, we code a simple version of the DQN algorithm\n",
    "without a replay buffer nor a target network so as to better understand the\n",
    "inner mechanisms.\n",
    "\n",
    "To understand this code, you need to know more about [the BBRL interaction\n",
    "model](https://github.com/osigaud/bbrl/blob/master/docs/overview.md) Then you\n",
    "should run [a didactical\n",
    "example](https://github.com/osigaud/bbrl/blob/master/docs/notebooks/02-multi_env_noautoreset.student.ipynb)\n",
    "to see how agents interact in BBRL when autoreset=False.\n",
    "\n",
    "The DQN algorithm is explained in [this\n",
    "video](https://www.youtube.com/watch?v=CXwvOMJujZk) and you can also read [the\n",
    "corresponding slides](http://pages.isir.upmc.fr/~sigaud/teach/dqn.pdf)."
   ]
  },
  {
   "cell_type": "code",
   "execution_count": 1,
   "id": "36506820",
   "metadata": {
    "tags": [
     "hide-input"
    ]
   },
   "outputs": [
    {
     "name": "stderr",
     "output_type": "stream",
     "text": [
      "c:\\Users\\asola\\.conda\\envs\\deepdac\\lib\\site-packages\\bbrl_utils\\notebook.py:46: TqdmExperimentalWarning: Using `tqdm.autonotebook.tqdm` in notebook mode. Use `tqdm.tqdm` instead to force console mode (e.g. in jupyter console)\n",
      "  from tqdm.autonotebook import tqdm  # noqa: F401\n"
     ]
    }
   ],
   "source": [
    "# Prepare the environment\n",
    "try:\n",
    "    from easypip import easyimport\n",
    "except ModuleNotFoundError:\n",
    "    from subprocess import run\n",
    "    assert run([\"pip\", \"install\", \"easypip\"]).returncode == 0, \"Could not install easypip\"\n",
    "    from easypip import easyimport\n",
    "\n",
    "easyimport(\"swig\")\n",
    "easyimport(\"bbrl_utils\").setup(maze_mdp=True)\n",
    "\n",
    "import os\n",
    "\n",
    "import bbrl_gymnasium  # noqa: F401\n",
    "import torch\n",
    "import torch.nn as nn\n",
    "from bbrl.agents import Agent, Agents\n",
    "from bbrl_utils.algorithms import EpisodicAlgo\n",
    "from bbrl_utils.nn import build_mlp, setup_optimizer\n",
    "from bbrl_utils.notebook import setup_tensorboard\n",
    "from omegaconf import OmegaConf"
   ]
  },
  {
   "cell_type": "markdown",
   "id": "033aeaad",
   "metadata": {},
   "source": [
    "# Learning environment\n",
    "\n",
    "## Configuration\n",
    "\n",
    "The learning environment is controlled by a configuration that define a few\n",
    "important things as described in the example below. This configuration can\n",
    "hold as many extra information as you need, the example below is the minimal\n",
    "one.\n",
    "\n",
    "```python\n",
    "params = {\n",
    "    # This defines the a path for logs and saved models\n",
    "    \"base_dir\": \"${gym_env.env_name}/myalgo_${current_time:}\",\n",
    "\n",
    "    # The Gymnasium environment\n",
    "    \"gym_env\": {\n",
    "        \"env_name\": \"CartPoleContinuous-v1\",\n",
    "    },\n",
    "\n",
    "    # Algorithm\n",
    "    \"algorithm\": {\n",
    "        # Seed used for the random number generator\n",
    "        \"seed\": 1023,\n",
    "\n",
    "        # Number of parallel training environments\n",
    "        \"n_envs\": 8,\n",
    "                \n",
    "        # Minimum number of steps between two evaluations\n",
    "        \"eval_interval\": 500,\n",
    "        \n",
    "        # Number of parallel evaluation environments\n",
    "        \"nb_evals\": 10,\n",
    "\n",
    "        # Number of epochs (loops)\n",
    "        \"max_epochs\": 40000,\n",
    "\n",
    "    },\n",
    "}\n",
    "\n",
    "# Creates the configuration object, i.e. cfg.algorithm.nb_evals is 10\n",
    "cfg = OmegaConf.create(params)\n",
    "```\n",
    "\n",
    "## The RL algorithm\n",
    "\n",
    "In this notebook, the RL algorithm is based on `EpisodicAlgo`, that defines\n",
    "the algorithm environment when using episodes. To use such environment, we\n",
    "just need to subclass `EpisodicAlgo` and to define two things, namely the\n",
    "`train_policy` and the `eval_policy`. Both are BBRL agents that, given the\n",
    "environment state, select the action to perform.\n",
    "\n",
    "```py\n",
    "  class MyAlgo(EpisodicAlgo):\n",
    "      def __init__(self, cfg):\n",
    "          super().__init__(cfg)\n",
    "\n",
    "          # Define the train and evaluation policies\n",
    "          # (the agents compute the workspace `action` variable)\n",
    "          self.train_policy = MyPolicyAgent(...)\n",
    "          self.eval_policy = MyEvalAgent(...)\n",
    "\n",
    "algo = MyAlgo(cfg)\n",
    "```\n",
    "\n",
    "The `EpisodicAlgo` defines useful objects:\n",
    "\n",
    "- `algo.cfg` is the configuration\n",
    "- `algo.nb_steps` (integer) is the number of steps since the training began\n",
    "- `algo.logger` is a logger that can be used to collect statistics during training:\n",
    "    - `algo.logger.add_log(\"critic_loss\", critic_loss, algo.nb_steps)` registers the `critic_loss` value on tensorboard\n",
    "- `algo.evaluate()` evaluates the current `eval_policy` if needed, and keeps the\n",
    "agent if it was the best so far (average cumulated reward);\n",
    "- `algo.visualize_best()` runs the best agent on one episode, and displays the video\n",
    "\n",
    "\n",
    "\n",
    "Besides, it also defines an `iter_episodes` is simple:\n",
    "\n",
    "```py\n",
    "  # With episodes\n",
    "  for workspace in rl_algo.iter_episodes():\n",
    "      # workspace is a workspace containing transitions\n",
    "      # Episodes shorter than the longer one contain duplicated\n",
    "      # transitions (with `env/done` set to true)\n",
    "      ...\n",
    "```"
   ]
  },
  {
   "cell_type": "markdown",
   "id": "c5125038",
   "metadata": {},
   "source": [
    "## Definition of agents\n",
    "\n",
    "The [DQN](https://daiwk.github.io/assets/dqn.pdf) algorithm is a critic only\n",
    "algorithm. Thus we just need a Critic agent (which is also used to output\n",
    "actions) and an Environment agent.\n",
    "\n",
    "### The critic agent\n",
    "\n",
    "The critic agent is an instance of the `DiscreteQAgent` class. We first build\n",
    "a deterministic neural network that takes the state as input (so it has one\n",
    "input neuron per state variable) and that outputs the Q-value of each action\n",
    "in that state (so it has one output neuron per action)."
   ]
  },
  {
   "cell_type": "markdown",
   "id": "3052068e",
   "metadata": {
    "lines_to_next_cell": 2
   },
   "source": [
    "As any BBRL agent, the DiscreteQAgent has a `forward()` function that takes a\n",
    "time state as input. This `forward()` function outputs the Q-values of all\n",
    "actions at the corresponding time step. Additionally, if the critic is used to\n",
    "choose an action, it also outputs the chosen action at the same time step."
   ]
  },
  {
   "cell_type": "code",
   "execution_count": 2,
   "id": "c0639d7b",
   "metadata": {
    "lines_to_next_cell": 2
   },
   "outputs": [],
   "source": [
    "class DiscreteQAgent(Agent):\n",
    "    \"\"\"BBRL agent (discrete actions) based on a MLP\"\"\"\n",
    "\n",
    "    def __init__(self, state_dim, hidden_layers, action_dim):\n",
    "        super().__init__()\n",
    "        self.model = build_mlp(\n",
    "            [state_dim] + list(hidden_layers) + [action_dim], activation=nn.ReLU()\n",
    "        )\n",
    "\n",
    "    def forward(self, t: int, **kwargs):\n",
    "        \"\"\"An Agent can use self.workspace\"\"\"\n",
    "\n",
    "        # Retrieves the observation from the environment at time t\n",
    "        obs = self.get((\"env/env_obs\", t))\n",
    "\n",
    "        # Computes the critic (Q) values for the observation\n",
    "        q_values = self.model(obs)\n",
    "\n",
    "        # ... and sets the q-values (one for each possible action)\n",
    "        self.set((\"q_values\", t), q_values)"
   ]
  },
  {
   "cell_type": "markdown",
   "id": "8361327b",
   "metadata": {},
   "source": [
    "#### Greedily choosing the action\n",
    "\n",
    "The ArgmaxActionSelector is in charge of choosing the action whose Q-value is\n",
    "the highest given the Q-values of all actions. We may use it when we do not\n",
    "want to explore."
   ]
  },
  {
   "cell_type": "code",
   "execution_count": 3,
   "id": "b9eb81a4",
   "metadata": {
    "lines_to_next_cell": 2
   },
   "outputs": [],
   "source": [
    "class ArgmaxActionSelector(Agent):\n",
    "    \"\"\"BBRL agent that selects the best action based on Q(s,a)\"\"\"\n",
    "\n",
    "    def forward(self, t: int, **kwargs):\n",
    "        q_values = self.get((\"q_values\", t))\n",
    "        action = q_values.argmax(1)\n",
    "        self.set((\"action\", t), action)"
   ]
  },
  {
   "cell_type": "markdown",
   "id": "064e78a0",
   "metadata": {
    "lines_to_next_cell": 2
   },
   "source": [
    "### Creating an Exploration method\n",
    "\n",
    "As Q-learning, DQN needs some exploration to prevent too early convergence.\n",
    "Here we use the simple $\\epsilon$-greedy exploration method.\n",
    "It is implemented as an agent which chooses an action based on the Q-values."
   ]
  },
  {
   "cell_type": "code",
   "execution_count": 4,
   "id": "cace5fad",
   "metadata": {
    "lines_to_next_cell": 2
   },
   "outputs": [],
   "source": [
    "class EGreedyActionSelector(Agent):\n",
    "    def __init__(self, epsilon):\n",
    "        super().__init__()\n",
    "        self.epsilon = epsilon\n",
    "\n",
    "    def forward(self, t: int, **kwargs):\n",
    "        # Retrieves the q values\n",
    "        # (matrix nb. of episodes x nb. of actions)\n",
    "        q_values: torch.Tensor = self.get((\"q_values\", t))\n",
    "        size, nb_actions = q_values.shape\n",
    "\n",
    "        # Flag\n",
    "        is_random = torch.rand(size) > self.epsilon\n",
    "        \n",
    "        # Actions (random / argmax)\n",
    "        random_action = torch.randint(nb_actions, size=(size,))\n",
    "        max_action = q_values.argmax(-1)\n",
    "\n",
    "        # Choose the action based on the is_random flag\n",
    "        action = torch.where(is_random, random_action, max_action)\n",
    "\n",
    "        # Sets the action at time t\n",
    "        self.set((\"action\", t), action)"
   ]
  },
  {
   "cell_type": "markdown",
   "id": "ce974a73",
   "metadata": {},
   "source": [
    "## Heart of the algorithm\n",
    "\n",
    "### Computing the critic loss\n",
    "\n",
    "The role of the `compute_critic_loss` function is to implement the Bellman\n",
    "backup rule. In Q-learning, this rule was written:\n",
    "\n",
    "$$Q(s_t,a_t) \\leftarrow Q(s_t,a_t) + \\alpha [ r(s_t,a_t) + \\gamma \\max_a\n",
    "Q(s_{t+1},a) - Q(s_t,a_t)]$$\n",
    "\n",
    "In DQN, the update rule $Q \\leftarrow Q + \\alpha [\\delta] $ is replaced by a\n",
    "gradient descent step over the Q-network.\n",
    "\n",
    "We first compute a target value: $ target = r(s_t,a_t) + \\gamma \\max_a\n",
    "Q(s_{t+1},a)$ from a set of samples.\n",
    "\n",
    "Then we get a TD error $\\delta$ by substracting $Q(s_t,a_t)$ for these\n",
    "samples, and we use the squared TD error as a loss function: $ loss = (target - Q(s_t,a_t))^2$.\n",
    "\n",
    "To implement the above calculation in BBRL, the difficulty is to properly deal\n",
    "with time indexes.\n",
    "\n",
    "The `compute_critic_loss` function receives rewards, q_values and actions as\n",
    "tensors that have been computed over a complete episode.\n",
    "\n",
    "We need to take `reward[1:]`, which means all the rewards except the first one\n",
    "because the reward from $(s_t, a_t)$ is $r_{t+1}$. Similarly, to get $\\max_a\n",
    "Q(s_{t+1}, a)$, we need to ignore the first of the max_q values, using\n",
    "`max_q[1:]`.\n",
    "\n",
    "Do not forget to apply .detach() when computing the values of $\\max_a\n",
    "Q(s_{t+1}, a)$, as **we do not want to apply gradient descent on this $\\max_a\n",
    "Q(s_{t+1}, a)$**, we only apply gradient descent to $Q(s_t, a_t)$ according to\n",
    "this target value. In practice, `x.detach()` detaches a computation graph from\n",
    "a tensor, so it avoids computing a gradient over this tensor.\n",
    "\n",
    "The `must_bootstrap` tensor is used as a trick to deal with terminal states,\n",
    "as explained\n",
    "[here](https://github.com/osigaud/bbrl/blob/master/docs/time_limits.md) In\n",
    "practice, `must_bootstrap` is the logical negation of `terminated`. In the\n",
    "autoreset=False version we use full episodes, thus `must_bootstrap` is always\n",
    "True for all steps but the last one.\n",
    "\n",
    "To compute $Q(s_t,a_t)$ we use the [`torch.gather()`](https://pytorch.org/docs/stable/generated/torch.gather.html) function. This function is\n",
    "a little tricky to use, see [this\n",
    "page](https://github.com/osigaud/bbrl/blob/master/docs/using_gather.md) for\n",
    "useful explanations.\n",
    "\n",
    "In particular, the q_vals output that we get is not properly conditioned,\n",
    "hence the need for the `qval[:-1]` (we ignore the last dimension). Finally we\n",
    "just need to compute the difference target - qvals, square it, take the mean\n",
    "and send it back as the loss."
   ]
  },
  {
   "cell_type": "code",
   "execution_count": 5,
   "id": "b9a9db07",
   "metadata": {
    "lines_to_next_cell": 2
   },
   "outputs": [],
   "source": [
    "def compute_critic_loss(\n",
    "    cfg,\n",
    "    reward: torch.Tensor,\n",
    "    must_bootstrap: torch.Tensor,\n",
    "    done: torch.Tensor,\n",
    "    q_values: torch.Tensor,\n",
    "    action: torch.LongTensor,\n",
    ") -> torch.Tensor:\n",
    "    \"\"\"Compute the temporal difference loss from a dataset to\n",
    "    update a critic\n",
    "\n",
    "    For the tensor dimensions:\n",
    "\n",
    "    - T = maximum number of time steps\n",
    "    - B = number of episodes run in parallel\n",
    "    - A = action space dimension\n",
    "\n",
    "    :param cfg: The configuration\n",
    "    :param reward: A (T x B) tensor containing the rewards\n",
    "    :param must_bootstrap: a (T x B) tensor containing 0 at (t, b) if the\n",
    "        episode b was terminated at time $t$ (or before)\n",
    "    :param done: a (T x B) tensor containing 0 at (t, b) if the\n",
    "        episode b is truncated or terminated at time $t$ (or before)\n",
    "    :param q_values: a (T x B x A) tensor containing the Q-values at each time\n",
    "        step, and for each action\n",
    "    :param action: a (T x B) long tensor containing the chosen action\n",
    "\n",
    "    :return: The DQN loss\n",
    "    \"\"\"\n",
    "    # We compute the max of Q-values over all actions and detach (so that this\n",
    "    # part of the computation graph is not included in the gradient\n",
    "    # backpropagation)\n",
    "\n",
    "    # Compute the loss\n",
    "\n",
    "    max_q = q_values.max(-1).values.detach()\n",
    "    \n",
    "    target = (reward[1:] + cfg.algorithm.discount_factor * max_q[1:] * must_bootstrap[1:].int())\n",
    "\n",
    "    qsa_t = q_values.gather(2, action.unsqueeze(-1)).squeeze(-1)\n",
    "    \n",
    "    not_done = (~done[:-1]).int()\n",
    "    \n",
    "    td = (target - qsa_t[:-1]) ** 2 * not_done\n",
    "    \n",
    "    critic_loss = td.sum() / not_done.sum()\n",
    "\n",
    "    return critic_loss"
   ]
  },
  {
   "cell_type": "markdown",
   "id": "de6aeeef",
   "metadata": {
    "lines_to_next_cell": 2
   },
   "source": [
    "## Main training loop\n",
    "\n",
    "Note that everything about the shared workspace between all the agents is\n",
    "completely hidden under the hood. This results in a gain of productivity, at\n",
    "the expense of having to dig into the BBRL code if you want to understand the\n",
    "details, change the multiprocessing model, etc.\n",
    "\n",
    "The next cells defines a `EpisodicDQN` that deals with various part of the\n",
    "training loop."
   ]
  },
  {
   "cell_type": "code",
   "execution_count": 6,
   "id": "e06d471b",
   "metadata": {},
   "outputs": [],
   "source": [
    "class EpisodicDQN(EpisodicAlgo):\n",
    "    def __init__(self, cfg):\n",
    "        super().__init__(cfg)\n",
    "\n",
    "        # Get the observation / action state space dimensions\n",
    "        obs_size, act_size = self.train_env.get_obs_and_actions_sizes()\n",
    "\n",
    "        # Our discrete Q-Agent\n",
    "        self.q_agent = DiscreteQAgent(\n",
    "            obs_size, cfg.algorithm.architecture.hidden_size, act_size\n",
    "        )\n",
    "\n",
    "        # The e-greedy strategy (when training)\n",
    "        explorer = EGreedyActionSelector(cfg.algorithm.epsilon)\n",
    "\n",
    "        # The training agent combines the Q agent\n",
    "        self.train_policy = Agents(self.q_agent, explorer)\n",
    "\n",
    "        # The optimizer for the Q-Agent parameters\n",
    "        self.optimizer = setup_optimizer(self.cfg.optimizer, self.q_agent)\n",
    "\n",
    "        # ...and the evaluation policy (select the most likely action)\n",
    "        self.eval_policy = Agents(self.q_agent, ArgmaxActionSelector())\n",
    "\n",
    "    def run(self):\n",
    "        for train_workspace in self.iter_episodes():\n",
    "            q_values, terminated, done, reward, action = train_workspace[\n",
    "                \"q_values\", \"env/terminated\", \"env/done\", \"env/reward\", \"action\"\n",
    "            ]\n",
    "\n",
    "            # Determines whether values of the critic should be propagated\n",
    "            # True if the episode reached a time limit or if the task was not done\n",
    "            # See https://github.com/osigaud/bbrl/blob/master/docs/time_limits.md\n",
    "            must_bootstrap = ~terminated\n",
    "\n",
    "            # Compute critic loss\n",
    "            critic_loss = compute_critic_loss(\n",
    "                self.cfg, reward, must_bootstrap, done, q_values, action\n",
    "            )\n",
    "\n",
    "            # Store the loss for tensorboard display\n",
    "            self.logger.add_log(\"critic_loss\", critic_loss, self.nb_steps)\n",
    "            dqn.logger.add_log(\"q_values/min\", q_values.max(-1).values.min(), dqn.nb_steps)\n",
    "            dqn.logger.add_log(\"q_values/max\", q_values.max(-1).values.max(), dqn.nb_steps)\n",
    "            dqn.logger.add_log(\"q_values/mean\", q_values.max(-1).values.mean(), dqn.nb_steps)\n",
    "\n",
    "            # Gradient step\n",
    "            self.optimizer.zero_grad()\n",
    "            critic_loss.backward()\n",
    "            torch.nn.utils.clip_grad_norm_(\n",
    "                self.q_agent.parameters(), self.cfg.algorithm.max_grad_norm\n",
    "            )\n",
    "            self.optimizer.step()\n",
    "\n",
    "            # Evaluate the current policy (if needed)\n",
    "            self.evaluate()"
   ]
  },
  {
   "cell_type": "code",
   "execution_count": 9,
   "id": "d6c360f8",
   "metadata": {
    "lines_to_next_cell": 2
   },
   "outputs": [
    {
     "name": "stdout",
     "output_type": "stream",
     "text": [
      "Launch tensorboard from the shell: \n",
      "c:\\Users\\asola\\.conda\\envs\\deepdac/tensorboard --logdir 'd:\\rld\\dqn\\outputs'\n"
     ]
    }
   ],
   "source": [
    "# We setup tensorboard before running DQN\n",
    "setup_tensorboard(\"./outputs/tblogs\")"
   ]
  },
  {
   "cell_type": "code",
   "execution_count": 10,
   "id": "d8f8ef11",
   "metadata": {},
   "outputs": [],
   "source": [
    "params = {\n",
    "    \"save_best\": False,\n",
    "    \"base_dir\": \"${gym_env.env_name}/dqn-simple-S${algorithm.seed}_${current_time:}\",\n",
    "    \"collect_stats\": True,\n",
    "    \"algorithm\": {\n",
    "        \"seed\": 3,\n",
    "        \"max_grad_norm\": 0.5,\n",
    "        \"epsilon\": 0.1,\n",
    "        \"n_envs\": 8,\n",
    "        \"eval_interval\": 5_000,\n",
    "        \"max_epochs\": 500,\n",
    "        \"nb_evals\": 10,\n",
    "        \"discount_factor\": 0.99,\n",
    "        \"architecture\": {\"hidden_size\": [256, 256]},\n",
    "    },\n",
    "    \"gym_env\": {\n",
    "        \"env_name\": \"CartPole-v1\",\n",
    "    },\n",
    "    \"optimizer\": {\n",
    "        \"classname\": \"torch.optim.Adam\",\n",
    "        \"lr\": 2e-3,\n",
    "    },\n",
    "}\n",
    "\n",
    "dqn = EpisodicDQN(OmegaConf.create(params))"
   ]
  },
  {
   "cell_type": "code",
   "execution_count": 11,
   "id": "43ceada5",
   "metadata": {},
   "outputs": [
    {
     "data": {
      "application/vnd.jupyter.widget-view+json": {
       "model_id": "75937abbab0e4302aedd46c21fbf668e",
       "version_major": 2,
       "version_minor": 0
      },
      "text/plain": [
       "  0%|          | 0/500 [00:00<?, ?it/s]"
      ]
     },
     "metadata": {},
     "output_type": "display_data"
    },
    {
     "name": "stdout",
     "output_type": "stream",
     "text": [
      "Video of best agent recorded in outputs\\CartPole-v1\\dqn-simple-S3_20241009-143613\\best_agent.mp4\n",
      "Moviepy - Building video D:\\rld\\dqn\\outputs\\CartPole-v1\\dqn-simple-S3_20241009-143613\\best_agent.mp4.\n",
      "Moviepy - Writing video D:\\rld\\dqn\\outputs\\CartPole-v1\\dqn-simple-S3_20241009-143613\\best_agent.mp4\n",
      "\n"
     ]
    },
    {
     "name": "stderr",
     "output_type": "stream",
     "text": [
      "                                                               \r"
     ]
    },
    {
     "name": "stdout",
     "output_type": "stream",
     "text": [
      "Moviepy - Done !\n",
      "Moviepy - video ready D:\\rld\\dqn\\outputs\\CartPole-v1\\dqn-simple-S3_20241009-143613\\best_agent.mp4\n"
     ]
    },
    {
     "data": {
      "text/html": [
       "<div align=middle><video src='data:video/mp4;base64,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' controls>Sorry, seems like your browser doesn't support HTML5 audio/video</video></div>"
      ],
      "text/plain": [
       "<moviepy.video.io.html_tools.HTML2 object>"
      ]
     },
     "execution_count": 11,
     "metadata": {},
     "output_type": "execute_result"
    }
   ],
   "source": [
    "# Run and visualize the best agent\n",
    "dqn.run()\n",
    "dqn.visualize_best()"
   ]
  },
  {
   "cell_type": "markdown",
   "id": "ac2b7678",
   "metadata": {},
   "source": [
    "## What's next?\n",
    "\n",
    "To get a full DQN, we need to do the following:\n",
    "- Add a replay buffer. We can add a replay buffer independently from the\n",
    "  target network. The version with a replay buffer and no target network\n",
    "  corresponds to [the NQF\n",
    "  algorithm](https://link.springer.com/content/pdf/10.1007/11564096_32.pdf).\n",
    "  This will be the aim of the next notebook.\n",
    "- Before adding the replay buffer, we will first move to a version of DQN\n",
    "  which uses the AutoResetGymAgent. This will be the aim of the next notebook\n",
    "  too.\n",
    "- We should also add a few extra-mechanisms which are present in the full DQN\n",
    "  version: starting to learn once the replay buffer is full enough, decreasing\n",
    "  the exploration rate epsilon...\n",
    "<!-- - We could also add visualization tools to visualize the learned Q network, by using the `plot_critic` function available in [`bbrl.visu.visu_critics`](https://github.com/osigaud/bbrl/blob/master/src/bbrl/visu/visu_critics.py#L13) -->"
   ]
  }
 ],
 "metadata": {
  "jupytext": {
   "cell_markers": "\"\"\""
  },
  "kernelspec": {
   "display_name": "deepdac",
   "language": "python",
   "name": "python3"
  },
  "language_info": {
   "codemirror_mode": {
    "name": "ipython",
    "version": 3
   },
   "file_extension": ".py",
   "mimetype": "text/x-python",
   "name": "python",
   "nbconvert_exporter": "python",
   "pygments_lexer": "ipython3",
   "version": "3.9.19"
  }
 },
 "nbformat": 4,
 "nbformat_minor": 5
}
